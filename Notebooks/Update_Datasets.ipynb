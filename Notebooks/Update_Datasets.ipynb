{
  "nbformat": 4,
  "nbformat_minor": 0,
  "metadata": {
    "colab": {
      "name": "Update_Datasets.ipynb",
      "provenance": [],
      "collapsed_sections": [],
      "toc_visible": true
    },
    "kernelspec": {
      "display_name": "Python 3",
      "name": "python3"
    }
  },
  "cells": [
    {
      "cell_type": "markdown",
      "metadata": {
        "id": "JFrlEwd3k51e"
      },
      "source": [
        "# Update Datasets\r\n",
        "\r\n",
        "Outline:\r\n",
        "\r\n",
        "- PreReq\r\n",
        "- Ticker List\r\n",
        "- Static Data:\r\n",
        "-- Quotes\r\n",
        "-- Description\r\n",
        "-- Fundamental\r\n",
        "- Live Data:\r\n",
        "-- Intraday Quotes\r\n",
        "-- News"
      ]
    },
    {
      "cell_type": "markdown",
      "metadata": {
        "id": "bzRBOHJ9lggy"
      },
      "source": [
        "## Pre-Requisites"
      ]
    },
    {
      "cell_type": "markdown",
      "metadata": {
        "id": "zzmOtjjDlrGj"
      },
      "source": [
        "### G-Drive Connect\r\n",
        "Authorise google colaboratory to access drive."
      ]
    },
    {
      "cell_type": "code",
      "metadata": {
        "id": "CsKWSxVdk2xA"
      },
      "source": [
        "from google.colab import drive\r\n",
        "drive.mount('/content/drive')\r\n",
        "from IPython.display import clear_output \r\n",
        "clear_output()"
      ],
      "execution_count": 1,
      "outputs": []
    },
    {
      "cell_type": "markdown",
      "metadata": {
        "id": "ZGmTUMV3hzr1"
      },
      "source": [
        "### Requirements"
      ]
    },
    {
      "cell_type": "code",
      "metadata": {
        "id": "zawoEri-h2QW"
      },
      "source": [
        "!pip install yfinance finvizfinance finviz finpie yahoo_fin\r\n",
        "clear_output()"
      ],
      "execution_count": 2,
      "outputs": []
    },
    {
      "cell_type": "markdown",
      "metadata": {
        "id": "DgVidgmhhhg9"
      },
      "source": [
        "### Import dependencies"
      ]
    },
    {
      "cell_type": "code",
      "metadata": {
        "id": "dzNzArDOhorw"
      },
      "source": [
        "import pandas as pd\r\n",
        "import finpie\r\n",
        "import yfinance as yf\r\n",
        "import finviz\r\n",
        "import finvizfinance\r\n",
        "import time\r\n",
        "import progressbar\r\n",
        "from finvizfinance.screener.overview import Overview\r\n",
        "from yahoo_fin import stock_info as si\r\n",
        "import requests\r\n",
        "from pandas_datareader import data as pdr\r\n",
        "import warnings\r\n",
        "warnings.filterwarnings(\"ignore\")\r\n",
        "clear_output()"
      ],
      "execution_count": 3,
      "outputs": []
    },
    {
      "cell_type": "markdown",
      "metadata": {
        "id": "1NfXwBuGR2wc"
      },
      "source": [
        "## Static Data\r\n",
        "\r\n",
        "The static data records the historic price values for the equities. This should be updated after the markets close at 8 pm EST."
      ]
    },
    {
      "cell_type": "markdown",
      "metadata": {
        "id": "QGIWcR5bPSF-"
      },
      "source": [
        "### Ticker List\r\n",
        "The ticker symbol list needs to be updated as new symbols are being listed/delisted everyday."
      ]
    },
    {
      "cell_type": "code",
      "metadata": {
        "id": "6KiYwfCyPXhO"
      },
      "source": [
        "def update_ticker_list():\r\n",
        "  # Download latest ticker list from Nasdaq\r\n",
        "  ticker_list=finpie.nasdaq_tickers()\r\n",
        "  # Select Symbol Column\r\n",
        "  ticker_list=ticker_list['Symbol']\r\n",
        "  # Save ticker list to csv\r\n",
        "  ticker_list.to_csv('/content/drive/My Drive/Master Project/Dataset/stocks_ticker_list_latest/symbols.csv',index=None)\r\n",
        "  # Download latest ticker list in S&P500\r\n",
        "  sp500_ticker_list = si.tickers_sp500(include_company_data=True)\r\n",
        "  # Select Symbol Column\r\n",
        "  sp500_ticker_list=sp500_ticker_list['Symbol']\r\n",
        "  # Save ticker list to csv\r\n",
        "  sp500_ticker_list.to_csv('/content/drive/My Drive/Master Project/Dataset/stocks_ticker_list_latest/S&P500.csv',index=None)"
      ],
      "execution_count": 4,
      "outputs": []
    },
    {
      "cell_type": "markdown",
      "metadata": {
        "id": "s_oxegp0RzlK"
      },
      "source": [
        "### Stock Data\r\n",
        "\r\n",
        "The download functionality takes about 3 hours to completely download historic data for all 9000+ symbols. Modify your serach criteria for downloading datasets to save time."
      ]
    },
    {
      "cell_type": "code",
      "metadata": {
        "id": "GwNoU584T_wq"
      },
      "source": [
        "def set_status(ticker_number,fname):\r\n",
        "  ticker_number=str(ticker_number)\r\n",
        "  with open(f'/content/drive/My Drive/Master Project/Dataset/logs/{fname}_data_update_stat.txt', 'w') as writefile:\r\n",
        "      writefile.write(ticker_number)"
      ],
      "execution_count": 5,
      "outputs": []
    },
    {
      "cell_type": "code",
      "metadata": {
        "id": "MskzDlZJbqm_"
      },
      "source": [
        "def get_status(fname):\r\n",
        "  ticker_number=0\r\n",
        "  try:\r\n",
        "    with open(f'/content/drive/My Drive/Master Project/Dataset/logs/{fname}_data_update_stat.txt', 'r') as logfile:\r\n",
        "      ticker_number=int(logfile.read())\r\n",
        "  except:\r\n",
        "    pass\r\n",
        "  return ticker_number"
      ],
      "execution_count": 6,
      "outputs": []
    },
    {
      "cell_type": "code",
      "metadata": {
        "id": "x5DzXe_lNsiw"
      },
      "source": [
        "def fetching_news(ticker,url=\"https://api.queryly.com/cnbc/json.aspx\"):\r\n",
        "  #stock_fundamentals=finpie.Fundamentals(ticker)\r\n",
        "  #stock_profile=stock_fundamentals.profile()\r\n",
        "  #company=stock_profile['company_name'][0]\r\n",
        "  #ticker=\"AAPL\"\r\n",
        "  #company=\"Apple Inc\"\r\n",
        "  #search_query=company+\" \"+ticker\r\n",
        "  #search_query=company\r\n",
        "  search_query=ticker\r\n",
        "  params = {\r\n",
        "      \"queryly_key\": \"31a35d40a9a64ab3\",\r\n",
        "      \"query\": search_query,\r\n",
        "      \"endindex\": \"0\",\r\n",
        "      \"batchsize\": \"100\",\r\n",
        "      \"callback\": \"\",\r\n",
        "      \"showfaceted\": \"true\",\r\n",
        "      \"timezoneoffset\": \"-120\",\r\n",
        "      \"facetedfields\": \"formats\",\r\n",
        "      \"facetedkey\": \"formats|\",\r\n",
        "      \"facetedvalue\":\r\n",
        "      \"!Press Release|\",\r\n",
        "      \"needtoptickers\": \"1\",\r\n",
        "      \"additionalindexes\": \"4cd6f71fbf22424d,937d600b0d0d4e23,3bfbe40caee7443e,626fdfcd96444f28\"\r\n",
        "  }\r\n",
        "  header = [\"cn:title\", \"_pubDate\", \"cn:liveURL\", \"description\"]\r\n",
        "  with requests.Session() as req:\r\n",
        "      allin = []\r\n",
        "      for page, item in enumerate(range(0, 100000, 100)):\r\n",
        "          #print(f\"Extracting Page# {page +1}\")\r\n",
        "          params[\"endindex\"] = item\r\n",
        "          r = req.get(url, params=params).json()\r\n",
        "          empty=True\r\n",
        "          for loop in r['results']:\r\n",
        "            allin.append([loop[x] for x in header])\r\n",
        "            empty=False\r\n",
        "          if empty:\r\n",
        "            break\r\n",
        "  result = pd.DataFrame(allin, columns=[\"Title\", \"Date\", \"Url\", \"Description\"])\r\n",
        "  result.to_csv('/content/drive/My Drive/Master Project/Dataset/stock_market_datasets/news_data/{}.csv'.format(ticker),index=False)\r\n",
        "  return result"
      ],
      "execution_count": 7,
      "outputs": []
    },
    {
      "cell_type": "code",
      "metadata": {
        "id": "XnHn65O2nPXG"
      },
      "source": [
        "def fetch_option_chain(ticker):\r\n",
        "  calls,puts=finpie.yahoo_option_chain(ticker)\r\n",
        "  calls.to_csv('/content/drive/My Drive/Master Project/Dataset/stock_market_datasets/option_chain/{}_calls.csv'.format(ticker))\r\n",
        "  puts.to_csv('/content/drive/My Drive/Master Project/Dataset/stock_market_datasets/option_chain/{}_puts.csv'.format(ticker))"
      ],
      "execution_count": 8,
      "outputs": []
    },
    {
      "cell_type": "code",
      "metadata": {
        "id": "JpTPehKxF6ID"
      },
      "source": [
        "def fetch_historic_price(ticker):\r\n",
        "  data=finpie.historical_prices(ticker)\r\n",
        "  data.to_csv('/content/drive/My Drive/Master Project/Dataset/stock_market_datasets/market_historic/{}.csv'.format(ticker))"
      ],
      "execution_count": 9,
      "outputs": []
    },
    {
      "cell_type": "code",
      "metadata": {
        "id": "kDh0Hk3pFr7f"
      },
      "source": [
        "def fetch_ticker_profile(ticker):\r\n",
        "  stock=finpie.Fundamentals(ticker)\r\n",
        "  data=stock.profile().join(stock.key_metrics())\r\n",
        "  data.to_csv('/content/drive/My Drive/Master Project/Dataset/stock_market_datasets/stock_profile/{}.csv'.format(ticker))"
      ],
      "execution_count": 10,
      "outputs": []
    },
    {
      "cell_type": "code",
      "metadata": {
        "id": "ZZc2z-Cl7fam"
      },
      "source": [
        "def update_historical_data(letter=\"sp500\"):\r\n",
        "  symbols=pd.read_csv('/content/drive/My Drive/Master Project/Dataset/stocks_ticker_list_latest/symbols.csv')\r\n",
        "  if letter == \"all\":\r\n",
        "    symbols=pd.read_csv('/content/drive/My Drive/Master Project/Dataset/stocks_ticker_list_latest/symbols.csv')\r\n",
        "  elif letter == \"sp500\":\r\n",
        "    symbols=pd.read_csv('/content/drive/My Drive/Master Project/Dataset/stocks_ticker_list_latest/S&P500.csv')\r\n",
        "  else:\r\n",
        "    symbols=symbols[[x.startswith(letter) for x in symbols['Symbol']]]\r\n",
        "\r\n",
        "  bar = progressbar.ProgressBar(\r\n",
        "      widgets=[\r\n",
        "          progressbar.Counter(format='%(value)5d/%(max_value)d | %(dynamic_messages)6s | '),\r\n",
        "          progressbar.Timer(format= 'Elapsed: %(elapsed)s '),\r\n",
        "          progressbar.Bar('*'),\r\n",
        "          ' ',\r\n",
        "          progressbar.AdaptiveETA(),\r\n",
        "      ],\r\n",
        "  )\r\n",
        "  log_start=get_status(letter)\r\n",
        "  shift=0\r\n",
        "  for symbol in bar(symbols['Symbol'][log_start:]):\r\n",
        "    try:\r\n",
        "      bar.dynamic_messages=symbol\r\n",
        "      fetch_ticker_profile(symbol)\r\n",
        "      fetch_historic_price(symbol)\r\n",
        "      fetch_option_chain(symbol)\r\n",
        "      fetching_news(symbol)\r\n",
        "      shift+=1\r\n",
        "      val=(log_start+shift)%symbols.last_valid_index()\r\n",
        "      set_status(val,letter)\r\n",
        "    except:\r\n",
        "      pass\r\n",
        "  set_status(0,letter)"
      ],
      "execution_count": 11,
      "outputs": []
    },
    {
      "cell_type": "code",
      "metadata": {
        "id": "aVDU3llDdr7x"
      },
      "source": [
        "'''\r\n",
        "msft = yf.Ticker(\"MSFT\")\r\n",
        "# get stock info\r\n",
        "msft.info\r\n",
        "# get historical market data\r\n",
        "hist = msft.history(period=\"max\")\r\n",
        "# show actions (dividends, splits)\r\n",
        "msft.actions\r\n",
        "# show dividends\r\n",
        "msft.dividends\r\n",
        "# show splits\r\n",
        "msft.splits\r\n",
        "# show financials\r\n",
        "msft.financials\r\n",
        "msft.quarterly_financials\r\n",
        "# show major holders\r\n",
        "msft.major_holders\r\n",
        "# show institutional holders\r\n",
        "msft.institutional_holders\r\n",
        "# show balance sheet\r\n",
        "msft.balance_sheet\r\n",
        "msft.quarterly_balance_sheet\r\n",
        "# show cashflow\r\n",
        "msft.cashflow\r\n",
        "msft.quarterly_cashflow\r\n",
        "# show earnings\r\n",
        "msft.earnings\r\n",
        "msft.quarterly_earnings\r\n",
        "# show sustainability\r\n",
        "msft.sustainability\r\n",
        "# show analysts recommendations\r\n",
        "msft.recommendations\r\n",
        "# show next event (earnings, etc)\r\n",
        "msft.calendar\r\n",
        "# show ISIN code - *experimental*\r\n",
        "# ISIN = International Securities Identification Number\r\n",
        "#msft.isin\r\n",
        "# show options expirations\r\n",
        "#options_dates=msft.options\r\n",
        "# get option chain for specific expiration\r\n",
        "#opt = msft.option_chain('2021-03-19')\r\n",
        "# data available via: opt.calls, opt.puts\r\n",
        "#opt.calls\r\n",
        "'''\r\n",
        "clear_output()"
      ],
      "execution_count": 12,
      "outputs": []
    },
    {
      "cell_type": "markdown",
      "metadata": {
        "id": "V0F52iuU7u6A"
      },
      "source": [
        "## Latest Intraday (2 years)"
      ]
    },
    {
      "cell_type": "code",
      "metadata": {
        "id": "y96iSY7lzHN9"
      },
      "source": [
        "def fetch_intraday_price(data,symbols):\r\n",
        "  list_type=\"intraday\"\r\n",
        "  bar = progressbar.ProgressBar(\r\n",
        "      widgets=[\r\n",
        "          progressbar.Counter(format='Saving to File | %(value)5d/%(max_value)d | %(dynamic_messages)6s | '),\r\n",
        "          progressbar.Timer(format= 'Elapsed: %(elapsed)s '),\r\n",
        "          progressbar.Bar('*'),\r\n",
        "          ' ',\r\n",
        "          progressbar.AdaptiveETA(),\r\n",
        "      ],\r\n",
        "  )\r\n",
        "  log_start=get_status(list_type)\r\n",
        "  shift=0\r\n",
        "  for symbol in bar(symbols['Symbol'][log_start:]):\r\n",
        "    try:\r\n",
        "      bar.dynamic_messages=symbol\r\n",
        "      stock=data[symbol]\r\n",
        "      stock.dropna(inplace=True)\r\n",
        "      stock.to_csv(f'/content/drive/My Drive/Master Project/Dataset/stock_market_datasets/market_intraday/{symbol}.csv')\r\n",
        "      shift+=1\r\n",
        "      val=(log_start+shift)%symbols.last_valid_index()\r\n",
        "      set_status(val,letter)\r\n",
        "    except:\r\n",
        "      pass\r\n",
        "  set_status(0,list_type)\r\n",
        "  clear_output()"
      ],
      "execution_count": 13,
      "outputs": []
    },
    {
      "cell_type": "code",
      "metadata": {
        "id": "ev9CstHal4KK"
      },
      "source": [
        "def update_intraday_master(letter=\"sp500\"):\r\n",
        "  symbols=pd.read_csv('/content/drive/My Drive/Master Project/Dataset/stocks_ticker_list_latest/symbols.csv')\r\n",
        "  if letter == \"all\":\r\n",
        "    symbols=pd.read_csv('/content/drive/My Drive/Master Project/Dataset/stocks_ticker_list_latest/symbols.csv')\r\n",
        "  elif letter == \"sp500\":\r\n",
        "    symbols=pd.read_csv('/content/drive/My Drive/Master Project/Dataset/stocks_ticker_list_latest/S&P500.csv')\r\n",
        "  else:\r\n",
        "    symbols=symbols[[x.startswith(letter) for x in symbols['Symbol']]]\r\n",
        "  stock_list=\"\"\r\n",
        "  i=1\r\n",
        "  for x in symbols['Symbol']:\r\n",
        "    if i==1:\r\n",
        "      stock_list+=x\r\n",
        "      i=2\r\n",
        "    else:\r\n",
        "      stock_list+=\" \"+x  \r\n",
        "  yf.pdr_override()\r\n",
        "  data=pdr.get_data_yahoo(stock_list,interval='60m',period='2y',group_by='ticker')\r\n",
        "  data.to_csv(f'/content/drive/My Drive/Master Project/Dataset/stock_market_datasets/market_intraday/__master_dataset_{letter}__.csv')\r\n",
        "  clear_output()\r\n",
        "  fetch_intraday_price(data,symbols)"
      ],
      "execution_count": 14,
      "outputs": []
    },
    {
      "cell_type": "code",
      "metadata": {
        "id": "IYD3Rutw2KcE"
      },
      "source": [
        "#update_intraday_master()"
      ],
      "execution_count": 15,
      "outputs": []
    },
    {
      "cell_type": "code",
      "metadata": {
        "id": "id8D5PQshp5N"
      },
      "source": [
        "#data['AAPL'][data['AAPL']['Volume']<10000]"
      ],
      "execution_count": 16,
      "outputs": []
    },
    {
      "cell_type": "code",
      "metadata": {
        "id": "SI0RK2BFNY7z"
      },
      "source": [
        "symbols=pd.read_csv('/content/drive/My Drive/Master Project/Dataset/stocks_ticker_list_latest/S&P500.csv')\r\n",
        "stock_list=\"\"\r\n",
        "i=1\r\n",
        "for x in symbols['Symbol']:\r\n",
        "  if i==1:\r\n",
        "    stock_list+=x\r\n",
        "    i=2\r\n",
        "  else:\r\n",
        "    stock_list+=\" \"+x  "
      ],
      "execution_count": 17,
      "outputs": []
    },
    {
      "cell_type": "code",
      "metadata": {
        "id": "uxO_GKacPFag"
      },
      "source": [
        "#data=yf.download(stock_list,interval='60m',period='2y',group_by='ticker')\r\n",
        "#data=pdr.get_data_yahoo(stock_list,period='2y',group_by='ticker')"
      ],
      "execution_count": 18,
      "outputs": []
    },
    {
      "cell_type": "code",
      "metadata": {
        "id": "ADU-mc3MSXRn"
      },
      "source": [
        "#data.to_csv(f'/content/drive/My Drive/Master Project/Dataset/stock_market_datasets/market_historic/__master_dataset_sp500__.csv')"
      ],
      "execution_count": 19,
      "outputs": []
    },
    {
      "cell_type": "markdown",
      "metadata": {
        "id": "L5vgngD-ZhAh"
      },
      "source": [
        "# Main"
      ]
    },
    {
      "cell_type": "code",
      "metadata": {
        "id": "R9FrpaJWZi36"
      },
      "source": [
        "#update_ticker_list()"
      ],
      "execution_count": 20,
      "outputs": []
    },
    {
      "cell_type": "code",
      "metadata": {
        "id": "-z8PtzsWv-6v"
      },
      "source": [
        "#update_intraday_master()"
      ],
      "execution_count": 21,
      "outputs": []
    },
    {
      "cell_type": "code",
      "metadata": {
        "id": "vpxbLS1EmO3g"
      },
      "source": [
        "#update_historical_data()"
      ],
      "execution_count": 22,
      "outputs": []
    },
    {
      "cell_type": "code",
      "metadata": {
        "id": "rwQpWqTH84LD",
        "colab": {
          "base_uri": "https://localhost:8080/",
          "height": 419
        },
        "outputId": "4e215be9-a81b-4a6a-b7dd-b8383b229a4c"
      },
      "source": [
        "#print(\"Sample News Data\")\r\n",
        "#fetching_news(\"GME\")"
      ],
      "execution_count": 34,
      "outputs": [
        {
          "output_type": "execute_result",
          "data": {
            "text/html": [
              "<div>\n",
              "<style scoped>\n",
              "    .dataframe tbody tr th:only-of-type {\n",
              "        vertical-align: middle;\n",
              "    }\n",
              "\n",
              "    .dataframe tbody tr th {\n",
              "        vertical-align: top;\n",
              "    }\n",
              "\n",
              "    .dataframe thead th {\n",
              "        text-align: right;\n",
              "    }\n",
              "</style>\n",
              "<table border=\"1\" class=\"dataframe\">\n",
              "  <thead>\n",
              "    <tr style=\"text-align: right;\">\n",
              "      <th></th>\n",
              "      <th>Title</th>\n",
              "      <th>Date</th>\n",
              "      <th>Url</th>\n",
              "      <th>Description</th>\n",
              "    </tr>\n",
              "  </thead>\n",
              "  <tbody>\n",
              "    <tr>\n",
              "      <th>0</th>\n",
              "      <td>Given GME volatility, size investments accordi...</td>\n",
              "      <td>2/25/2021 10:33:01 PM</td>\n",
              "      <td>https://www.cnbc.com/video/2021/02/25/given-gm...</td>\n",
              "      <td>CNBC's \"Closing Bell\" team breaks down GameSto...</td>\n",
              "    </tr>\n",
              "    <tr>\n",
              "      <th>1</th>\n",
              "      <td>Reddit trader 'Roaring Kitty' explains his GME...</td>\n",
              "      <td>2/18/2021 9:33:21 PM</td>\n",
              "      <td>https://www.cnbc.com/video/2021/02/18/reddit-t...</td>\n",
              "      <td>The House Committee on Financial Services hold...</td>\n",
              "    </tr>\n",
              "    <tr>\n",
              "      <th>2</th>\n",
              "      <td>Here's the difference between Reddit-fueled GM...</td>\n",
              "      <td>2/11/2021 10:34:13 PM</td>\n",
              "      <td>https://www.cnbc.com/video/2021/02/11/heres-th...</td>\n",
              "      <td>CNBC's \"Closing Bell\" team discusses Reddit tr...</td>\n",
              "    </tr>\n",
              "    <tr>\n",
              "      <th>3</th>\n",
              "      <td>Derivative strategist breaks down GME stock op...</td>\n",
              "      <td>2/2/2021 8:29:05 PM</td>\n",
              "      <td>https://www.cnbc.com/video/2021/02/02/derivati...</td>\n",
              "      <td>CNBC's Brian Sullivan talks with Chris Murphy ...</td>\n",
              "    </tr>\n",
              "    <tr>\n",
              "      <th>4</th>\n",
              "      <td>GME, AMC and silver trades remain volatile whi...</td>\n",
              "      <td>2/1/2021 5:43:47 PM</td>\n",
              "      <td>https://www.cnbc.com/video/2021/02/01/gme-amc-...</td>\n",
              "      <td>CNBC's Bob Pisani reports on the market's morn...</td>\n",
              "    </tr>\n",
              "    <tr>\n",
              "      <th>...</th>\n",
              "      <td>...</td>\n",
              "      <td>...</td>\n",
              "      <td>...</td>\n",
              "      <td>...</td>\n",
              "    </tr>\n",
              "    <tr>\n",
              "      <th>910</th>\n",
              "      <td>No. 3 - Summer Stocks: Off To Camp</td>\n",
              "      <td>6/19/2007 3:35:04 AM</td>\n",
              "      <td>https://www.cnbc.com/id/19294116</td>\n",
              "      <td>As the kids go off to camp this summer, there’...</td>\n",
              "    </tr>\n",
              "    <tr>\n",
              "      <th>911</th>\n",
              "      <td>The Word on Merger Mania, Specialty Retail and...</td>\n",
              "      <td>5/26/2007 2:16:53 AM</td>\n",
              "      <td>https://www.cnbc.com/id/18866000</td>\n",
              "      <td>Day Off, Deals On?: The headline: Will The Lon...</td>\n",
              "    </tr>\n",
              "    <tr>\n",
              "      <th>912</th>\n",
              "      <td>Silly Dylan, \"Picks\" Are For Kids!</td>\n",
              "      <td>4/27/2007 3:01:20 AM</td>\n",
              "      <td>https://www.cnbc.com/id/18337627</td>\n",
              "      <td>It seems like traders are getting younger and ...</td>\n",
              "    </tr>\n",
              "    <tr>\n",
              "      <th>913</th>\n",
              "      <td>The Word on Tiffany's, GameStop &amp; More...</td>\n",
              "      <td>3/27/2007 3:16:42 AM</td>\n",
              "      <td>https://www.cnbc.com/id/17803172</td>\n",
              "      <td>DIAMOND IN THE ROUGH:The news: Upscale jewelry...</td>\n",
              "    </tr>\n",
              "    <tr>\n",
              "      <th>914</th>\n",
              "      <td>No. 3 - Wii Are The World</td>\n",
              "      <td>4/12/2007 2:49:54 AM</td>\n",
              "      <td>https://www.cnbc.com/id/18063563</td>\n",
              "      <td>Underdog Nintendo Wii Runaway Winner of Consol...</td>\n",
              "    </tr>\n",
              "  </tbody>\n",
              "</table>\n",
              "<p>915 rows × 4 columns</p>\n",
              "</div>"
            ],
            "text/plain": [
              "                                                 Title  ...                                        Description\n",
              "0    Given GME volatility, size investments accordi...  ...  CNBC's \"Closing Bell\" team breaks down GameSto...\n",
              "1    Reddit trader 'Roaring Kitty' explains his GME...  ...  The House Committee on Financial Services hold...\n",
              "2    Here's the difference between Reddit-fueled GM...  ...  CNBC's \"Closing Bell\" team discusses Reddit tr...\n",
              "3    Derivative strategist breaks down GME stock op...  ...  CNBC's Brian Sullivan talks with Chris Murphy ...\n",
              "4    GME, AMC and silver trades remain volatile whi...  ...  CNBC's Bob Pisani reports on the market's morn...\n",
              "..                                                 ...  ...                                                ...\n",
              "910                 No. 3 - Summer Stocks: Off To Camp  ...  As the kids go off to camp this summer, there’...\n",
              "911  The Word on Merger Mania, Specialty Retail and...  ...  Day Off, Deals On?: The headline: Will The Lon...\n",
              "912                 Silly Dylan, \"Picks\" Are For Kids!  ...  It seems like traders are getting younger and ...\n",
              "913          The Word on Tiffany's, GameStop & More...  ...  DIAMOND IN THE ROUGH:The news: Upscale jewelry...\n",
              "914                          No. 3 - Wii Are The World  ...  Underdog Nintendo Wii Runaway Winner of Consol...\n",
              "\n",
              "[915 rows x 4 columns]"
            ]
          },
          "metadata": {
            "tags": []
          },
          "execution_count": 34
        }
      ]
    },
    {
      "cell_type": "code",
      "metadata": {
        "id": "YSW-ghVk5buM"
      },
      "source": [
        "main=pd.read_csv('/content/drive/My Drive/Master Project/Dataset/stock_market_datasets/market_historic/GME.csv')\r\n",
        "news=pd.read_csv('/content/drive/My Drive/Master Project/Dataset/stock_market_datasets/news_data/GME.csv')"
      ],
      "execution_count": 58,
      "outputs": []
    },
    {
      "cell_type": "code",
      "metadata": {
        "colab": {
          "base_uri": "https://localhost:8080/",
          "height": 419
        },
        "id": "9VbP6t44OG_y",
        "outputId": "a637c905-f101-4f64-fd3b-ff840c63b975"
      },
      "source": [
        "main"
      ],
      "execution_count": 59,
      "outputs": [
        {
          "output_type": "execute_result",
          "data": {
            "text/html": [
              "<div>\n",
              "<style scoped>\n",
              "    .dataframe tbody tr th:only-of-type {\n",
              "        vertical-align: middle;\n",
              "    }\n",
              "\n",
              "    .dataframe tbody tr th {\n",
              "        vertical-align: top;\n",
              "    }\n",
              "\n",
              "    .dataframe thead th {\n",
              "        text-align: right;\n",
              "    }\n",
              "</style>\n",
              "<table border=\"1\" class=\"dataframe\">\n",
              "  <thead>\n",
              "    <tr style=\"text-align: right;\">\n",
              "      <th></th>\n",
              "      <th>date</th>\n",
              "      <th>open</th>\n",
              "      <th>high</th>\n",
              "      <th>low</th>\n",
              "      <th>close</th>\n",
              "      <th>adj_close</th>\n",
              "      <th>volume</th>\n",
              "    </tr>\n",
              "  </thead>\n",
              "  <tbody>\n",
              "    <tr>\n",
              "      <th>0</th>\n",
              "      <td>2002-02-13</td>\n",
              "      <td>9.625000</td>\n",
              "      <td>10.060000</td>\n",
              "      <td>9.525000</td>\n",
              "      <td>10.050000</td>\n",
              "      <td>6.766666</td>\n",
              "      <td>19054000</td>\n",
              "    </tr>\n",
              "    <tr>\n",
              "      <th>1</th>\n",
              "      <td>2002-02-14</td>\n",
              "      <td>10.175000</td>\n",
              "      <td>10.195000</td>\n",
              "      <td>9.925000</td>\n",
              "      <td>10.000000</td>\n",
              "      <td>6.733003</td>\n",
              "      <td>2755400</td>\n",
              "    </tr>\n",
              "    <tr>\n",
              "      <th>2</th>\n",
              "      <td>2002-02-15</td>\n",
              "      <td>10.000000</td>\n",
              "      <td>10.025000</td>\n",
              "      <td>9.850000</td>\n",
              "      <td>9.950000</td>\n",
              "      <td>6.699336</td>\n",
              "      <td>2097400</td>\n",
              "    </tr>\n",
              "    <tr>\n",
              "      <th>3</th>\n",
              "      <td>2002-02-19</td>\n",
              "      <td>9.900000</td>\n",
              "      <td>9.900000</td>\n",
              "      <td>9.375000</td>\n",
              "      <td>9.550000</td>\n",
              "      <td>6.430017</td>\n",
              "      <td>1852600</td>\n",
              "    </tr>\n",
              "    <tr>\n",
              "      <th>4</th>\n",
              "      <td>2002-02-20</td>\n",
              "      <td>9.600000</td>\n",
              "      <td>9.875000</td>\n",
              "      <td>9.525000</td>\n",
              "      <td>9.875000</td>\n",
              "      <td>6.648838</td>\n",
              "      <td>1723200</td>\n",
              "    </tr>\n",
              "    <tr>\n",
              "      <th>...</th>\n",
              "      <td>...</td>\n",
              "      <td>...</td>\n",
              "      <td>...</td>\n",
              "      <td>...</td>\n",
              "      <td>...</td>\n",
              "      <td>...</td>\n",
              "      <td>...</td>\n",
              "    </tr>\n",
              "    <tr>\n",
              "      <th>4787</th>\n",
              "      <td>2021-02-19</td>\n",
              "      <td>41.279999</td>\n",
              "      <td>43.889999</td>\n",
              "      <td>38.500000</td>\n",
              "      <td>40.590000</td>\n",
              "      <td>40.590000</td>\n",
              "      <td>14678700</td>\n",
              "    </tr>\n",
              "    <tr>\n",
              "      <th>4788</th>\n",
              "      <td>2021-02-22</td>\n",
              "      <td>46.689999</td>\n",
              "      <td>48.509998</td>\n",
              "      <td>42.400002</td>\n",
              "      <td>46.000000</td>\n",
              "      <td>46.000000</td>\n",
              "      <td>19338400</td>\n",
              "    </tr>\n",
              "    <tr>\n",
              "      <th>4789</th>\n",
              "      <td>2021-02-23</td>\n",
              "      <td>44.970001</td>\n",
              "      <td>46.230000</td>\n",
              "      <td>40.000000</td>\n",
              "      <td>44.970001</td>\n",
              "      <td>44.970001</td>\n",
              "      <td>7516000</td>\n",
              "    </tr>\n",
              "    <tr>\n",
              "      <th>4790</th>\n",
              "      <td>2021-02-24</td>\n",
              "      <td>44.700001</td>\n",
              "      <td>91.709999</td>\n",
              "      <td>44.700001</td>\n",
              "      <td>91.709999</td>\n",
              "      <td>91.709999</td>\n",
              "      <td>76315700</td>\n",
              "    </tr>\n",
              "    <tr>\n",
              "      <th>4791</th>\n",
              "      <td>2021-02-25</td>\n",
              "      <td>169.559998</td>\n",
              "      <td>184.679993</td>\n",
              "      <td>101.000000</td>\n",
              "      <td>108.730003</td>\n",
              "      <td>108.730003</td>\n",
              "      <td>149282400</td>\n",
              "    </tr>\n",
              "  </tbody>\n",
              "</table>\n",
              "<p>4792 rows × 7 columns</p>\n",
              "</div>"
            ],
            "text/plain": [
              "            date        open        high  ...       close   adj_close     volume\n",
              "0     2002-02-13    9.625000   10.060000  ...   10.050000    6.766666   19054000\n",
              "1     2002-02-14   10.175000   10.195000  ...   10.000000    6.733003    2755400\n",
              "2     2002-02-15   10.000000   10.025000  ...    9.950000    6.699336    2097400\n",
              "3     2002-02-19    9.900000    9.900000  ...    9.550000    6.430017    1852600\n",
              "4     2002-02-20    9.600000    9.875000  ...    9.875000    6.648838    1723200\n",
              "...          ...         ...         ...  ...         ...         ...        ...\n",
              "4787  2021-02-19   41.279999   43.889999  ...   40.590000   40.590000   14678700\n",
              "4788  2021-02-22   46.689999   48.509998  ...   46.000000   46.000000   19338400\n",
              "4789  2021-02-23   44.970001   46.230000  ...   44.970001   44.970001    7516000\n",
              "4790  2021-02-24   44.700001   91.709999  ...   91.709999   91.709999   76315700\n",
              "4791  2021-02-25  169.559998  184.679993  ...  108.730003  108.730003  149282400\n",
              "\n",
              "[4792 rows x 7 columns]"
            ]
          },
          "metadata": {
            "tags": []
          },
          "execution_count": 59
        }
      ]
    },
    {
      "cell_type": "code",
      "metadata": {
        "id": "I9d-auIUZBip"
      },
      "source": [
        "main=main.set_index('date')"
      ],
      "execution_count": 72,
      "outputs": []
    },
    {
      "cell_type": "code",
      "metadata": {
        "colab": {
          "base_uri": "https://localhost:8080/",
          "height": 450
        },
        "id": "WANabX6SZEHA",
        "outputId": "5fcdecfe-c42a-4d60-80df-f1c2aba78883"
      },
      "source": [
        "main"
      ],
      "execution_count": 73,
      "outputs": [
        {
          "output_type": "execute_result",
          "data": {
            "text/html": [
              "<div>\n",
              "<style scoped>\n",
              "    .dataframe tbody tr th:only-of-type {\n",
              "        vertical-align: middle;\n",
              "    }\n",
              "\n",
              "    .dataframe tbody tr th {\n",
              "        vertical-align: top;\n",
              "    }\n",
              "\n",
              "    .dataframe thead th {\n",
              "        text-align: right;\n",
              "    }\n",
              "</style>\n",
              "<table border=\"1\" class=\"dataframe\">\n",
              "  <thead>\n",
              "    <tr style=\"text-align: right;\">\n",
              "      <th></th>\n",
              "      <th>open</th>\n",
              "      <th>high</th>\n",
              "      <th>low</th>\n",
              "      <th>close</th>\n",
              "      <th>adj_close</th>\n",
              "      <th>volume</th>\n",
              "    </tr>\n",
              "    <tr>\n",
              "      <th>date</th>\n",
              "      <th></th>\n",
              "      <th></th>\n",
              "      <th></th>\n",
              "      <th></th>\n",
              "      <th></th>\n",
              "      <th></th>\n",
              "    </tr>\n",
              "  </thead>\n",
              "  <tbody>\n",
              "    <tr>\n",
              "      <th>2002-02-13</th>\n",
              "      <td>9.625000</td>\n",
              "      <td>10.060000</td>\n",
              "      <td>9.525000</td>\n",
              "      <td>10.050000</td>\n",
              "      <td>6.766666</td>\n",
              "      <td>19054000</td>\n",
              "    </tr>\n",
              "    <tr>\n",
              "      <th>2002-02-14</th>\n",
              "      <td>10.175000</td>\n",
              "      <td>10.195000</td>\n",
              "      <td>9.925000</td>\n",
              "      <td>10.000000</td>\n",
              "      <td>6.733003</td>\n",
              "      <td>2755400</td>\n",
              "    </tr>\n",
              "    <tr>\n",
              "      <th>2002-02-15</th>\n",
              "      <td>10.000000</td>\n",
              "      <td>10.025000</td>\n",
              "      <td>9.850000</td>\n",
              "      <td>9.950000</td>\n",
              "      <td>6.699336</td>\n",
              "      <td>2097400</td>\n",
              "    </tr>\n",
              "    <tr>\n",
              "      <th>2002-02-19</th>\n",
              "      <td>9.900000</td>\n",
              "      <td>9.900000</td>\n",
              "      <td>9.375000</td>\n",
              "      <td>9.550000</td>\n",
              "      <td>6.430017</td>\n",
              "      <td>1852600</td>\n",
              "    </tr>\n",
              "    <tr>\n",
              "      <th>2002-02-20</th>\n",
              "      <td>9.600000</td>\n",
              "      <td>9.875000</td>\n",
              "      <td>9.525000</td>\n",
              "      <td>9.875000</td>\n",
              "      <td>6.648838</td>\n",
              "      <td>1723200</td>\n",
              "    </tr>\n",
              "    <tr>\n",
              "      <th>...</th>\n",
              "      <td>...</td>\n",
              "      <td>...</td>\n",
              "      <td>...</td>\n",
              "      <td>...</td>\n",
              "      <td>...</td>\n",
              "      <td>...</td>\n",
              "    </tr>\n",
              "    <tr>\n",
              "      <th>2021-02-19</th>\n",
              "      <td>41.279999</td>\n",
              "      <td>43.889999</td>\n",
              "      <td>38.500000</td>\n",
              "      <td>40.590000</td>\n",
              "      <td>40.590000</td>\n",
              "      <td>14678700</td>\n",
              "    </tr>\n",
              "    <tr>\n",
              "      <th>2021-02-22</th>\n",
              "      <td>46.689999</td>\n",
              "      <td>48.509998</td>\n",
              "      <td>42.400002</td>\n",
              "      <td>46.000000</td>\n",
              "      <td>46.000000</td>\n",
              "      <td>19338400</td>\n",
              "    </tr>\n",
              "    <tr>\n",
              "      <th>2021-02-23</th>\n",
              "      <td>44.970001</td>\n",
              "      <td>46.230000</td>\n",
              "      <td>40.000000</td>\n",
              "      <td>44.970001</td>\n",
              "      <td>44.970001</td>\n",
              "      <td>7516000</td>\n",
              "    </tr>\n",
              "    <tr>\n",
              "      <th>2021-02-24</th>\n",
              "      <td>44.700001</td>\n",
              "      <td>91.709999</td>\n",
              "      <td>44.700001</td>\n",
              "      <td>91.709999</td>\n",
              "      <td>91.709999</td>\n",
              "      <td>76315700</td>\n",
              "    </tr>\n",
              "    <tr>\n",
              "      <th>2021-02-25</th>\n",
              "      <td>169.559998</td>\n",
              "      <td>184.679993</td>\n",
              "      <td>101.000000</td>\n",
              "      <td>108.730003</td>\n",
              "      <td>108.730003</td>\n",
              "      <td>149282400</td>\n",
              "    </tr>\n",
              "  </tbody>\n",
              "</table>\n",
              "<p>4792 rows × 6 columns</p>\n",
              "</div>"
            ],
            "text/plain": [
              "                  open        high  ...   adj_close     volume\n",
              "date                                ...                       \n",
              "2002-02-13    9.625000   10.060000  ...    6.766666   19054000\n",
              "2002-02-14   10.175000   10.195000  ...    6.733003    2755400\n",
              "2002-02-15   10.000000   10.025000  ...    6.699336    2097400\n",
              "2002-02-19    9.900000    9.900000  ...    6.430017    1852600\n",
              "2002-02-20    9.600000    9.875000  ...    6.648838    1723200\n",
              "...                ...         ...  ...         ...        ...\n",
              "2021-02-19   41.279999   43.889999  ...   40.590000   14678700\n",
              "2021-02-22   46.689999   48.509998  ...   46.000000   19338400\n",
              "2021-02-23   44.970001   46.230000  ...   44.970001    7516000\n",
              "2021-02-24   44.700001   91.709999  ...   91.709999   76315700\n",
              "2021-02-25  169.559998  184.679993  ...  108.730003  149282400\n",
              "\n",
              "[4792 rows x 6 columns]"
            ]
          },
          "metadata": {
            "tags": []
          },
          "execution_count": 73
        }
      ]
    },
    {
      "cell_type": "code",
      "metadata": {
        "colab": {
          "base_uri": "https://localhost:8080/",
          "height": 419
        },
        "id": "CoanA49xD7bK",
        "outputId": "74099340-63cd-43d9-8292-a9a4e59b6fdf"
      },
      "source": [
        "news"
      ],
      "execution_count": 62,
      "outputs": [
        {
          "output_type": "execute_result",
          "data": {
            "text/html": [
              "<div>\n",
              "<style scoped>\n",
              "    .dataframe tbody tr th:only-of-type {\n",
              "        vertical-align: middle;\n",
              "    }\n",
              "\n",
              "    .dataframe tbody tr th {\n",
              "        vertical-align: top;\n",
              "    }\n",
              "\n",
              "    .dataframe thead th {\n",
              "        text-align: right;\n",
              "    }\n",
              "</style>\n",
              "<table border=\"1\" class=\"dataframe\">\n",
              "  <thead>\n",
              "    <tr style=\"text-align: right;\">\n",
              "      <th></th>\n",
              "      <th>Title</th>\n",
              "      <th>Date</th>\n",
              "      <th>Url</th>\n",
              "      <th>Description</th>\n",
              "    </tr>\n",
              "  </thead>\n",
              "  <tbody>\n",
              "    <tr>\n",
              "      <th>0</th>\n",
              "      <td>Given GME volatility, size investments accordi...</td>\n",
              "      <td>2021-02-25</td>\n",
              "      <td>https://www.cnbc.com/video/2021/02/25/given-gm...</td>\n",
              "      <td>CNBC's \"Closing Bell\" team breaks down GameSto...</td>\n",
              "    </tr>\n",
              "    <tr>\n",
              "      <th>1</th>\n",
              "      <td>Reddit trader 'Roaring Kitty' explains his GME...</td>\n",
              "      <td>2021-02-18</td>\n",
              "      <td>https://www.cnbc.com/video/2021/02/18/reddit-t...</td>\n",
              "      <td>The House Committee on Financial Services hold...</td>\n",
              "    </tr>\n",
              "    <tr>\n",
              "      <th>2</th>\n",
              "      <td>Here's the difference between Reddit-fueled GM...</td>\n",
              "      <td>2021-02-11</td>\n",
              "      <td>https://www.cnbc.com/video/2021/02/11/heres-th...</td>\n",
              "      <td>CNBC's \"Closing Bell\" team discusses Reddit tr...</td>\n",
              "    </tr>\n",
              "    <tr>\n",
              "      <th>3</th>\n",
              "      <td>Derivative strategist breaks down GME stock op...</td>\n",
              "      <td>2021-02-02</td>\n",
              "      <td>https://www.cnbc.com/video/2021/02/02/derivati...</td>\n",
              "      <td>CNBC's Brian Sullivan talks with Chris Murphy ...</td>\n",
              "    </tr>\n",
              "    <tr>\n",
              "      <th>4</th>\n",
              "      <td>GME, AMC and silver trades remain volatile whi...</td>\n",
              "      <td>2021-02-01</td>\n",
              "      <td>https://www.cnbc.com/video/2021/02/01/gme-amc-...</td>\n",
              "      <td>CNBC's Bob Pisani reports on the market's morn...</td>\n",
              "    </tr>\n",
              "    <tr>\n",
              "      <th>...</th>\n",
              "      <td>...</td>\n",
              "      <td>...</td>\n",
              "      <td>...</td>\n",
              "      <td>...</td>\n",
              "    </tr>\n",
              "    <tr>\n",
              "      <th>910</th>\n",
              "      <td>No. 3 - Summer Stocks: Off To Camp</td>\n",
              "      <td>2007-06-19</td>\n",
              "      <td>https://www.cnbc.com/id/19294116</td>\n",
              "      <td>As the kids go off to camp this summer, there’...</td>\n",
              "    </tr>\n",
              "    <tr>\n",
              "      <th>911</th>\n",
              "      <td>The Word on Merger Mania, Specialty Retail and...</td>\n",
              "      <td>2007-05-26</td>\n",
              "      <td>https://www.cnbc.com/id/18866000</td>\n",
              "      <td>Day Off, Deals On?: The headline: Will The Lon...</td>\n",
              "    </tr>\n",
              "    <tr>\n",
              "      <th>912</th>\n",
              "      <td>Silly Dylan, \"Picks\" Are For Kids!</td>\n",
              "      <td>2007-04-27</td>\n",
              "      <td>https://www.cnbc.com/id/18337627</td>\n",
              "      <td>It seems like traders are getting younger and ...</td>\n",
              "    </tr>\n",
              "    <tr>\n",
              "      <th>913</th>\n",
              "      <td>The Word on Tiffany's, GameStop &amp; More...</td>\n",
              "      <td>2007-03-27</td>\n",
              "      <td>https://www.cnbc.com/id/17803172</td>\n",
              "      <td>DIAMOND IN THE ROUGH:The news: Upscale jewelry...</td>\n",
              "    </tr>\n",
              "    <tr>\n",
              "      <th>914</th>\n",
              "      <td>No. 3 - Wii Are The World</td>\n",
              "      <td>2007-04-12</td>\n",
              "      <td>https://www.cnbc.com/id/18063563</td>\n",
              "      <td>Underdog Nintendo Wii Runaway Winner of Consol...</td>\n",
              "    </tr>\n",
              "  </tbody>\n",
              "</table>\n",
              "<p>915 rows × 4 columns</p>\n",
              "</div>"
            ],
            "text/plain": [
              "                                                 Title  ...                                        Description\n",
              "0    Given GME volatility, size investments accordi...  ...  CNBC's \"Closing Bell\" team breaks down GameSto...\n",
              "1    Reddit trader 'Roaring Kitty' explains his GME...  ...  The House Committee on Financial Services hold...\n",
              "2    Here's the difference between Reddit-fueled GM...  ...  CNBC's \"Closing Bell\" team discusses Reddit tr...\n",
              "3    Derivative strategist breaks down GME stock op...  ...  CNBC's Brian Sullivan talks with Chris Murphy ...\n",
              "4    GME, AMC and silver trades remain volatile whi...  ...  CNBC's Bob Pisani reports on the market's morn...\n",
              "..                                                 ...  ...                                                ...\n",
              "910                 No. 3 - Summer Stocks: Off To Camp  ...  As the kids go off to camp this summer, there’...\n",
              "911  The Word on Merger Mania, Specialty Retail and...  ...  Day Off, Deals On?: The headline: Will The Lon...\n",
              "912                 Silly Dylan, \"Picks\" Are For Kids!  ...  It seems like traders are getting younger and ...\n",
              "913          The Word on Tiffany's, GameStop & More...  ...  DIAMOND IN THE ROUGH:The news: Upscale jewelry...\n",
              "914                          No. 3 - Wii Are The World  ...  Underdog Nintendo Wii Runaway Winner of Consol...\n",
              "\n",
              "[915 rows x 4 columns]"
            ]
          },
          "metadata": {
            "tags": []
          },
          "execution_count": 62
        }
      ]
    },
    {
      "cell_type": "code",
      "metadata": {
        "id": "X91wGactEbjr"
      },
      "source": [
        "news['Date']=news['Date'].astype('datetime64[D]')\r\n",
        "news=news.drop(columns=[\"Url\",\"Description\"])"
      ],
      "execution_count": 64,
      "outputs": []
    },
    {
      "cell_type": "code",
      "metadata": {
        "id": "vrto_uQ7MVF7"
      },
      "source": [
        "news=news.rename(columns={\"Date\":\"date\",\"Title\":\"headline\"})"
      ],
      "execution_count": 65,
      "outputs": []
    },
    {
      "cell_type": "code",
      "metadata": {
        "id": "EQfecUcjUcvZ"
      },
      "source": [
        "news=news.groupby('date').agg({'headline': ' '.join})"
      ],
      "execution_count": 69,
      "outputs": []
    },
    {
      "cell_type": "code",
      "metadata": {
        "colab": {
          "base_uri": "https://localhost:8080/",
          "height": 450
        },
        "id": "3hCvimQxXJ9S",
        "outputId": "843f60ee-70e7-4af6-bb0c-53243799b877"
      },
      "source": [
        "news"
      ],
      "execution_count": 70,
      "outputs": [
        {
          "output_type": "execute_result",
          "data": {
            "text/html": [
              "<div>\n",
              "<style scoped>\n",
              "    .dataframe tbody tr th:only-of-type {\n",
              "        vertical-align: middle;\n",
              "    }\n",
              "\n",
              "    .dataframe tbody tr th {\n",
              "        vertical-align: top;\n",
              "    }\n",
              "\n",
              "    .dataframe thead th {\n",
              "        text-align: right;\n",
              "    }\n",
              "</style>\n",
              "<table border=\"1\" class=\"dataframe\">\n",
              "  <thead>\n",
              "    <tr style=\"text-align: right;\">\n",
              "      <th></th>\n",
              "      <th>headline</th>\n",
              "    </tr>\n",
              "    <tr>\n",
              "      <th>date</th>\n",
              "      <th></th>\n",
              "    </tr>\n",
              "  </thead>\n",
              "  <tbody>\n",
              "    <tr>\n",
              "      <th>2007-03-27</th>\n",
              "      <td>The Word on Tiffany's, GameStop &amp; More...</td>\n",
              "    </tr>\n",
              "    <tr>\n",
              "      <th>2007-03-28</th>\n",
              "      <td>Stock Updates: One Popular Pick May Have Run C...</td>\n",
              "    </tr>\n",
              "    <tr>\n",
              "      <th>2007-04-12</th>\n",
              "      <td>No. 3 - Wii Are The World</td>\n",
              "    </tr>\n",
              "    <tr>\n",
              "      <th>2007-04-27</th>\n",
              "      <td>Silly Dylan, \"Picks\" Are For Kids!</td>\n",
              "    </tr>\n",
              "    <tr>\n",
              "      <th>2007-05-24</th>\n",
              "      <td>Your First Move For Thursday May 24th</td>\n",
              "    </tr>\n",
              "    <tr>\n",
              "      <th>...</th>\n",
              "      <td>...</td>\n",
              "    </tr>\n",
              "    <tr>\n",
              "      <th>2021-02-22</th>\n",
              "      <td>These are the most shorted stocks in the U.S. ...</td>\n",
              "    </tr>\n",
              "    <tr>\n",
              "      <th>2021-02-24</th>\n",
              "      <td>GameStop shares soar more than 100% amid execu...</td>\n",
              "    </tr>\n",
              "    <tr>\n",
              "      <th>2021-02-25</th>\n",
              "      <td>Given GME volatility, size investments accordi...</td>\n",
              "    </tr>\n",
              "    <tr>\n",
              "      <th>2021-03-04</th>\n",
              "      <td>What to watch today: Stock futures lower ahead...</td>\n",
              "    </tr>\n",
              "    <tr>\n",
              "      <th>2021-03-08</th>\n",
              "      <td>What to watch today: Nasdaq set for sharp drop...</td>\n",
              "    </tr>\n",
              "  </tbody>\n",
              "</table>\n",
              "<p>496 rows × 1 columns</p>\n",
              "</div>"
            ],
            "text/plain": [
              "                                                     headline\n",
              "date                                                         \n",
              "2007-03-27          The Word on Tiffany's, GameStop & More...\n",
              "2007-03-28  Stock Updates: One Popular Pick May Have Run C...\n",
              "2007-04-12                          No. 3 - Wii Are The World\n",
              "2007-04-27                 Silly Dylan, \"Picks\" Are For Kids!\n",
              "2007-05-24              Your First Move For Thursday May 24th\n",
              "...                                                       ...\n",
              "2021-02-22  These are the most shorted stocks in the U.S. ...\n",
              "2021-02-24  GameStop shares soar more than 100% amid execu...\n",
              "2021-02-25  Given GME volatility, size investments accordi...\n",
              "2021-03-04  What to watch today: Stock futures lower ahead...\n",
              "2021-03-08  What to watch today: Nasdaq set for sharp drop...\n",
              "\n",
              "[496 rows x 1 columns]"
            ]
          },
          "metadata": {
            "tags": []
          },
          "execution_count": 70
        }
      ]
    },
    {
      "cell_type": "code",
      "metadata": {
        "id": "ovEQc0SkE8gk"
      },
      "source": [
        "combine=main.join(news,sort=True)"
      ],
      "execution_count": 75,
      "outputs": []
    },
    {
      "cell_type": "code",
      "metadata": {
        "colab": {
          "base_uri": "https://localhost:8080/",
          "height": 450
        },
        "id": "5cm4yfQGNr2C",
        "outputId": "ccc73ee9-05d6-43b4-b2d4-1c37a3ec1e4b"
      },
      "source": [
        "combine"
      ],
      "execution_count": 76,
      "outputs": [
        {
          "output_type": "execute_result",
          "data": {
            "text/html": [
              "<div>\n",
              "<style scoped>\n",
              "    .dataframe tbody tr th:only-of-type {\n",
              "        vertical-align: middle;\n",
              "    }\n",
              "\n",
              "    .dataframe tbody tr th {\n",
              "        vertical-align: top;\n",
              "    }\n",
              "\n",
              "    .dataframe thead th {\n",
              "        text-align: right;\n",
              "    }\n",
              "</style>\n",
              "<table border=\"1\" class=\"dataframe\">\n",
              "  <thead>\n",
              "    <tr style=\"text-align: right;\">\n",
              "      <th></th>\n",
              "      <th>open</th>\n",
              "      <th>high</th>\n",
              "      <th>low</th>\n",
              "      <th>close</th>\n",
              "      <th>adj_close</th>\n",
              "      <th>volume</th>\n",
              "      <th>headline</th>\n",
              "    </tr>\n",
              "    <tr>\n",
              "      <th>date</th>\n",
              "      <th></th>\n",
              "      <th></th>\n",
              "      <th></th>\n",
              "      <th></th>\n",
              "      <th></th>\n",
              "      <th></th>\n",
              "      <th></th>\n",
              "    </tr>\n",
              "  </thead>\n",
              "  <tbody>\n",
              "    <tr>\n",
              "      <th>2002-02-13</th>\n",
              "      <td>9.625000</td>\n",
              "      <td>10.060000</td>\n",
              "      <td>9.525000</td>\n",
              "      <td>10.050000</td>\n",
              "      <td>6.766666</td>\n",
              "      <td>19054000</td>\n",
              "      <td>NaN</td>\n",
              "    </tr>\n",
              "    <tr>\n",
              "      <th>2002-02-14</th>\n",
              "      <td>10.175000</td>\n",
              "      <td>10.195000</td>\n",
              "      <td>9.925000</td>\n",
              "      <td>10.000000</td>\n",
              "      <td>6.733003</td>\n",
              "      <td>2755400</td>\n",
              "      <td>NaN</td>\n",
              "    </tr>\n",
              "    <tr>\n",
              "      <th>2002-02-15</th>\n",
              "      <td>10.000000</td>\n",
              "      <td>10.025000</td>\n",
              "      <td>9.850000</td>\n",
              "      <td>9.950000</td>\n",
              "      <td>6.699336</td>\n",
              "      <td>2097400</td>\n",
              "      <td>NaN</td>\n",
              "    </tr>\n",
              "    <tr>\n",
              "      <th>2002-02-19</th>\n",
              "      <td>9.900000</td>\n",
              "      <td>9.900000</td>\n",
              "      <td>9.375000</td>\n",
              "      <td>9.550000</td>\n",
              "      <td>6.430017</td>\n",
              "      <td>1852600</td>\n",
              "      <td>NaN</td>\n",
              "    </tr>\n",
              "    <tr>\n",
              "      <th>2002-02-20</th>\n",
              "      <td>9.600000</td>\n",
              "      <td>9.875000</td>\n",
              "      <td>9.525000</td>\n",
              "      <td>9.875000</td>\n",
              "      <td>6.648838</td>\n",
              "      <td>1723200</td>\n",
              "      <td>NaN</td>\n",
              "    </tr>\n",
              "    <tr>\n",
              "      <th>...</th>\n",
              "      <td>...</td>\n",
              "      <td>...</td>\n",
              "      <td>...</td>\n",
              "      <td>...</td>\n",
              "      <td>...</td>\n",
              "      <td>...</td>\n",
              "      <td>...</td>\n",
              "    </tr>\n",
              "    <tr>\n",
              "      <th>2021-02-19</th>\n",
              "      <td>41.279999</td>\n",
              "      <td>43.889999</td>\n",
              "      <td>38.500000</td>\n",
              "      <td>40.590000</td>\n",
              "      <td>40.590000</td>\n",
              "      <td>14678700</td>\n",
              "      <td>NaN</td>\n",
              "    </tr>\n",
              "    <tr>\n",
              "      <th>2021-02-22</th>\n",
              "      <td>46.689999</td>\n",
              "      <td>48.509998</td>\n",
              "      <td>42.400002</td>\n",
              "      <td>46.000000</td>\n",
              "      <td>46.000000</td>\n",
              "      <td>19338400</td>\n",
              "      <td>These are the most shorted stocks in the U.S. ...</td>\n",
              "    </tr>\n",
              "    <tr>\n",
              "      <th>2021-02-23</th>\n",
              "      <td>44.970001</td>\n",
              "      <td>46.230000</td>\n",
              "      <td>40.000000</td>\n",
              "      <td>44.970001</td>\n",
              "      <td>44.970001</td>\n",
              "      <td>7516000</td>\n",
              "      <td>NaN</td>\n",
              "    </tr>\n",
              "    <tr>\n",
              "      <th>2021-02-24</th>\n",
              "      <td>44.700001</td>\n",
              "      <td>91.709999</td>\n",
              "      <td>44.700001</td>\n",
              "      <td>91.709999</td>\n",
              "      <td>91.709999</td>\n",
              "      <td>76315700</td>\n",
              "      <td>GameStop shares soar more than 100% amid execu...</td>\n",
              "    </tr>\n",
              "    <tr>\n",
              "      <th>2021-02-25</th>\n",
              "      <td>169.559998</td>\n",
              "      <td>184.679993</td>\n",
              "      <td>101.000000</td>\n",
              "      <td>108.730003</td>\n",
              "      <td>108.730003</td>\n",
              "      <td>149282400</td>\n",
              "      <td>Given GME volatility, size investments accordi...</td>\n",
              "    </tr>\n",
              "  </tbody>\n",
              "</table>\n",
              "<p>4792 rows × 7 columns</p>\n",
              "</div>"
            ],
            "text/plain": [
              "                  open  ...                                           headline\n",
              "date                    ...                                                   \n",
              "2002-02-13    9.625000  ...                                                NaN\n",
              "2002-02-14   10.175000  ...                                                NaN\n",
              "2002-02-15   10.000000  ...                                                NaN\n",
              "2002-02-19    9.900000  ...                                                NaN\n",
              "2002-02-20    9.600000  ...                                                NaN\n",
              "...                ...  ...                                                ...\n",
              "2021-02-19   41.279999  ...                                                NaN\n",
              "2021-02-22   46.689999  ...  These are the most shorted stocks in the U.S. ...\n",
              "2021-02-23   44.970001  ...                                                NaN\n",
              "2021-02-24   44.700001  ...  GameStop shares soar more than 100% amid execu...\n",
              "2021-02-25  169.559998  ...  Given GME volatility, size investments accordi...\n",
              "\n",
              "[4792 rows x 7 columns]"
            ]
          },
          "metadata": {
            "tags": []
          },
          "execution_count": 76
        }
      ]
    },
    {
      "cell_type": "code",
      "metadata": {
        "id": "PsHsSsIJZQaX"
      },
      "source": [
        "combine=combine.dropna()"
      ],
      "execution_count": 77,
      "outputs": []
    },
    {
      "cell_type": "code",
      "metadata": {
        "id": "kNFBXdgzOq76",
        "colab": {
          "base_uri": "https://localhost:8080/",
          "height": 450
        },
        "outputId": "60e6a671-1f6f-43f6-fd9e-31435895c1fc"
      },
      "source": [
        "combine"
      ],
      "execution_count": 78,
      "outputs": [
        {
          "output_type": "execute_result",
          "data": {
            "text/html": [
              "<div>\n",
              "<style scoped>\n",
              "    .dataframe tbody tr th:only-of-type {\n",
              "        vertical-align: middle;\n",
              "    }\n",
              "\n",
              "    .dataframe tbody tr th {\n",
              "        vertical-align: top;\n",
              "    }\n",
              "\n",
              "    .dataframe thead th {\n",
              "        text-align: right;\n",
              "    }\n",
              "</style>\n",
              "<table border=\"1\" class=\"dataframe\">\n",
              "  <thead>\n",
              "    <tr style=\"text-align: right;\">\n",
              "      <th></th>\n",
              "      <th>open</th>\n",
              "      <th>high</th>\n",
              "      <th>low</th>\n",
              "      <th>close</th>\n",
              "      <th>adj_close</th>\n",
              "      <th>volume</th>\n",
              "      <th>headline</th>\n",
              "    </tr>\n",
              "    <tr>\n",
              "      <th>date</th>\n",
              "      <th></th>\n",
              "      <th></th>\n",
              "      <th></th>\n",
              "      <th></th>\n",
              "      <th></th>\n",
              "      <th></th>\n",
              "      <th></th>\n",
              "    </tr>\n",
              "  </thead>\n",
              "  <tbody>\n",
              "    <tr>\n",
              "      <th>2007-03-27</th>\n",
              "      <td>30.660000</td>\n",
              "      <td>31.430000</td>\n",
              "      <td>30.250000</td>\n",
              "      <td>31.160000</td>\n",
              "      <td>20.980032</td>\n",
              "      <td>9239200</td>\n",
              "      <td>The Word on Tiffany's, GameStop &amp; More...</td>\n",
              "    </tr>\n",
              "    <tr>\n",
              "      <th>2007-03-28</th>\n",
              "      <td>31.120001</td>\n",
              "      <td>32.980000</td>\n",
              "      <td>30.930000</td>\n",
              "      <td>32.599998</td>\n",
              "      <td>21.949587</td>\n",
              "      <td>5201400</td>\n",
              "      <td>Stock Updates: One Popular Pick May Have Run C...</td>\n",
              "    </tr>\n",
              "    <tr>\n",
              "      <th>2007-04-12</th>\n",
              "      <td>34.340000</td>\n",
              "      <td>34.389999</td>\n",
              "      <td>33.599998</td>\n",
              "      <td>33.910000</td>\n",
              "      <td>22.831612</td>\n",
              "      <td>1472400</td>\n",
              "      <td>No. 3 - Wii Are The World</td>\n",
              "    </tr>\n",
              "    <tr>\n",
              "      <th>2007-04-27</th>\n",
              "      <td>34.040001</td>\n",
              "      <td>34.080002</td>\n",
              "      <td>33.470001</td>\n",
              "      <td>33.610001</td>\n",
              "      <td>22.629618</td>\n",
              "      <td>2469200</td>\n",
              "      <td>Silly Dylan, \"Picks\" Are For Kids!</td>\n",
              "    </tr>\n",
              "    <tr>\n",
              "      <th>2007-05-24</th>\n",
              "      <td>35.869999</td>\n",
              "      <td>36.250000</td>\n",
              "      <td>34.790001</td>\n",
              "      <td>35.209999</td>\n",
              "      <td>23.706896</td>\n",
              "      <td>3187200</td>\n",
              "      <td>Your First Move For Thursday May 24th</td>\n",
              "    </tr>\n",
              "    <tr>\n",
              "      <th>...</th>\n",
              "      <td>...</td>\n",
              "      <td>...</td>\n",
              "      <td>...</td>\n",
              "      <td>...</td>\n",
              "      <td>...</td>\n",
              "      <td>...</td>\n",
              "      <td>...</td>\n",
              "    </tr>\n",
              "    <tr>\n",
              "      <th>2021-02-11</th>\n",
              "      <td>50.009998</td>\n",
              "      <td>55.320000</td>\n",
              "      <td>48.220001</td>\n",
              "      <td>51.099998</td>\n",
              "      <td>51.099998</td>\n",
              "      <td>12997400</td>\n",
              "      <td>Here's the difference between Reddit-fueled GM...</td>\n",
              "    </tr>\n",
              "    <tr>\n",
              "      <th>2021-02-18</th>\n",
              "      <td>48.490002</td>\n",
              "      <td>48.869999</td>\n",
              "      <td>40.650002</td>\n",
              "      <td>40.689999</td>\n",
              "      <td>40.689999</td>\n",
              "      <td>23916900</td>\n",
              "      <td>Reddit trader 'Roaring Kitty' explains his GME...</td>\n",
              "    </tr>\n",
              "    <tr>\n",
              "      <th>2021-02-22</th>\n",
              "      <td>46.689999</td>\n",
              "      <td>48.509998</td>\n",
              "      <td>42.400002</td>\n",
              "      <td>46.000000</td>\n",
              "      <td>46.000000</td>\n",
              "      <td>19338400</td>\n",
              "      <td>These are the most shorted stocks in the U.S. ...</td>\n",
              "    </tr>\n",
              "    <tr>\n",
              "      <th>2021-02-24</th>\n",
              "      <td>44.700001</td>\n",
              "      <td>91.709999</td>\n",
              "      <td>44.700001</td>\n",
              "      <td>91.709999</td>\n",
              "      <td>91.709999</td>\n",
              "      <td>76315700</td>\n",
              "      <td>GameStop shares soar more than 100% amid execu...</td>\n",
              "    </tr>\n",
              "    <tr>\n",
              "      <th>2021-02-25</th>\n",
              "      <td>169.559998</td>\n",
              "      <td>184.679993</td>\n",
              "      <td>101.000000</td>\n",
              "      <td>108.730003</td>\n",
              "      <td>108.730003</td>\n",
              "      <td>149282400</td>\n",
              "      <td>Given GME volatility, size investments accordi...</td>\n",
              "    </tr>\n",
              "  </tbody>\n",
              "</table>\n",
              "<p>452 rows × 7 columns</p>\n",
              "</div>"
            ],
            "text/plain": [
              "                  open  ...                                           headline\n",
              "date                    ...                                                   \n",
              "2007-03-27   30.660000  ...          The Word on Tiffany's, GameStop & More...\n",
              "2007-03-28   31.120001  ...  Stock Updates: One Popular Pick May Have Run C...\n",
              "2007-04-12   34.340000  ...                          No. 3 - Wii Are The World\n",
              "2007-04-27   34.040001  ...                 Silly Dylan, \"Picks\" Are For Kids!\n",
              "2007-05-24   35.869999  ...              Your First Move For Thursday May 24th\n",
              "...                ...  ...                                                ...\n",
              "2021-02-11   50.009998  ...  Here's the difference between Reddit-fueled GM...\n",
              "2021-02-18   48.490002  ...  Reddit trader 'Roaring Kitty' explains his GME...\n",
              "2021-02-22   46.689999  ...  These are the most shorted stocks in the U.S. ...\n",
              "2021-02-24   44.700001  ...  GameStop shares soar more than 100% amid execu...\n",
              "2021-02-25  169.559998  ...  Given GME volatility, size investments accordi...\n",
              "\n",
              "[452 rows x 7 columns]"
            ]
          },
          "metadata": {
            "tags": []
          },
          "execution_count": 78
        }
      ]
    },
    {
      "cell_type": "markdown",
      "metadata": {
        "id": "2R8ePYhok8rs"
      },
      "source": [
        "# References\r\n",
        "\r\n",
        "https://github.com/ranaroussi/yfinance/tree/master/yfinance\r\n",
        "\r\n",
        "https://github.com/peterlacour/finpie\r\n",
        "\r\n",
        "https://github.com/mariostoev/finviz\r\n",
        "\r\n",
        "https://github.com/lit26/finvizfinance\r\n",
        "\r\n",
        "https://stackoverflow.com/questions/61154530/calling-back-end-api-of-cnbc-in-python\r\n",
        "\r\n",
        "https://github.com/wilsonfreitas/awesome-quant#python"
      ]
    },
    {
      "cell_type": "code",
      "metadata": {
        "id": "t4DtMFJ6UrHv"
      },
      "source": [
        "#df=fetching_news(\"S&P 500\",\"https://api.queryly.com/cnbc/json.aspx\")\r\n",
        "#df"
      ],
      "execution_count": 42,
      "outputs": []
    },
    {
      "cell_type": "code",
      "metadata": {
        "id": "SOytYBnuxKXF"
      },
      "source": [
        "#sp500_ticker_list = si.tickers_sp500(include_company_data=True)\r\n",
        "#sp500_ticker_list"
      ],
      "execution_count": 43,
      "outputs": []
    },
    {
      "cell_type": "code",
      "metadata": {
        "id": "sw8O5N09MFsl"
      },
      "source": [
        "#all=si.tickers_nasdaq(include_company_data=True)\r\n",
        "#all"
      ],
      "execution_count": 44,
      "outputs": []
    },
    {
      "cell_type": "code",
      "metadata": {
        "id": "dsk3Y5ydrXkP"
      },
      "source": [
        "#pandas.concat([df1,df2]).drop_duplicates().reset_index(drop=True)"
      ],
      "execution_count": 45,
      "outputs": []
    }
  ]
}