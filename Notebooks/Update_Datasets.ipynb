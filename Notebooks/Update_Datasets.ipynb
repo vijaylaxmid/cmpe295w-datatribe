{
  "nbformat": 4,
  "nbformat_minor": 0,
  "metadata": {
    "colab": {
      "name": "Update_Datasets.ipynb",
      "provenance": [],
      "collapsed_sections": [],
      "toc_visible": true
    },
    "kernelspec": {
      "name": "python3",
      "display_name": "Python 3"
    }
  },
  "cells": [
    {
      "cell_type": "markdown",
      "metadata": {
        "id": "JFrlEwd3k51e"
      },
      "source": [
        "# Update Datasets\r\n",
        "\r\n",
        "Outline:\r\n",
        "\r\n",
        "- PreReq\r\n",
        "- Ticker List\r\n",
        "- Static Data:\r\n",
        "-- Quotes\r\n",
        "-- Description\r\n",
        "-- Fundamental\r\n",
        "- Live Data:\r\n",
        "-- Intraday Quotes\r\n",
        "-- News"
      ]
    },
    {
      "cell_type": "markdown",
      "metadata": {
        "id": "bzRBOHJ9lggy"
      },
      "source": [
        "## Pre-Requisites"
      ]
    },
    {
      "cell_type": "markdown",
      "metadata": {
        "id": "zzmOtjjDlrGj"
      },
      "source": [
        "### G-Drive Connect\r\n",
        "Authorise google colaboratory to access drive."
      ]
    },
    {
      "cell_type": "code",
      "metadata": {
        "id": "CsKWSxVdk2xA",
        "colab": {
          "base_uri": "https://localhost:8080/"
        },
        "outputId": "0759f61b-515c-4e60-cc86-ba4174c27139"
      },
      "source": [
        "from google.colab import drive\r\n",
        "drive.mount('/content/drive')"
      ],
      "execution_count": 1,
      "outputs": [
        {
          "output_type": "stream",
          "text": [
            "Mounted at /content/drive\n"
          ],
          "name": "stdout"
        }
      ]
    },
    {
      "cell_type": "markdown",
      "metadata": {
        "id": "ZGmTUMV3hzr1"
      },
      "source": [
        "### Requirements"
      ]
    },
    {
      "cell_type": "code",
      "metadata": {
        "colab": {
          "base_uri": "https://localhost:8080/"
        },
        "id": "zawoEri-h2QW",
        "outputId": "abf581f8-262b-4109-bd06-e70bfe444e69"
      },
      "source": [
        "!pip install yfinance finvizfinance finviz finpie yahoo_fin"
      ],
      "execution_count": 2,
      "outputs": [
        {
          "output_type": "stream",
          "text": [
            "Collecting yfinance\n",
            "  Downloading https://files.pythonhosted.org/packages/7a/e8/b9d7104d3a4bf39924799067592d9e59119fcfc900a425a12e80a3123ec8/yfinance-0.1.55.tar.gz\n",
            "Collecting finvizfinance\n",
            "  Downloading https://files.pythonhosted.org/packages/89/d5/1a007c00ea0a2d3df209f6643627b94143509682d44c457268802632aaf2/finvizfinance-0.9.2-py3-none-any.whl\n",
            "Collecting finviz\n",
            "  Downloading https://files.pythonhosted.org/packages/5d/ef/6b8cb66c238572ec487ad6aad43d8f0bfbcf677190d962972490df4922e2/finviz-1.3.4.tar.gz\n",
            "Collecting finpie\n",
            "\u001b[?25l  Downloading https://files.pythonhosted.org/packages/e8/0b/3628f9e759ea5e24302a1d42749c803661ecd19ef5fc6482e0c265148dbd/finpie-0.1351.tar.gz (13.5MB)\n",
            "\u001b[K     |████████████████████████████████| 13.5MB 250kB/s \n",
            "\u001b[?25hCollecting yahoo_fin\n",
            "  Downloading https://files.pythonhosted.org/packages/19/ef/f56702d319682840781433e8df747407a636a313d801039e58028c77269b/yahoo_fin-0.8.7-py3-none-any.whl\n",
            "Requirement already satisfied: pandas>=0.24 in /usr/local/lib/python3.7/dist-packages (from yfinance) (1.1.5)\n",
            "Requirement already satisfied: numpy>=1.15 in /usr/local/lib/python3.7/dist-packages (from yfinance) (1.19.5)\n",
            "Requirement already satisfied: requests>=2.20 in /usr/local/lib/python3.7/dist-packages (from yfinance) (2.23.0)\n",
            "Requirement already satisfied: multitasking>=0.0.7 in /usr/local/lib/python3.7/dist-packages (from yfinance) (0.0.9)\n",
            "Collecting lxml>=4.5.1\n",
            "\u001b[?25l  Downloading https://files.pythonhosted.org/packages/d2/88/b25778f17e5320c1c58f8c5060fb5b037288e162bd7554c30799e9ea90db/lxml-4.6.2-cp37-cp37m-manylinux1_x86_64.whl (5.5MB)\n",
            "\u001b[K     |████████████████████████████████| 5.5MB 46.9MB/s \n",
            "\u001b[?25hCollecting datetime\n",
            "\u001b[?25l  Downloading https://files.pythonhosted.org/packages/73/22/a5297f3a1f92468cc737f8ce7ba6e5f245fcfafeae810ba37bd1039ea01c/DateTime-4.3-py2.py3-none-any.whl (60kB)\n",
            "\u001b[K     |████████████████████████████████| 61kB 5.9MB/s \n",
            "\u001b[?25hRequirement already satisfied: bs4 in /usr/local/lib/python3.7/dist-packages (from finvizfinance) (0.0.1)\n",
            "Collecting aiohttp\n",
            "\u001b[?25l  Downloading https://files.pythonhosted.org/packages/5b/a6/d36302eba284f4f427dc288f6b3ecd7f89d739cfca206b80311d3158f6d9/aiohttp-3.7.4-cp37-cp37m-manylinux2014_x86_64.whl (1.3MB)\n",
            "\u001b[K     |████████████████████████████████| 1.3MB 45.4MB/s \n",
            "\u001b[?25hRequirement already satisfied: urllib3 in /usr/local/lib/python3.7/dist-packages (from finviz) (1.24.3)\n",
            "Collecting cssselect\n",
            "  Downloading https://files.pythonhosted.org/packages/3b/d4/3b5c17f00cce85b9a1e6f91096e1cc8e8ede2e1be8e96b87ce1ed09e92c5/cssselect-1.1.0-py2.py3-none-any.whl\n",
            "Collecting user_agent\n",
            "  Downloading https://files.pythonhosted.org/packages/c3/ca/15546284f62edfec7666ecb6403a6e77f5db850def37cd36f140d99cce02/user_agent-0.1.9.tar.gz\n",
            "Collecting selenium>=3.14.0\n",
            "\u001b[?25l  Downloading https://files.pythonhosted.org/packages/80/d6/4294f0b4bce4de0abf13e17190289f9d0613b0a44e5dd6a7f5ca98459853/selenium-3.141.0-py2.py3-none-any.whl (904kB)\n",
            "\u001b[K     |████████████████████████████████| 911kB 43.0MB/s \n",
            "\u001b[?25hCollecting iexfinance\n",
            "\u001b[?25l  Downloading https://files.pythonhosted.org/packages/39/a6/653eb3306789f97f761a7889913923e0e814967a342099d4f11c0604eaa1/iexfinance-0.5.0-py3-none-any.whl (54kB)\n",
            "\u001b[K     |████████████████████████████████| 61kB 6.0MB/s \n",
            "\u001b[?25hRequirement already satisfied: tqdm in /usr/local/lib/python3.7/dist-packages (from finpie) (4.41.1)\n",
            "Collecting alpha_vantage\n",
            "  Downloading https://files.pythonhosted.org/packages/ba/b4/d95f9e0eccea6732bab5a079772d453a4f0b68a9f63740d9cf320f92beaa/alpha_vantage-2.3.1-py3-none-any.whl\n",
            "Requirement already satisfied: dask[complete] in /usr/local/lib/python3.7/dist-packages (from finpie) (2.12.0)\n",
            "Requirement already satisfied: beautifulsoup4 in /usr/local/lib/python3.7/dist-packages (from finpie) (4.6.3)\n",
            "Requirement already satisfied: html5lib in /usr/local/lib/python3.7/dist-packages (from finpie) (1.0.1)\n",
            "Requirement already satisfied: xlrd in /usr/local/lib/python3.7/dist-packages (from finpie) (1.1.0)\n",
            "Collecting requests_html\n",
            "  Downloading https://files.pythonhosted.org/packages/24/bc/a4380f09bab3a776182578ce6b2771e57259d0d4dbce178205779abdc347/requests_html-0.10.0-py3-none-any.whl\n",
            "Collecting feedparser\n",
            "\u001b[?25l  Downloading https://files.pythonhosted.org/packages/1c/21/faf1bac028662cc8adb2b5ef7a6f3999a765baa2835331df365289b0ca56/feedparser-6.0.2-py3-none-any.whl (80kB)\n",
            "\u001b[K     |████████████████████████████████| 81kB 7.0MB/s \n",
            "\u001b[?25hRequirement already satisfied: pytz>=2017.2 in /usr/local/lib/python3.7/dist-packages (from pandas>=0.24->yfinance) (2018.9)\n",
            "Requirement already satisfied: python-dateutil>=2.7.3 in /usr/local/lib/python3.7/dist-packages (from pandas>=0.24->yfinance) (2.8.1)\n",
            "Requirement already satisfied: chardet<4,>=3.0.2 in /usr/local/lib/python3.7/dist-packages (from requests>=2.20->yfinance) (3.0.4)\n",
            "Requirement already satisfied: certifi>=2017.4.17 in /usr/local/lib/python3.7/dist-packages (from requests>=2.20->yfinance) (2020.12.5)\n",
            "Requirement already satisfied: idna<3,>=2.5 in /usr/local/lib/python3.7/dist-packages (from requests>=2.20->yfinance) (2.10)\n",
            "Collecting zope.interface\n",
            "\u001b[?25l  Downloading https://files.pythonhosted.org/packages/f8/42/d8f11eaef844bee267821281fffe445e49cf31b486d72a81821a9d45cd0a/zope.interface-5.2.0-cp37-cp37m-manylinux2010_x86_64.whl (237kB)\n",
            "\u001b[K     |████████████████████████████████| 245kB 42.0MB/s \n",
            "\u001b[?25hCollecting multidict<7.0,>=4.5\n",
            "\u001b[?25l  Downloading https://files.pythonhosted.org/packages/7c/a6/4123b8165acbe773d1a8dc8e3f0d1edea16d29f7de018eda769abb56bd30/multidict-5.1.0-cp37-cp37m-manylinux2014_x86_64.whl (142kB)\n",
            "\u001b[K     |████████████████████████████████| 143kB 52.5MB/s \n",
            "\u001b[?25hCollecting async-timeout<4.0,>=3.0\n",
            "  Downloading https://files.pythonhosted.org/packages/e1/1e/5a4441be21b0726c4464f3f23c8b19628372f606755a9d2e46c187e65ec4/async_timeout-3.0.1-py3-none-any.whl\n",
            "Requirement already satisfied: attrs>=17.3.0 in /usr/local/lib/python3.7/dist-packages (from aiohttp->finviz) (20.3.0)\n",
            "Requirement already satisfied: typing-extensions>=3.6.5 in /usr/local/lib/python3.7/dist-packages (from aiohttp->finviz) (3.7.4.3)\n",
            "Collecting yarl<2.0,>=1.0\n",
            "\u001b[?25l  Downloading https://files.pythonhosted.org/packages/f1/62/046834c5fc998c88ab2ef722f5d42122230a632212c8afa76418324f53ff/yarl-1.6.3-cp37-cp37m-manylinux2014_x86_64.whl (294kB)\n",
            "\u001b[K     |████████████████████████████████| 296kB 41.6MB/s \n",
            "\u001b[?25hRequirement already satisfied: six in /usr/local/lib/python3.7/dist-packages (from user_agent->finviz) (1.15.0)\n",
            "Requirement already satisfied: cloudpickle>=0.2.1; extra == \"complete\" in /usr/local/lib/python3.7/dist-packages (from dask[complete]->finpie) (1.3.0)\n",
            "Collecting fsspec>=0.6.0; extra == \"complete\"\n",
            "\u001b[?25l  Downloading https://files.pythonhosted.org/packages/91/0d/a6bfee0ddf47b254286b9bd574e6f50978c69897647ae15b14230711806e/fsspec-0.8.7-py3-none-any.whl (103kB)\n",
            "\u001b[K     |████████████████████████████████| 112kB 36.6MB/s \n",
            "\u001b[?25hRequirement already satisfied: toolz>=0.7.3; extra == \"complete\" in /usr/local/lib/python3.7/dist-packages (from dask[complete]->finpie) (0.11.1)\n",
            "Collecting distributed>=2.0; extra == \"complete\"\n",
            "\u001b[?25l  Downloading https://files.pythonhosted.org/packages/9d/21/25d2b3af5094cbe17e8eaacc7a55018ae673624782a955430521992ca4c2/distributed-2021.2.0-py3-none-any.whl (675kB)\n",
            "\u001b[K     |████████████████████████████████| 675kB 41.4MB/s \n",
            "\u001b[?25hRequirement already satisfied: PyYaml; extra == \"complete\" in /usr/local/lib/python3.7/dist-packages (from dask[complete]->finpie) (3.13)\n",
            "Collecting partd>=0.3.10; extra == \"complete\"\n",
            "  Downloading https://files.pythonhosted.org/packages/44/e1/68dbe731c9c067655bff1eca5b7d40c20ca4b23fd5ec9f3d17e201a6f36b/partd-1.1.0-py3-none-any.whl\n",
            "Requirement already satisfied: bokeh>=1.0.0; extra == \"complete\" in /usr/local/lib/python3.7/dist-packages (from dask[complete]->finpie) (2.1.1)\n",
            "Requirement already satisfied: webencodings in /usr/local/lib/python3.7/dist-packages (from html5lib->finpie) (0.5.1)\n",
            "Collecting w3lib\n",
            "  Downloading https://files.pythonhosted.org/packages/a3/59/b6b14521090e7f42669cafdb84b0ab89301a42f1f1a82fcf5856661ea3a7/w3lib-1.22.0-py2.py3-none-any.whl\n",
            "Collecting pyppeteer>=0.0.14\n",
            "\u001b[?25l  Downloading https://files.pythonhosted.org/packages/4a/05/ea3250282e46fda60df1f1d5246bb8cdc022abb89969c61a98ea28fd6b82/pyppeteer-0.2.5-py3-none-any.whl (87kB)\n",
            "\u001b[K     |████████████████████████████████| 92kB 7.3MB/s \n",
            "\u001b[?25hCollecting fake-useragent\n",
            "  Downloading https://files.pythonhosted.org/packages/d1/79/af647635d6968e2deb57a208d309f6069d31cb138066d7e821e575112a80/fake-useragent-0.1.11.tar.gz\n",
            "Collecting pyquery\n",
            "  Downloading https://files.pythonhosted.org/packages/58/0b/85d15e21f660a8ea68b1e0286168938857391f4ec9f6d204d91c9e013826/pyquery-1.4.3-py3-none-any.whl\n",
            "Collecting parse\n",
            "  Downloading https://files.pythonhosted.org/packages/89/a1/82ce536be577ba09d4dcee45db58423a180873ad38a2d014d26ab7b7cb8a/parse-1.19.0.tar.gz\n",
            "Collecting sgmllib3k\n",
            "  Downloading https://files.pythonhosted.org/packages/9e/bd/3704a8c3e0942d711c1299ebf7b9091930adae6675d7c8f476a7ce48653c/sgmllib3k-1.0.0.tar.gz\n",
            "Requirement already satisfied: setuptools in /usr/local/lib/python3.7/dist-packages (from zope.interface->datetime->finvizfinance) (53.0.0)\n",
            "Requirement already satisfied: importlib-metadata; python_version < \"3.8\" in /usr/local/lib/python3.7/dist-packages (from fsspec>=0.6.0; extra == \"complete\"->dask[complete]->finpie) (3.7.0)\n",
            "Requirement already satisfied: click>=6.6 in /usr/local/lib/python3.7/dist-packages (from distributed>=2.0; extra == \"complete\"->dask[complete]->finpie) (7.1.2)\n",
            "Requirement already satisfied: sortedcontainers!=2.0.0,!=2.0.1 in /usr/local/lib/python3.7/dist-packages (from distributed>=2.0; extra == \"complete\"->dask[complete]->finpie) (2.3.0)\n",
            "Requirement already satisfied: zict>=0.1.3 in /usr/local/lib/python3.7/dist-packages (from distributed>=2.0; extra == \"complete\"->dask[complete]->finpie) (2.0.0)\n",
            "Requirement already satisfied: psutil>=5.0 in /usr/local/lib/python3.7/dist-packages (from distributed>=2.0; extra == \"complete\"->dask[complete]->finpie) (5.4.8)\n",
            "Requirement already satisfied: tornado>=5; python_version < \"3.8\" in /usr/local/lib/python3.7/dist-packages (from distributed>=2.0; extra == \"complete\"->dask[complete]->finpie) (5.1.1)\n",
            "Requirement already satisfied: msgpack>=0.6.0 in /usr/local/lib/python3.7/dist-packages (from distributed>=2.0; extra == \"complete\"->dask[complete]->finpie) (1.0.2)\n",
            "Requirement already satisfied: tblib>=1.6.0 in /usr/local/lib/python3.7/dist-packages (from distributed>=2.0; extra == \"complete\"->dask[complete]->finpie) (1.7.0)\n",
            "Collecting locket\n",
            "  Downloading https://files.pythonhosted.org/packages/50/b8/e789e45b9b9c2db75e9d9e6ceb022c8d1d7e49b2c085ce8c05600f90a96b/locket-0.2.1-py2.py3-none-any.whl\n",
            "Requirement already satisfied: pillow>=4.0 in /usr/local/lib/python3.7/dist-packages (from bokeh>=1.0.0; extra == \"complete\"->dask[complete]->finpie) (7.0.0)\n",
            "Requirement already satisfied: packaging>=16.8 in /usr/local/lib/python3.7/dist-packages (from bokeh>=1.0.0; extra == \"complete\"->dask[complete]->finpie) (20.9)\n",
            "Requirement already satisfied: Jinja2>=2.7 in /usr/local/lib/python3.7/dist-packages (from bokeh>=1.0.0; extra == \"complete\"->dask[complete]->finpie) (2.11.3)\n",
            "Requirement already satisfied: appdirs<2.0.0,>=1.4.3 in /usr/local/lib/python3.7/dist-packages (from pyppeteer>=0.0.14->requests_html->finpie) (1.4.4)\n",
            "Collecting pyee<9.0.0,>=8.1.0\n",
            "  Downloading https://files.pythonhosted.org/packages/0d/0a/933b3931107e1da186963fd9bb9bceb9a613cff034cb0fb3b0c61003f357/pyee-8.1.0-py2.py3-none-any.whl\n",
            "Collecting websockets<9.0,>=8.1\n",
            "\u001b[?25l  Downloading https://files.pythonhosted.org/packages/5a/0b/3ebc752392a368af14dd24ee041683416ac6d2463eead94b311b11e41c82/websockets-8.1-cp37-cp37m-manylinux2010_x86_64.whl (79kB)\n",
            "\u001b[K     |████████████████████████████████| 81kB 7.5MB/s \n",
            "\u001b[?25hRequirement already satisfied: zipp>=0.5 in /usr/local/lib/python3.7/dist-packages (from importlib-metadata; python_version < \"3.8\"->fsspec>=0.6.0; extra == \"complete\"->dask[complete]->finpie) (3.4.0)\n",
            "Requirement already satisfied: heapdict in /usr/local/lib/python3.7/dist-packages (from zict>=0.1.3->distributed>=2.0; extra == \"complete\"->dask[complete]->finpie) (1.0.1)\n",
            "Requirement already satisfied: pyparsing>=2.0.2 in /usr/local/lib/python3.7/dist-packages (from packaging>=16.8->bokeh>=1.0.0; extra == \"complete\"->dask[complete]->finpie) (2.4.7)\n",
            "Requirement already satisfied: MarkupSafe>=0.23 in /usr/local/lib/python3.7/dist-packages (from Jinja2>=2.7->bokeh>=1.0.0; extra == \"complete\"->dask[complete]->finpie) (1.1.1)\n",
            "Building wheels for collected packages: yfinance, finviz, finpie, user-agent, fake-useragent, parse, sgmllib3k\n",
            "  Building wheel for yfinance (setup.py) ... \u001b[?25l\u001b[?25hdone\n",
            "  Created wheel for yfinance: filename=yfinance-0.1.55-py2.py3-none-any.whl size=22616 sha256=0d77c03652780554eaaff2e9fdfc0b1cec11d1a12f6a91f84a777a91e4870499\n",
            "  Stored in directory: /root/.cache/pip/wheels/04/98/cc/2702a4242d60bdc14f48b4557c427ded1fe92aedf257d4565c\n",
            "  Building wheel for finviz (setup.py) ... \u001b[?25l\u001b[?25hdone\n",
            "  Created wheel for finviz: filename=finviz-1.3.4-cp37-none-any.whl size=15193 sha256=de4e485b452401306bdf277a6048f796532582eaf10e4461fbc1c894bab3216f\n",
            "  Stored in directory: /root/.cache/pip/wheels/6d/fa/7c/4cc075d8af3f8ed083dd112b1a2b09888b9a9a2964c907291f\n",
            "  Building wheel for finpie (setup.py) ... \u001b[?25l\u001b[?25hdone\n",
            "  Created wheel for finpie: filename=finpie-0.1351-cp37-none-any.whl size=13437456 sha256=9727a571124329444a2554d94a28093f84899f075511fca13ef72e60e0be6f4f\n",
            "  Stored in directory: /root/.cache/pip/wheels/b0/8a/d2/25dff48bf5fa0112416ac2b38426b99a2dda23aeb44d8b8317\n",
            "  Building wheel for user-agent (setup.py) ... \u001b[?25l\u001b[?25hdone\n",
            "  Created wheel for user-agent: filename=user_agent-0.1.9-cp37-none-any.whl size=18809 sha256=ec016ac198d18d59f6e90fb1d16d4ced73adae7033469c9330eff886e997ed90\n",
            "  Stored in directory: /root/.cache/pip/wheels/92/80/3f/5d79277825042f2d4d447f594e3fc046f1e506f2b481d364b2\n",
            "  Building wheel for fake-useragent (setup.py) ... \u001b[?25l\u001b[?25hdone\n",
            "  Created wheel for fake-useragent: filename=fake_useragent-0.1.11-cp37-none-any.whl size=13485 sha256=420bef1311d511554418a1b431ccc5c54717494d01b9cb1d8fb3df48caf22394\n",
            "  Stored in directory: /root/.cache/pip/wheels/5e/63/09/d1dc15179f175357d3f5c00cbffbac37f9e8690d80545143ff\n",
            "  Building wheel for parse (setup.py) ... \u001b[?25l\u001b[?25hdone\n",
            "  Created wheel for parse: filename=parse-1.19.0-cp37-none-any.whl size=24581 sha256=a144a587a829a6b4e0d3d1140a4013b7862b67fd2c67eb7c4740ee0560588362\n",
            "  Stored in directory: /root/.cache/pip/wheels/c0/39/ea/e2fd678bd130953f5438470b8dfa529f00787e9b8b92b27467\n",
            "  Building wheel for sgmllib3k (setup.py) ... \u001b[?25l\u001b[?25hdone\n",
            "  Created wheel for sgmllib3k: filename=sgmllib3k-1.0.0-cp37-none-any.whl size=6067 sha256=4cdd4fc08ab75eb740a2656bae8c61e54f21cce598d20eef0950de59040dec44\n",
            "  Stored in directory: /root/.cache/pip/wheels/f1/80/5a/444ba08a550cdd241bd9baf8bae44be750efe370adb944506a\n",
            "Successfully built yfinance finviz finpie user-agent fake-useragent parse sgmllib3k\n",
            "\u001b[31mERROR: distributed 2021.2.0 has requirement cloudpickle>=1.5.0, but you'll have cloudpickle 1.3.0 which is incompatible.\u001b[0m\n",
            "\u001b[31mERROR: distributed 2021.2.0 has requirement dask>=2021.02.0, but you'll have dask 2.12.0 which is incompatible.\u001b[0m\n",
            "\u001b[31mERROR: pyppeteer 0.2.5 has requirement importlib-metadata<3.0.0,>=2.1.1; python_version < \"3.8\", but you'll have importlib-metadata 3.7.0 which is incompatible.\u001b[0m\n",
            "\u001b[31mERROR: pyppeteer 0.2.5 has requirement tqdm<5.0.0,>=4.42.1, but you'll have tqdm 4.41.1 which is incompatible.\u001b[0m\n",
            "\u001b[31mERROR: pyppeteer 0.2.5 has requirement urllib3<2.0.0,>=1.25.8, but you'll have urllib3 1.24.3 which is incompatible.\u001b[0m\n",
            "Installing collected packages: lxml, yfinance, zope.interface, datetime, finvizfinance, multidict, async-timeout, yarl, aiohttp, cssselect, user-agent, finviz, selenium, iexfinance, alpha-vantage, w3lib, pyee, websockets, pyppeteer, fake-useragent, pyquery, parse, requests-html, finpie, sgmllib3k, feedparser, yahoo-fin, fsspec, distributed, locket, partd\n",
            "  Found existing installation: lxml 4.2.6\n",
            "    Uninstalling lxml-4.2.6:\n",
            "      Successfully uninstalled lxml-4.2.6\n",
            "  Found existing installation: distributed 1.25.3\n",
            "    Uninstalling distributed-1.25.3:\n",
            "      Successfully uninstalled distributed-1.25.3\n",
            "Successfully installed aiohttp-3.7.4 alpha-vantage-2.3.1 async-timeout-3.0.1 cssselect-1.1.0 datetime-4.3 distributed-2021.2.0 fake-useragent-0.1.11 feedparser-6.0.2 finpie-0.1351 finviz-1.3.4 finvizfinance-0.9.2 fsspec-0.8.7 iexfinance-0.5.0 locket-0.2.1 lxml-4.6.2 multidict-5.1.0 parse-1.19.0 partd-1.1.0 pyee-8.1.0 pyppeteer-0.2.5 pyquery-1.4.3 requests-html-0.10.0 selenium-3.141.0 sgmllib3k-1.0.0 user-agent-0.1.9 w3lib-1.22.0 websockets-8.1 yahoo-fin-0.8.7 yarl-1.6.3 yfinance-0.1.55 zope.interface-5.2.0\n"
          ],
          "name": "stdout"
        }
      ]
    },
    {
      "cell_type": "markdown",
      "metadata": {
        "id": "DgVidgmhhhg9"
      },
      "source": [
        "### Import dependencies"
      ]
    },
    {
      "cell_type": "code",
      "metadata": {
        "id": "dzNzArDOhorw"
      },
      "source": [
        "import pandas as pd\r\n",
        "import finpie\r\n",
        "import yfinance as yf\r\n",
        "import finviz\r\n",
        "import finvizfinance\r\n",
        "import time\r\n",
        "import progressbar\r\n",
        "from finvizfinance.screener.overview import Overview\r\n",
        "from yahoo_fin import stock_info as si"
      ],
      "execution_count": 3,
      "outputs": []
    },
    {
      "cell_type": "markdown",
      "metadata": {
        "id": "1NfXwBuGR2wc"
      },
      "source": [
        "## Static Data\r\n",
        "\r\n",
        "The static data records the historic price values for the equities. This should be updated after the markets close at 8 pm EST."
      ]
    },
    {
      "cell_type": "markdown",
      "metadata": {
        "id": "QGIWcR5bPSF-"
      },
      "source": [
        "### Ticker List\r\n",
        "The ticker symbol list needs to be updated as new symbols are being listed/delisted everyday."
      ]
    },
    {
      "cell_type": "code",
      "metadata": {
        "id": "6KiYwfCyPXhO"
      },
      "source": [
        "def update_ticker_list():\r\n",
        "  # Download latest ticker list from Nasdaq\r\n",
        "  ticker_list=finpie.nasdaq_tickers()\r\n",
        "  # Select Symbol Column\r\n",
        "  ticker_list=ticker_list['Symbol']\r\n",
        "  # Save ticker list to csv\r\n",
        "  ticker_list.to_csv('/content/drive/My Drive/Master Project/Dataset/stocks_ticker_list_latest/symbols.csv',index=None)\r\n",
        "  # Download latest ticker list in S&P500\r\n",
        "  foverview = Overview()\r\n",
        "  filters_dict = {'Index':'S&P 500','Sector':'Any'}\r\n",
        "  foverview.set_filter(filters_dict=filters_dict)\r\n",
        "  df = foverview.ScreenerView()\r\n",
        "  # Select Symbol Column\r\n",
        "  df['Symbol']=df['Ticker']\r\n",
        "  df=df['Symbol']\r\n",
        "  # Save ticker list to csv\r\n",
        "  df.to_csv('/content/drive/My Drive/Master Project/Dataset/stocks_ticker_list_latest/S&P500.csv',index=None)\r\n",
        "  print(\"Success\")"
      ],
      "execution_count": 4,
      "outputs": []
    },
    {
      "cell_type": "markdown",
      "metadata": {
        "id": "s_oxegp0RzlK"
      },
      "source": [
        "### Stock Data\r\n",
        "\r\n",
        "The download functionality takes about 3 hours to completely download historic data for all 9000+ symbols. Modify your serach criteria for downloading datasets to save time."
      ]
    },
    {
      "cell_type": "code",
      "metadata": {
        "id": "ZZc2z-Cl7fam"
      },
      "source": [
        "def update_historical_price(letter=\"sp500\"):\r\n",
        "  symbols=pd.read_csv('/content/drive/My Drive/Master Project/Dataset/stocks_ticker_list_latest/symbols.csv')\r\n",
        "  if letter == \"all\":\r\n",
        "    symbols=pd.read_csv('/content/drive/My Drive/Master Project/Dataset/stocks_ticker_list_latest/symbols.csv')\r\n",
        "  elif letter == \"sp500\":\r\n",
        "    symbols=pd.read_csv('/content/drive/My Drive/Master Project/Dataset/stocks_ticker_list_latest/S&P500.csv')\r\n",
        "  else:\r\n",
        "    symbols=symbols[[x.startswith(letter) for x in symbols['Symbol']]]\r\n",
        "\r\n",
        "  bar = progressbar.ProgressBar(\r\n",
        "      widgets=[\r\n",
        "          progressbar.Counter(format='%(value)5d/%(max_value)d | %(dynamic_messages)6s | '),\r\n",
        "          progressbar.Timer(format= 'Elapsed: %(elapsed)s '),\r\n",
        "          progressbar.Bar('*'),\r\n",
        "          ' ',\r\n",
        "          progressbar.AdaptiveETA(),\r\n",
        "      ],\r\n",
        "  )\r\n",
        "\r\n",
        "  for symbol in bar(symbols['Symbol']):\r\n",
        "    try:\r\n",
        "      bar.dynamic_messages=symbol\r\n",
        "      data=finpie.historical_prices(symbol)\r\n",
        "      data.to_csv('/content/drive/My Drive/Master Project/Dataset/stock_market_datasets/market_historic/{}.csv'.format(symbol))\r\n",
        "      #print(symbol)\r\n",
        "      #time.sleep(1)\r\n",
        "    except:\r\n",
        "      pass"
      ],
      "execution_count": 5,
      "outputs": []
    },
    {
      "cell_type": "code",
      "metadata": {
        "colab": {
          "base_uri": "https://localhost:8080/",
          "height": 450
        },
        "id": "i0w1SyqkOmMN",
        "outputId": "ce588080-d74b-4ad7-a587-430667b868ce"
      },
      "source": [
        "finpie.historical_prices(\"PLTR\")"
      ],
      "execution_count": 7,
      "outputs": [
        {
          "output_type": "execute_result",
          "data": {
            "text/html": [
              "<div>\n",
              "<style scoped>\n",
              "    .dataframe tbody tr th:only-of-type {\n",
              "        vertical-align: middle;\n",
              "    }\n",
              "\n",
              "    .dataframe tbody tr th {\n",
              "        vertical-align: top;\n",
              "    }\n",
              "\n",
              "    .dataframe thead th {\n",
              "        text-align: right;\n",
              "    }\n",
              "</style>\n",
              "<table border=\"1\" class=\"dataframe\">\n",
              "  <thead>\n",
              "    <tr style=\"text-align: right;\">\n",
              "      <th></th>\n",
              "      <th>open</th>\n",
              "      <th>high</th>\n",
              "      <th>low</th>\n",
              "      <th>close</th>\n",
              "      <th>adj_close</th>\n",
              "      <th>volume</th>\n",
              "    </tr>\n",
              "    <tr>\n",
              "      <th>date</th>\n",
              "      <th></th>\n",
              "      <th></th>\n",
              "      <th></th>\n",
              "      <th></th>\n",
              "      <th></th>\n",
              "      <th></th>\n",
              "    </tr>\n",
              "  </thead>\n",
              "  <tbody>\n",
              "    <tr>\n",
              "      <th>2020-09-30</th>\n",
              "      <td>10.000000</td>\n",
              "      <td>11.410000</td>\n",
              "      <td>9.110000</td>\n",
              "      <td>9.500000</td>\n",
              "      <td>9.500000</td>\n",
              "      <td>338584400</td>\n",
              "    </tr>\n",
              "    <tr>\n",
              "      <th>2020-10-01</th>\n",
              "      <td>9.690000</td>\n",
              "      <td>10.100000</td>\n",
              "      <td>9.230000</td>\n",
              "      <td>9.460000</td>\n",
              "      <td>9.460000</td>\n",
              "      <td>124297600</td>\n",
              "    </tr>\n",
              "    <tr>\n",
              "      <th>2020-10-02</th>\n",
              "      <td>9.060000</td>\n",
              "      <td>9.280000</td>\n",
              "      <td>8.940000</td>\n",
              "      <td>9.200000</td>\n",
              "      <td>9.200000</td>\n",
              "      <td>55018300</td>\n",
              "    </tr>\n",
              "    <tr>\n",
              "      <th>2020-10-05</th>\n",
              "      <td>9.430000</td>\n",
              "      <td>9.490000</td>\n",
              "      <td>8.920000</td>\n",
              "      <td>9.030000</td>\n",
              "      <td>9.030000</td>\n",
              "      <td>36316900</td>\n",
              "    </tr>\n",
              "    <tr>\n",
              "      <th>2020-10-06</th>\n",
              "      <td>9.040000</td>\n",
              "      <td>10.180000</td>\n",
              "      <td>8.900000</td>\n",
              "      <td>9.900000</td>\n",
              "      <td>9.900000</td>\n",
              "      <td>90864000</td>\n",
              "    </tr>\n",
              "    <tr>\n",
              "      <th>...</th>\n",
              "      <td>...</td>\n",
              "      <td>...</td>\n",
              "      <td>...</td>\n",
              "      <td>...</td>\n",
              "      <td>...</td>\n",
              "      <td>...</td>\n",
              "    </tr>\n",
              "    <tr>\n",
              "      <th>2021-02-22</th>\n",
              "      <td>29.959999</td>\n",
              "      <td>30.190001</td>\n",
              "      <td>27.535999</td>\n",
              "      <td>28.000000</td>\n",
              "      <td>28.000000</td>\n",
              "      <td>181564500</td>\n",
              "    </tr>\n",
              "    <tr>\n",
              "      <th>2021-02-23</th>\n",
              "      <td>25.959999</td>\n",
              "      <td>27.459999</td>\n",
              "      <td>23.900000</td>\n",
              "      <td>26.750000</td>\n",
              "      <td>26.750000</td>\n",
              "      <td>144516900</td>\n",
              "    </tr>\n",
              "    <tr>\n",
              "      <th>2021-02-24</th>\n",
              "      <td>26.709999</td>\n",
              "      <td>27.230000</td>\n",
              "      <td>25.750000</td>\n",
              "      <td>26.389999</td>\n",
              "      <td>26.389999</td>\n",
              "      <td>89320100</td>\n",
              "    </tr>\n",
              "    <tr>\n",
              "      <th>2021-02-25</th>\n",
              "      <td>25.820000</td>\n",
              "      <td>26.440001</td>\n",
              "      <td>23.150000</td>\n",
              "      <td>23.959999</td>\n",
              "      <td>23.959999</td>\n",
              "      <td>160304800</td>\n",
              "    </tr>\n",
              "    <tr>\n",
              "      <th>2021-02-26</th>\n",
              "      <td>24.200001</td>\n",
              "      <td>24.500000</td>\n",
              "      <td>22.700001</td>\n",
              "      <td>23.900000</td>\n",
              "      <td>23.900000</td>\n",
              "      <td>118368700</td>\n",
              "    </tr>\n",
              "  </tbody>\n",
              "</table>\n",
              "<p>103 rows × 6 columns</p>\n",
              "</div>"
            ],
            "text/plain": [
              "                 open       high        low      close  adj_close     volume\n",
              "date                                                                        \n",
              "2020-09-30  10.000000  11.410000   9.110000   9.500000   9.500000  338584400\n",
              "2020-10-01   9.690000  10.100000   9.230000   9.460000   9.460000  124297600\n",
              "2020-10-02   9.060000   9.280000   8.940000   9.200000   9.200000   55018300\n",
              "2020-10-05   9.430000   9.490000   8.920000   9.030000   9.030000   36316900\n",
              "2020-10-06   9.040000  10.180000   8.900000   9.900000   9.900000   90864000\n",
              "...               ...        ...        ...        ...        ...        ...\n",
              "2021-02-22  29.959999  30.190001  27.535999  28.000000  28.000000  181564500\n",
              "2021-02-23  25.959999  27.459999  23.900000  26.750000  26.750000  144516900\n",
              "2021-02-24  26.709999  27.230000  25.750000  26.389999  26.389999   89320100\n",
              "2021-02-25  25.820000  26.440001  23.150000  23.959999  23.959999  160304800\n",
              "2021-02-26  24.200001  24.500000  22.700001  23.900000  23.900000  118368700\n",
              "\n",
              "[103 rows x 6 columns]"
            ]
          },
          "metadata": {
            "tags": []
          },
          "execution_count": 7
        }
      ]
    },
    {
      "cell_type": "code",
      "metadata": {
        "colab": {
          "base_uri": "https://localhost:8080/",
          "height": 419
        },
        "id": "dap9zWhPODuh",
        "outputId": "fec19fd1-960b-444e-f90b-86b1f58207f4"
      },
      "source": [
        "si.get_data(\"PLTR\")"
      ],
      "execution_count": 8,
      "outputs": [
        {
          "output_type": "execute_result",
          "data": {
            "text/html": [
              "<div>\n",
              "<style scoped>\n",
              "    .dataframe tbody tr th:only-of-type {\n",
              "        vertical-align: middle;\n",
              "    }\n",
              "\n",
              "    .dataframe tbody tr th {\n",
              "        vertical-align: top;\n",
              "    }\n",
              "\n",
              "    .dataframe thead th {\n",
              "        text-align: right;\n",
              "    }\n",
              "</style>\n",
              "<table border=\"1\" class=\"dataframe\">\n",
              "  <thead>\n",
              "    <tr style=\"text-align: right;\">\n",
              "      <th></th>\n",
              "      <th>open</th>\n",
              "      <th>high</th>\n",
              "      <th>low</th>\n",
              "      <th>close</th>\n",
              "      <th>adjclose</th>\n",
              "      <th>volume</th>\n",
              "      <th>ticker</th>\n",
              "    </tr>\n",
              "  </thead>\n",
              "  <tbody>\n",
              "    <tr>\n",
              "      <th>2020-09-30</th>\n",
              "      <td>10.000000</td>\n",
              "      <td>11.410000</td>\n",
              "      <td>9.110000</td>\n",
              "      <td>9.500000</td>\n",
              "      <td>9.500000</td>\n",
              "      <td>338584400</td>\n",
              "      <td>PLTR</td>\n",
              "    </tr>\n",
              "    <tr>\n",
              "      <th>2020-10-01</th>\n",
              "      <td>9.690000</td>\n",
              "      <td>10.100000</td>\n",
              "      <td>9.230000</td>\n",
              "      <td>9.460000</td>\n",
              "      <td>9.460000</td>\n",
              "      <td>124297600</td>\n",
              "      <td>PLTR</td>\n",
              "    </tr>\n",
              "    <tr>\n",
              "      <th>2020-10-02</th>\n",
              "      <td>9.060000</td>\n",
              "      <td>9.280000</td>\n",
              "      <td>8.940000</td>\n",
              "      <td>9.200000</td>\n",
              "      <td>9.200000</td>\n",
              "      <td>55018300</td>\n",
              "      <td>PLTR</td>\n",
              "    </tr>\n",
              "    <tr>\n",
              "      <th>2020-10-05</th>\n",
              "      <td>9.430000</td>\n",
              "      <td>9.490000</td>\n",
              "      <td>8.920000</td>\n",
              "      <td>9.030000</td>\n",
              "      <td>9.030000</td>\n",
              "      <td>36316900</td>\n",
              "      <td>PLTR</td>\n",
              "    </tr>\n",
              "    <tr>\n",
              "      <th>2020-10-06</th>\n",
              "      <td>9.040000</td>\n",
              "      <td>10.180000</td>\n",
              "      <td>8.900000</td>\n",
              "      <td>9.900000</td>\n",
              "      <td>9.900000</td>\n",
              "      <td>90864000</td>\n",
              "      <td>PLTR</td>\n",
              "    </tr>\n",
              "    <tr>\n",
              "      <th>...</th>\n",
              "      <td>...</td>\n",
              "      <td>...</td>\n",
              "      <td>...</td>\n",
              "      <td>...</td>\n",
              "      <td>...</td>\n",
              "      <td>...</td>\n",
              "      <td>...</td>\n",
              "    </tr>\n",
              "    <tr>\n",
              "      <th>2021-02-23</th>\n",
              "      <td>25.959999</td>\n",
              "      <td>27.459999</td>\n",
              "      <td>23.900000</td>\n",
              "      <td>26.750000</td>\n",
              "      <td>26.750000</td>\n",
              "      <td>144516900</td>\n",
              "      <td>PLTR</td>\n",
              "    </tr>\n",
              "    <tr>\n",
              "      <th>2021-02-24</th>\n",
              "      <td>26.709999</td>\n",
              "      <td>27.230000</td>\n",
              "      <td>25.750000</td>\n",
              "      <td>26.389999</td>\n",
              "      <td>26.389999</td>\n",
              "      <td>89320100</td>\n",
              "      <td>PLTR</td>\n",
              "    </tr>\n",
              "    <tr>\n",
              "      <th>2021-02-25</th>\n",
              "      <td>25.820000</td>\n",
              "      <td>26.440001</td>\n",
              "      <td>23.150000</td>\n",
              "      <td>23.959999</td>\n",
              "      <td>23.959999</td>\n",
              "      <td>160304800</td>\n",
              "      <td>PLTR</td>\n",
              "    </tr>\n",
              "    <tr>\n",
              "      <th>2021-02-26</th>\n",
              "      <td>24.200001</td>\n",
              "      <td>24.500000</td>\n",
              "      <td>22.700001</td>\n",
              "      <td>23.900000</td>\n",
              "      <td>23.900000</td>\n",
              "      <td>118368700</td>\n",
              "      <td>PLTR</td>\n",
              "    </tr>\n",
              "    <tr>\n",
              "      <th>2021-03-01</th>\n",
              "      <td>25.190001</td>\n",
              "      <td>25.660000</td>\n",
              "      <td>24.620001</td>\n",
              "      <td>24.830000</td>\n",
              "      <td>24.830000</td>\n",
              "      <td>75253763</td>\n",
              "      <td>PLTR</td>\n",
              "    </tr>\n",
              "  </tbody>\n",
              "</table>\n",
              "<p>104 rows × 7 columns</p>\n",
              "</div>"
            ],
            "text/plain": [
              "                 open       high        low  ...   adjclose     volume  ticker\n",
              "2020-09-30  10.000000  11.410000   9.110000  ...   9.500000  338584400    PLTR\n",
              "2020-10-01   9.690000  10.100000   9.230000  ...   9.460000  124297600    PLTR\n",
              "2020-10-02   9.060000   9.280000   8.940000  ...   9.200000   55018300    PLTR\n",
              "2020-10-05   9.430000   9.490000   8.920000  ...   9.030000   36316900    PLTR\n",
              "2020-10-06   9.040000  10.180000   8.900000  ...   9.900000   90864000    PLTR\n",
              "...               ...        ...        ...  ...        ...        ...     ...\n",
              "2021-02-23  25.959999  27.459999  23.900000  ...  26.750000  144516900    PLTR\n",
              "2021-02-24  26.709999  27.230000  25.750000  ...  26.389999   89320100    PLTR\n",
              "2021-02-25  25.820000  26.440001  23.150000  ...  23.959999  160304800    PLTR\n",
              "2021-02-26  24.200001  24.500000  22.700001  ...  23.900000  118368700    PLTR\n",
              "2021-03-01  25.190001  25.660000  24.620001  ...  24.830000   75253763    PLTR\n",
              "\n",
              "[104 rows x 7 columns]"
            ]
          },
          "metadata": {
            "tags": []
          },
          "execution_count": 8
        }
      ]
    },
    {
      "cell_type": "code",
      "metadata": {
        "colab": {
          "base_uri": "https://localhost:8080/",
          "height": 266
        },
        "id": "aVDU3llDdr7x",
        "outputId": "600843f2-7ab5-472c-8101-5ef6a0825f91"
      },
      "source": [
        "msft = yf.Ticker(\"MSFT\")\r\n",
        "# get stock info\r\n",
        "msft.info\r\n",
        "# get historical market data\r\n",
        "hist = msft.history(period=\"max\")\r\n",
        "# show actions (dividends, splits)\r\n",
        "msft.actions\r\n",
        "# show dividends\r\n",
        "msft.dividends\r\n",
        "# show splits\r\n",
        "msft.splits\r\n",
        "# show financials\r\n",
        "msft.financials\r\n",
        "msft.quarterly_financials\r\n",
        "# show major holders\r\n",
        "msft.major_holders\r\n",
        "# show institutional holders\r\n",
        "msft.institutional_holders\r\n",
        "# show balance sheet\r\n",
        "msft.balance_sheet\r\n",
        "msft.quarterly_balance_sheet\r\n",
        "# show cashflow\r\n",
        "msft.cashflow\r\n",
        "msft.quarterly_cashflow\r\n",
        "# show earnings\r\n",
        "msft.earnings\r\n",
        "msft.quarterly_earnings\r\n",
        "# show sustainability\r\n",
        "msft.sustainability\r\n",
        "# show analysts recommendations\r\n",
        "msft.recommendations\r\n",
        "# show next event (earnings, etc)\r\n",
        "msft.calendar\r\n",
        "# show ISIN code - *experimental*\r\n",
        "# ISIN = International Securities Identification Number\r\n",
        "#msft.isin\r\n",
        "# show options expirations\r\n",
        "#options_dates=msft.options\r\n",
        "# get option chain for specific expiration\r\n",
        "#opt = msft.option_chain('2021-03-19')\r\n",
        "# data available via: opt.calls, opt.puts\r\n",
        "#opt.calls"
      ],
      "execution_count": 9,
      "outputs": [
        {
          "output_type": "execute_result",
          "data": {
            "text/html": [
              "<div>\n",
              "<style scoped>\n",
              "    .dataframe tbody tr th:only-of-type {\n",
              "        vertical-align: middle;\n",
              "    }\n",
              "\n",
              "    .dataframe tbody tr th {\n",
              "        vertical-align: top;\n",
              "    }\n",
              "\n",
              "    .dataframe thead th {\n",
              "        text-align: right;\n",
              "    }\n",
              "</style>\n",
              "<table border=\"1\" class=\"dataframe\">\n",
              "  <thead>\n",
              "    <tr style=\"text-align: right;\">\n",
              "      <th></th>\n",
              "      <th>0</th>\n",
              "      <th>1</th>\n",
              "    </tr>\n",
              "  </thead>\n",
              "  <tbody>\n",
              "    <tr>\n",
              "      <th>Earnings Date</th>\n",
              "      <td>2021-04-27 00:00:00</td>\n",
              "      <td>2021-05-03 00:00:00</td>\n",
              "    </tr>\n",
              "    <tr>\n",
              "      <th>Earnings Average</th>\n",
              "      <td>1.77</td>\n",
              "      <td>1.77</td>\n",
              "    </tr>\n",
              "    <tr>\n",
              "      <th>Earnings Low</th>\n",
              "      <td>1.69</td>\n",
              "      <td>1.69</td>\n",
              "    </tr>\n",
              "    <tr>\n",
              "      <th>Earnings High</th>\n",
              "      <td>1.93</td>\n",
              "      <td>1.93</td>\n",
              "    </tr>\n",
              "    <tr>\n",
              "      <th>Revenue Average</th>\n",
              "      <td>41032800000</td>\n",
              "      <td>41032800000</td>\n",
              "    </tr>\n",
              "    <tr>\n",
              "      <th>Revenue Low</th>\n",
              "      <td>40541000000</td>\n",
              "      <td>40541000000</td>\n",
              "    </tr>\n",
              "    <tr>\n",
              "      <th>Revenue High</th>\n",
              "      <td>41894000000</td>\n",
              "      <td>41894000000</td>\n",
              "    </tr>\n",
              "  </tbody>\n",
              "</table>\n",
              "</div>"
            ],
            "text/plain": [
              "                                    0                    1\n",
              "Earnings Date     2021-04-27 00:00:00  2021-05-03 00:00:00\n",
              "Earnings Average                 1.77                 1.77\n",
              "Earnings Low                     1.69                 1.69\n",
              "Earnings High                    1.93                 1.93\n",
              "Revenue Average           41032800000          41032800000\n",
              "Revenue Low               40541000000          40541000000\n",
              "Revenue High              41894000000          41894000000"
            ]
          },
          "metadata": {
            "tags": []
          },
          "execution_count": 9
        }
      ]
    },
    {
      "cell_type": "code",
      "metadata": {
        "id": "zDBlYL8hiApP"
      },
      "source": [
        "calls,puts=finpie.yahoo_option_chain(\"MSFT\")"
      ],
      "execution_count": 10,
      "outputs": []
    },
    {
      "cell_type": "code",
      "metadata": {
        "id": "x-_Yn82ulKOI",
        "colab": {
          "base_uri": "https://localhost:8080/",
          "height": 467
        },
        "outputId": "d4d76cf2-353f-46df-af34-4bd0cbc39270"
      },
      "source": [
        "#finpie.historical_futures_contracts( pd.date_range('2020-01-01', '2020-03-01') )"
      ],
      "execution_count": 11,
      "outputs": [
        {
          "output_type": "stream",
          "text": [
            "100%|██████████| 61/61 [01:06<00:00,  1.09s/it]\n"
          ],
          "name": "stderr"
        },
        {
          "output_type": "execute_result",
          "data": {
            "text/html": [
              "<div>\n",
              "<style scoped>\n",
              "    .dataframe tbody tr th:only-of-type {\n",
              "        vertical-align: middle;\n",
              "    }\n",
              "\n",
              "    .dataframe tbody tr th {\n",
              "        vertical-align: top;\n",
              "    }\n",
              "\n",
              "    .dataframe thead th {\n",
              "        text-align: right;\n",
              "    }\n",
              "</style>\n",
              "<table border=\"1\" class=\"dataframe\">\n",
              "  <thead>\n",
              "    <tr style=\"text-align: right;\">\n",
              "      <th></th>\n",
              "      <th>month</th>\n",
              "      <th>date</th>\n",
              "      <th>open</th>\n",
              "      <th>high</th>\n",
              "      <th>low</th>\n",
              "      <th>close</th>\n",
              "      <th>change</th>\n",
              "      <th>volume</th>\n",
              "      <th>open_interest</th>\n",
              "      <th>change_in_oi</th>\n",
              "      <th>future</th>\n",
              "    </tr>\n",
              "    <tr>\n",
              "      <th>date</th>\n",
              "      <th></th>\n",
              "      <th></th>\n",
              "      <th></th>\n",
              "      <th></th>\n",
              "      <th></th>\n",
              "      <th></th>\n",
              "      <th></th>\n",
              "      <th></th>\n",
              "      <th></th>\n",
              "      <th></th>\n",
              "      <th></th>\n",
              "    </tr>\n",
              "  </thead>\n",
              "  <tbody>\n",
              "    <tr>\n",
              "      <th>2020-01-01</th>\n",
              "      <td>Jan20</td>\n",
              "      <td>191231.0</td>\n",
              "      <td>298.10</td>\n",
              "      <td>302.00</td>\n",
              "      <td>296.80</td>\n",
              "      <td>299.90</td>\n",
              "      <td>2.40</td>\n",
              "      <td>41843.0</td>\n",
              "      <td>19917.0</td>\n",
              "      <td>-12579.0</td>\n",
              "      <td>Soybean E6eal(CE9OE12)</td>\n",
              "    </tr>\n",
              "    <tr>\n",
              "      <th>2020-01-01</th>\n",
              "      <td>E6ar20</td>\n",
              "      <td>191231.0</td>\n",
              "      <td>302.80</td>\n",
              "      <td>307.10</td>\n",
              "      <td>301.70</td>\n",
              "      <td>304.70</td>\n",
              "      <td>2.40</td>\n",
              "      <td>64699.0</td>\n",
              "      <td>213435.0</td>\n",
              "      <td>5357.0</td>\n",
              "      <td>Soybean E6eal(CE9OE12)</td>\n",
              "    </tr>\n",
              "    <tr>\n",
              "      <th>2020-01-01</th>\n",
              "      <td>E6ay20</td>\n",
              "      <td>191231.0</td>\n",
              "      <td>306.20</td>\n",
              "      <td>310.70</td>\n",
              "      <td>305.70</td>\n",
              "      <td>308.50</td>\n",
              "      <td>2.40</td>\n",
              "      <td>13703.0</td>\n",
              "      <td>90147.0</td>\n",
              "      <td>86.0</td>\n",
              "      <td>Soybean E6eal(CE9OE12)</td>\n",
              "    </tr>\n",
              "    <tr>\n",
              "      <th>2020-01-01</th>\n",
              "      <td>Jul20</td>\n",
              "      <td>191231.0</td>\n",
              "      <td>309.90</td>\n",
              "      <td>314.30</td>\n",
              "      <td>309.30</td>\n",
              "      <td>312.00</td>\n",
              "      <td>2.20</td>\n",
              "      <td>8121.0</td>\n",
              "      <td>54704.0</td>\n",
              "      <td>206.0</td>\n",
              "      <td>Soybean E6eal(CE9OE12)</td>\n",
              "    </tr>\n",
              "    <tr>\n",
              "      <th>2020-01-01</th>\n",
              "      <td>Aug20</td>\n",
              "      <td>191231.0</td>\n",
              "      <td>311.50</td>\n",
              "      <td>315.60</td>\n",
              "      <td>310.70</td>\n",
              "      <td>313.20</td>\n",
              "      <td>2.10</td>\n",
              "      <td>1546.0</td>\n",
              "      <td>10822.0</td>\n",
              "      <td>31.0</td>\n",
              "      <td>Soybean E6eal(CE9OE12)</td>\n",
              "    </tr>\n",
              "    <tr>\n",
              "      <th>...</th>\n",
              "      <td>...</td>\n",
              "      <td>...</td>\n",
              "      <td>...</td>\n",
              "      <td>...</td>\n",
              "      <td>...</td>\n",
              "      <td>...</td>\n",
              "      <td>...</td>\n",
              "      <td>...</td>\n",
              "      <td>...</td>\n",
              "      <td>...</td>\n",
              "      <td>...</td>\n",
              "    </tr>\n",
              "    <tr>\n",
              "      <th>2020-02-28</th>\n",
              "      <td>Jun20</td>\n",
              "      <td>200228.0</td>\n",
              "      <td>21430.00</td>\n",
              "      <td>21720.00</td>\n",
              "      <td>21150.00</td>\n",
              "      <td>21434.00</td>\n",
              "      <td>-782.00</td>\n",
              "      <td>237.0</td>\n",
              "      <td>3379.0</td>\n",
              "      <td>146.0</td>\n",
              "      <td>FE12SE E6IE9(ISE)</td>\n",
              "    </tr>\n",
              "    <tr>\n",
              "      <th>2020-02-28</th>\n",
              "      <td>Sep20</td>\n",
              "      <td>200228.0</td>\n",
              "      <td>21500.00</td>\n",
              "      <td>21500.00</td>\n",
              "      <td>21277.00</td>\n",
              "      <td>21277.00</td>\n",
              "      <td>-784.00</td>\n",
              "      <td>0.0</td>\n",
              "      <td>47.0</td>\n",
              "      <td>0.0</td>\n",
              "      <td>FE12SE E6IE9(ISE)</td>\n",
              "    </tr>\n",
              "    <tr>\n",
              "      <th>2020-02-28</th>\n",
              "      <td>E6ar20</td>\n",
              "      <td>200228.0</td>\n",
              "      <td>273.55</td>\n",
              "      <td>274.15</td>\n",
              "      <td>267.55</td>\n",
              "      <td>267.85</td>\n",
              "      <td>-9.90</td>\n",
              "      <td>487435.0</td>\n",
              "      <td>326122.0</td>\n",
              "      <td>8019.0</td>\n",
              "      <td>E3OSPI 200(E3FE)</td>\n",
              "    </tr>\n",
              "    <tr>\n",
              "      <th>2020-02-28</th>\n",
              "      <td>Jun20</td>\n",
              "      <td>200228.0</td>\n",
              "      <td>273.50</td>\n",
              "      <td>274.05</td>\n",
              "      <td>267.55</td>\n",
              "      <td>267.75</td>\n",
              "      <td>-9.95</td>\n",
              "      <td>3578.0</td>\n",
              "      <td>27697.0</td>\n",
              "      <td>1692.0</td>\n",
              "      <td>E3OSPI 200(E3FE)</td>\n",
              "    </tr>\n",
              "    <tr>\n",
              "      <th>2020-02-28</th>\n",
              "      <td>Sep20</td>\n",
              "      <td>200228.0</td>\n",
              "      <td>272.00</td>\n",
              "      <td>272.00</td>\n",
              "      <td>267.95</td>\n",
              "      <td>267.95</td>\n",
              "      <td>-9.45</td>\n",
              "      <td>6.0</td>\n",
              "      <td>2124.0</td>\n",
              "      <td>501.0</td>\n",
              "      <td>E3OSPI 200(E3FE)</td>\n",
              "    </tr>\n",
              "  </tbody>\n",
              "</table>\n",
              "<p>20795 rows × 11 columns</p>\n",
              "</div>"
            ],
            "text/plain": [
              "             month      date  ... change_in_oi                  future\n",
              "date                          ...                                     \n",
              "2020-01-01   Jan20  191231.0  ...     -12579.0  Soybean E6eal(CE9OE12)\n",
              "2020-01-01  E6ar20  191231.0  ...       5357.0  Soybean E6eal(CE9OE12)\n",
              "2020-01-01  E6ay20  191231.0  ...         86.0  Soybean E6eal(CE9OE12)\n",
              "2020-01-01   Jul20  191231.0  ...        206.0  Soybean E6eal(CE9OE12)\n",
              "2020-01-01   Aug20  191231.0  ...         31.0  Soybean E6eal(CE9OE12)\n",
              "...            ...       ...  ...          ...                     ...\n",
              "2020-02-28   Jun20  200228.0  ...        146.0       FE12SE E6IE9(ISE)\n",
              "2020-02-28   Sep20  200228.0  ...          0.0       FE12SE E6IE9(ISE)\n",
              "2020-02-28  E6ar20  200228.0  ...       8019.0        E3OSPI 200(E3FE)\n",
              "2020-02-28   Jun20  200228.0  ...       1692.0        E3OSPI 200(E3FE)\n",
              "2020-02-28   Sep20  200228.0  ...        501.0        E3OSPI 200(E3FE)\n",
              "\n",
              "[20795 rows x 11 columns]"
            ]
          },
          "metadata": {
            "tags": []
          },
          "execution_count": 11
        }
      ]
    },
    {
      "cell_type": "markdown",
      "metadata": {
        "id": "V0F52iuU7u6A"
      },
      "source": [
        "## Intraday (1 month)"
      ]
    },
    {
      "cell_type": "code",
      "metadata": {
        "id": "P6mLl8jG8NnP"
      },
      "source": [
        ""
      ],
      "execution_count": 11,
      "outputs": []
    },
    {
      "cell_type": "markdown",
      "metadata": {
        "id": "L5vgngD-ZhAh"
      },
      "source": [
        "# Main"
      ]
    },
    {
      "cell_type": "code",
      "metadata": {
        "colab": {
          "base_uri": "https://localhost:8080/"
        },
        "id": "R9FrpaJWZi36",
        "outputId": "794be748-25d1-40bd-dc47-4ce4f27585e0"
      },
      "source": [
        "update_ticker_list()"
      ],
      "execution_count": 12,
      "outputs": [
        {
          "output_type": "stream",
          "text": [
            "Success\n"
          ],
          "name": "stdout"
        }
      ]
    },
    {
      "cell_type": "code",
      "metadata": {
        "colab": {
          "base_uri": "https://localhost:8080/"
        },
        "id": "vpxbLS1EmO3g",
        "outputId": "6875bd1f-edca-4bf5-ccbc-6a130b6880a7"
      },
      "source": [
        "update_historical_price('PLTR')"
      ],
      "execution_count": 13,
      "outputs": [
        {
          "output_type": "stream",
          "text": [
            "    1/1 |   PLTR | Elapsed: 0:00:56 |**************************| Time:  0:00:56\n"
          ],
          "name": "stderr"
        }
      ]
    },
    {
      "cell_type": "markdown",
      "metadata": {
        "id": "2R8ePYhok8rs"
      },
      "source": [
        "# References\r\n",
        "\r\n",
        "https://github.com/ranaroussi/yfinance/tree/master/yfinance\r\n",
        "\r\n",
        "https://github.com/peterlacour/finpie\r\n",
        "\r\n",
        "https://github.com/mariostoev/finviz\r\n",
        "\r\n",
        "https://github.com/lit26/finvizfinance"
      ]
    },
    {
      "cell_type": "markdown",
      "metadata": {
        "id": "YHckLyyBA9hW"
      },
      "source": [
        "## News"
      ]
    },
    {
      "cell_type": "code",
      "metadata": {
        "colab": {
          "base_uri": "https://localhost:8080/"
        },
        "id": "_O79kmhkA_ac",
        "outputId": "73c266af-c825-462f-a728-cf7eb4b6c60d"
      },
      "source": [
        "!pip install stocknews"
      ],
      "execution_count": 14,
      "outputs": [
        {
          "output_type": "stream",
          "text": [
            "Collecting stocknews\n",
            "  Downloading https://files.pythonhosted.org/packages/ee/fd/b50941b623fc5bf54a79856b4685c50b055b65dd3a118f0e14f3e5a8eaab/stocknews-0.9.11.tar.gz\n",
            "Requirement already satisfied: pandas in /usr/local/lib/python3.7/dist-packages (from stocknews) (1.1.5)\n",
            "Requirement already satisfied: feedparser in /usr/local/lib/python3.7/dist-packages (from stocknews) (6.0.2)\n",
            "Requirement already satisfied: nltk in /usr/local/lib/python3.7/dist-packages (from stocknews) (3.2.5)\n",
            "Requirement already satisfied: requests in /usr/local/lib/python3.7/dist-packages (from stocknews) (2.23.0)\n",
            "Requirement already satisfied: numpy in /usr/local/lib/python3.7/dist-packages (from stocknews) (1.19.5)\n",
            "Requirement already satisfied: pytz>=2017.2 in /usr/local/lib/python3.7/dist-packages (from pandas->stocknews) (2018.9)\n",
            "Requirement already satisfied: python-dateutil>=2.7.3 in /usr/local/lib/python3.7/dist-packages (from pandas->stocknews) (2.8.1)\n",
            "Requirement already satisfied: sgmllib3k in /usr/local/lib/python3.7/dist-packages (from feedparser->stocknews) (1.0.0)\n",
            "Requirement already satisfied: six in /usr/local/lib/python3.7/dist-packages (from nltk->stocknews) (1.15.0)\n",
            "Requirement already satisfied: idna<3,>=2.5 in /usr/local/lib/python3.7/dist-packages (from requests->stocknews) (2.10)\n",
            "Requirement already satisfied: urllib3!=1.25.0,!=1.25.1,<1.26,>=1.21.1 in /usr/local/lib/python3.7/dist-packages (from requests->stocknews) (1.24.3)\n",
            "Requirement already satisfied: certifi>=2017.4.17 in /usr/local/lib/python3.7/dist-packages (from requests->stocknews) (2020.12.5)\n",
            "Requirement already satisfied: chardet<4,>=3.0.2 in /usr/local/lib/python3.7/dist-packages (from requests->stocknews) (3.0.4)\n",
            "Building wheels for collected packages: stocknews\n",
            "  Building wheel for stocknews (setup.py) ... \u001b[?25l\u001b[?25hdone\n",
            "  Created wheel for stocknews: filename=stocknews-0.9.11-cp37-none-any.whl size=5413 sha256=7701fe7a71ec742ff62b25c517b8f930c7a431feed507c90275caaa67426da3a\n",
            "  Stored in directory: /root/.cache/pip/wheels/99/17/8f/a6f14b6c34ba888067879d6acf067f8f63238223d2703a91dd\n",
            "Successfully built stocknews\n",
            "Installing collected packages: stocknews\n",
            "Successfully installed stocknews-0.9.11\n"
          ],
          "name": "stdout"
        }
      ]
    },
    {
      "cell_type": "code",
      "metadata": {
        "id": "-cWxg-haBDMV",
        "colab": {
          "base_uri": "https://localhost:8080/"
        },
        "outputId": "2f13198f-1ea4-4282-ed92-b550eea1d54c"
      },
      "source": [
        "from stocknews import StockNews"
      ],
      "execution_count": 15,
      "outputs": [
        {
          "output_type": "stream",
          "text": [
            "/usr/local/lib/python3.7/dist-packages/nltk/twitter/__init__.py:20: UserWarning: The twython library has not been installed. Some functionality from the twitter package will not be available.\n",
            "  warnings.warn(\"The twython library has not been installed. \"\n"
          ],
          "name": "stderr"
        }
      ]
    },
    {
      "cell_type": "code",
      "metadata": {
        "id": "bV0O4XIuBZZQ"
      },
      "source": [
        ""
      ],
      "execution_count": 15,
      "outputs": []
    }
  ]
}