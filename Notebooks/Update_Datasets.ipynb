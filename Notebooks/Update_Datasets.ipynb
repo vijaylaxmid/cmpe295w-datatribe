{
  "nbformat": 4,
  "nbformat_minor": 0,
  "metadata": {
    "colab": {
      "name": "Update_Datasets.ipynb",
      "provenance": [],
      "collapsed_sections": []
    },
    "kernelspec": {
      "display_name": "Python 3",
      "name": "python3"
    }
  },
  "cells": [
    {
      "cell_type": "markdown",
      "metadata": {
        "id": "2R8ePYhok8rs"
      },
      "source": [
        "# References\n",
        "\n",
        "https://github.com/ranaroussi/yfinance/tree/master/yfinance\n",
        "\n",
        "https://github.com/peterlacour/finpie\n",
        "\n",
        "https://github.com/mariostoev/finviz\n",
        "\n",
        "https://github.com/lit26/finvizfinance\n",
        "\n",
        "https://stackoverflow.com/questions/61154530/calling-back-end-api-of-cnbc-in-python\n",
        "\n",
        "https://github.com/wilsonfreitas/awesome-quant#python"
      ]
    },
    {
      "cell_type": "markdown",
      "metadata": {
        "id": "JFrlEwd3k51e"
      },
      "source": [
        "# Update Datasets\n",
        "\n",
        "Outline:\n",
        "\n",
        "- PreReq\n",
        "- Ticker List\n",
        "- Static Data:\n",
        "-- Quotes\n",
        "-- Description\n",
        "-- Fundamental\n",
        "- Live Data:\n",
        "-- Intraday Quotes\n",
        "-- News"
      ]
    },
    {
      "cell_type": "markdown",
      "metadata": {
        "id": "bzRBOHJ9lggy"
      },
      "source": [
        "## Pre-Requisites"
      ]
    },
    {
      "cell_type": "markdown",
      "metadata": {
        "id": "zzmOtjjDlrGj"
      },
      "source": [
        "### G-Drive Connect\n",
        "Authorise google colaboratory to access drive."
      ]
    },
    {
      "cell_type": "code",
      "metadata": {
        "id": "CsKWSxVdk2xA"
      },
      "source": [
        "from google.colab import drive\n",
        "drive.mount('/content/drive')\n",
        "from IPython.display import clear_output \n",
        "clear_output()"
      ],
      "execution_count": 1,
      "outputs": []
    },
    {
      "cell_type": "markdown",
      "metadata": {
        "id": "ZGmTUMV3hzr1"
      },
      "source": [
        "### Requirements"
      ]
    },
    {
      "cell_type": "code",
      "metadata": {
        "id": "zawoEri-h2QW"
      },
      "source": [
        "!pip install yfinance finvizfinance finviz finpie yahoo_fin\n",
        "clear_output()"
      ],
      "execution_count": 2,
      "outputs": []
    },
    {
      "cell_type": "markdown",
      "metadata": {
        "id": "DgVidgmhhhg9"
      },
      "source": [
        "### Import dependencies"
      ]
    },
    {
      "cell_type": "code",
      "metadata": {
        "id": "dzNzArDOhorw"
      },
      "source": [
        "import pandas as pd\n",
        "import finpie\n",
        "import yfinance as yf\n",
        "import finviz\n",
        "import finvizfinance\n",
        "import time\n",
        "import progressbar\n",
        "from finvizfinance.screener.overview import Overview\n",
        "from yahoo_fin import stock_info as si\n",
        "import requests\n",
        "from pandas_datareader import data as pdr\n",
        "import warnings\n",
        "warnings.filterwarnings(\"ignore\")\n",
        "clear_output()"
      ],
      "execution_count": 3,
      "outputs": []
    },
    {
      "cell_type": "markdown",
      "metadata": {
        "id": "1NfXwBuGR2wc"
      },
      "source": [
        "## Static Data\n",
        "\n",
        "The static data records the historic price values for the equities. This should be updated after the markets close at 8 pm EST."
      ]
    },
    {
      "cell_type": "markdown",
      "metadata": {
        "id": "QGIWcR5bPSF-"
      },
      "source": [
        "### Ticker List\n",
        "The ticker symbol list needs to be updated as new symbols are being listed/delisted everyday."
      ]
    },
    {
      "cell_type": "code",
      "metadata": {
        "id": "6KiYwfCyPXhO"
      },
      "source": [
        "def update_ticker_list():\n",
        "  # Download latest ticker list from Nasdaq\n",
        "  ticker_list=finpie.nasdaq_tickers()\n",
        "  # Select Symbol Column\n",
        "  ticker_list=ticker_list['Symbol']\n",
        "  # Save ticker list to csv\n",
        "  ticker_list.to_csv('/content/drive/My Drive/Master Project/Dataset/stocks_ticker_list_latest/symbols.csv',index=None)\n",
        "  # Download latest ticker list in S&P500\n",
        "  sp500_ticker_list = si.tickers_sp500(include_company_data=True)\n",
        "  # Select Symbol Column\n",
        "  sp500_ticker_list=sp500_ticker_list['Symbol']\n",
        "  # Save ticker list to csv\n",
        "  sp500_ticker_list.to_csv('/content/drive/My Drive/Master Project/Dataset/stocks_ticker_list_latest/S&P500.csv',index=None)\n",
        "  # create custom list of stocks\n",
        "  my_list={\"Symbol\":[\"AAL\",\"AAPL\",\"AMZN\",\"BBBY\",\"DAL\",\"EBAY\",\"GME\",\"GOOG\",\"KO\",\"MRNA\",\"MSFT\",\"MVIS\",\"NFLX\",\"NIO\",\"NNDM\",\"OCGN\",\"PEP\",\"SNAP\",\"SNDL\",\"TLRY\",\"TSLA\",\"TWTR\",\"UBER\",\"ZM\"]}\n",
        "  # convert to dataframe\n",
        "  my_list=pd.DataFrame(my_list)\n",
        "  # save to csv\n",
        "  my_list.to_csv('/content/drive/My Drive/Master Project/Dataset/stocks_ticker_list_latest/my_list.csv',index=None)"
      ],
      "execution_count": 4,
      "outputs": []
    },
    {
      "cell_type": "markdown",
      "metadata": {
        "id": "s_oxegp0RzlK"
      },
      "source": [
        "### Stock Data\n",
        "\n",
        "The download functionality takes about 3 hours to completely download historic data for all 10000+ symbols along with warrants. Modify your search criteria for downloading datasets to save time."
      ]
    },
    {
      "cell_type": "code",
      "metadata": {
        "id": "GwNoU584T_wq"
      },
      "source": [
        "def set_status(ticker_number,fname):\n",
        "  ticker_number=str(ticker_number)\n",
        "  with open(f'/content/drive/My Drive/Master Project/Dataset/logs/{fname}_data_update_stat.txt', 'w') as writefile:\n",
        "      writefile.write(ticker_number)"
      ],
      "execution_count": 5,
      "outputs": []
    },
    {
      "cell_type": "code",
      "metadata": {
        "id": "MskzDlZJbqm_"
      },
      "source": [
        "def get_status(fname):\n",
        "  ticker_number=0\n",
        "  try:\n",
        "    with open(f'/content/drive/My Drive/Master Project/Dataset/logs/{fname}_data_update_stat.txt', 'r') as logfile:\n",
        "      ticker_number=int(logfile.read())\n",
        "  except:\n",
        "    pass\n",
        "  return ticker_number"
      ],
      "execution_count": 6,
      "outputs": []
    },
    {
      "cell_type": "code",
      "metadata": {
        "id": "x5DzXe_lNsiw"
      },
      "source": [
        "def fetching_news(ticker,url=\"https://api.queryly.com/cnbc/json.aspx\"):\n",
        "  #stock_fundamentals=finpie.Fundamentals(ticker)\n",
        "  #stock_profile=stock_fundamentals.profile()\n",
        "  #company=stock_profile['company_name'][0]\n",
        "  #ticker=\"AAPL\"\n",
        "  #company=\"Apple Inc\"\n",
        "  #search_query=company+\" \"+ticker\n",
        "  #search_query=company\n",
        "  search_query=ticker\n",
        "  params = {\n",
        "      \"queryly_key\": \"31a35d40a9a64ab3\",\n",
        "      \"query\": search_query,\n",
        "      \"endindex\": \"0\",\n",
        "      \"batchsize\": \"100\",\n",
        "      \"callback\": \"\",\n",
        "      \"showfaceted\": \"true\",\n",
        "      \"timezoneoffset\": \"-120\",\n",
        "      \"facetedfields\": \"formats\",\n",
        "      \"facetedkey\": \"formats|\",\n",
        "      \"facetedvalue\":\n",
        "      \"!Press Release|\",\n",
        "      \"needtoptickers\": \"1\",\n",
        "      \"additionalindexes\": \"4cd6f71fbf22424d,937d600b0d0d4e23,3bfbe40caee7443e,626fdfcd96444f28\"\n",
        "  }\n",
        "  header = [\"cn:title\", \"_pubDate\", \"cn:liveURL\", \"description\"]\n",
        "  with requests.Session() as req:\n",
        "      allin = []\n",
        "      for page, item in enumerate(range(0, 100000, 100)):\n",
        "          #print(f\"Extracting Page# {page +1}\")\n",
        "          params[\"endindex\"] = item\n",
        "          r = req.get(url, params=params).json()\n",
        "          empty=True\n",
        "          for loop in r['results']:\n",
        "            allin.append([loop[x] for x in header])\n",
        "            empty=False\n",
        "          if empty:\n",
        "            break\n",
        "  result = pd.DataFrame(allin, columns=[\"Title\", \"Date\", \"Url\", \"Description\"])\n",
        "  result.to_csv('/content/drive/My Drive/Master Project/Dataset/stock_market_datasets/news_data/{}.csv'.format(ticker),index=False)\n",
        "  return result"
      ],
      "execution_count": 7,
      "outputs": []
    },
    {
      "cell_type": "code",
      "metadata": {
        "id": "XnHn65O2nPXG"
      },
      "source": [
        "def fetch_option_chain(ticker):\n",
        "  calls,puts=finpie.yahoo_option_chain(ticker)\n",
        "  calls.to_csv('/content/drive/My Drive/Master Project/Dataset/stock_market_datasets/option_chain/{}_calls.csv'.format(ticker))\n",
        "  puts.to_csv('/content/drive/My Drive/Master Project/Dataset/stock_market_datasets/option_chain/{}_puts.csv'.format(ticker))"
      ],
      "execution_count": 8,
      "outputs": []
    },
    {
      "cell_type": "code",
      "metadata": {
        "id": "JpTPehKxF6ID"
      },
      "source": [
        "def fetch_historic_price(ticker):\n",
        "  data=finpie.historical_prices(ticker)\n",
        "  data.to_csv('/content/drive/My Drive/Master Project/Dataset/stock_market_datasets/market_historic/{}.csv'.format(ticker))"
      ],
      "execution_count": 9,
      "outputs": []
    },
    {
      "cell_type": "code",
      "metadata": {
        "id": "kDh0Hk3pFr7f"
      },
      "source": [
        "def fetch_ticker_profile(ticker):\n",
        "  stock=finpie.Fundamentals(ticker)\n",
        "  data=stock.profile().join(stock.key_metrics())\n",
        "  data.to_csv('/content/drive/My Drive/Master Project/Dataset/stock_market_datasets/stock_profile/{}.csv'.format(ticker))"
      ],
      "execution_count": 10,
      "outputs": []
    },
    {
      "cell_type": "code",
      "metadata": {
        "id": "vFSSbH1OYP_p"
      },
      "source": [
        "def combine_dfs(ticker):\n",
        "  main=pd.read_csv(f'/content/drive/My Drive/Master Project/Dataset/stock_market_datasets/market_historic/{ticker}.csv')\n",
        "  news=pd.read_csv(f'/content/drive/My Drive/Master Project/Dataset/stock_market_datasets/news_data/{ticker}.csv')\n",
        "  main=main.set_index('date')\n",
        "  news['Date']=news['Date'].astype('datetime64[D]')\n",
        "  news=news.drop(columns=[\"Url\",\"Description\"])\n",
        "  news=news.rename(columns={\"Date\":\"date\",\"Title\":\"headline\"})\n",
        "  news=news.groupby('date').agg({'headline': ' '.join})\n",
        "  news['headline_vec']=news['headline']\n",
        "  i=0\n",
        "  for x in news['headline']:\n",
        "    news['headline_vec'][i]=int.from_bytes(bytes=x.encode(),byteorder='big')\n",
        "    i+=1\n",
        "  combine=main.join(news,sort=True)\n",
        "  combine=combine.dropna()\n",
        "  combine.to_csv(f'/content/drive/My Drive/Master Project/Dataset/stock_market_datasets/combined/{ticker}.csv')"
      ],
      "execution_count": 11,
      "outputs": []
    },
    {
      "cell_type": "code",
      "metadata": {
        "id": "ZZc2z-Cl7fam"
      },
      "source": [
        "def update_historical_data(letter=\"sp500\"):\n",
        "  symbols=pd.read_csv('/content/drive/My Drive/Master Project/Dataset/stocks_ticker_list_latest/symbols.csv')\n",
        "  if letter == \"all\":\n",
        "    symbols=pd.read_csv('/content/drive/My Drive/Master Project/Dataset/stocks_ticker_list_latest/symbols.csv')\n",
        "  elif letter == \"sp500\":\n",
        "    symbols=pd.read_csv('/content/drive/My Drive/Master Project/Dataset/stocks_ticker_list_latest/S&P500.csv')\n",
        "  elif letter == \"my_list\":\n",
        "    symbols=pd.read_csv('/content/drive/My Drive/Master Project/Dataset/stocks_ticker_list_latest/my_list.csv')\n",
        "  else:\n",
        "    symbols=symbols[[x.startswith(letter) for x in symbols['Symbol']]]\n",
        "\n",
        "  bar = progressbar.ProgressBar(\n",
        "      widgets=[\n",
        "          progressbar.Counter(format='%(value)5d/%(max_value)d | %(dynamic_messages)6s | '),\n",
        "          progressbar.Timer(format= 'Elapsed: %(elapsed)s '),\n",
        "          progressbar.Bar('*'),\n",
        "          ' ',\n",
        "          progressbar.AdaptiveETA(),\n",
        "      ],\n",
        "  )\n",
        "  log_start=get_status(letter)\n",
        "  shift=0\n",
        "  for symbol in bar(symbols['Symbol'][log_start:]):\n",
        "    try:\n",
        "      bar.dynamic_messages=symbol\n",
        "      fetch_ticker_profile(symbol)\n",
        "      fetch_historic_price(symbol)\n",
        "      fetching_news(symbol)\n",
        "      fetch_option_chain(symbol)\n",
        "      #combine_dfs(symbol)\n",
        "      shift+=1\n",
        "      time.sleep(1)\n",
        "      val=(log_start+shift)%symbols.last_valid_index()\n",
        "      set_status(val,letter)\n",
        "    except:\n",
        "      pass\n",
        "  set_status(0,letter)"
      ],
      "execution_count": 12,
      "outputs": []
    },
    {
      "cell_type": "markdown",
      "metadata": {
        "id": "V0F52iuU7u6A"
      },
      "source": [
        "## Latest Intraday (2 years)"
      ]
    },
    {
      "cell_type": "code",
      "metadata": {
        "id": "y96iSY7lzHN9"
      },
      "source": [
        "def fetch_intraday_price(data,symbols):\n",
        "  list_type=\"intraday\"\n",
        "  bar = progressbar.ProgressBar(\n",
        "      widgets=[\n",
        "          progressbar.Counter(format='Saving to File | %(value)5d/%(max_value)d | %(dynamic_messages)6s | '),\n",
        "          progressbar.Timer(format= 'Elapsed: %(elapsed)s '),\n",
        "          progressbar.Bar('*'),\n",
        "          ' ',\n",
        "          progressbar.AdaptiveETA(),\n",
        "      ],\n",
        "  )\n",
        "  log_start=get_status(list_type)\n",
        "  shift=0\n",
        "  for symbol in bar(symbols['Symbol'][log_start:]):\n",
        "    try:\n",
        "      bar.dynamic_messages=symbol\n",
        "      stock=data[symbol]\n",
        "      stock.dropna(inplace=True)\n",
        "      stock.to_csv(f'/content/drive/My Drive/Master Project/Dataset/stock_market_datasets/market_intraday/{symbol}.csv')\n",
        "      shift+=1\n",
        "      val=(log_start+shift)%symbols.last_valid_index()\n",
        "      set_status(val,letter)\n",
        "    except:\n",
        "      pass\n",
        "  set_status(0,list_type)\n",
        "  #clear_output()"
      ],
      "execution_count": 13,
      "outputs": []
    },
    {
      "cell_type": "code",
      "metadata": {
        "id": "ev9CstHal4KK"
      },
      "source": [
        "def update_intraday_master(letter=\"sp500\"):\n",
        "  symbols=pd.read_csv('/content/drive/My Drive/Master Project/Dataset/stocks_ticker_list_latest/symbols.csv')\n",
        "  if letter == \"all\":\n",
        "    symbols=pd.read_csv('/content/drive/My Drive/Master Project/Dataset/stocks_ticker_list_latest/symbols.csv')\n",
        "  elif letter == \"sp500\":\n",
        "    symbols=pd.read_csv('/content/drive/My Drive/Master Project/Dataset/stocks_ticker_list_latest/S&P500.csv')\n",
        "  elif letter == \"my_list\":\n",
        "    symbols=pd.read_csv('/content/drive/My Drive/Master Project/Dataset/stocks_ticker_list_latest/my_list.csv')\n",
        "  else:\n",
        "    symbols=symbols[[x.startswith(letter) for x in symbols['Symbol']]]\n",
        "  stock_list=\"\"\n",
        "  i=1\n",
        "  for x in symbols['Symbol']:\n",
        "    if i==1:\n",
        "      stock_list+=x\n",
        "      i=2\n",
        "    else:\n",
        "      stock_list+=\" \"+x  \n",
        "  yf.pdr_override()\n",
        "  data=pdr.get_data_yahoo(stock_list,interval='60m',period='2y',group_by='ticker')\n",
        "  data.to_csv(f'/content/drive/My Drive/Master Project/Dataset/stock_market_datasets/market_intraday/__master_dataset_{letter}__.csv')\n",
        "  clear_output()\n",
        "  fetch_intraday_price(data,symbols)"
      ],
      "execution_count": 14,
      "outputs": []
    },
    {
      "cell_type": "code",
      "metadata": {
        "id": "IYD3Rutw2KcE"
      },
      "source": [
        "#update_intraday_master()"
      ],
      "execution_count": 15,
      "outputs": []
    },
    {
      "cell_type": "code",
      "metadata": {
        "id": "id8D5PQshp5N"
      },
      "source": [
        "#data['AAPL'][data['AAPL']['Volume']<10000]"
      ],
      "execution_count": 16,
      "outputs": []
    },
    {
      "cell_type": "code",
      "metadata": {
        "id": "SI0RK2BFNY7z",
        "colab": {
          "base_uri": "https://localhost:8080/",
          "height": 52
        },
        "outputId": "28aa87d5-50f9-46a4-d80d-b9ef7f224dba"
      },
      "source": [
        "'''\n",
        "symbols=pd.read_csv('/content/drive/My Drive/Master Project/Dataset/stocks_ticker_list_latest/S&P500.csv')\n",
        "stock_list=\"\"\n",
        "i=1\n",
        "for x in symbols['Symbol']:\n",
        "  if i==1:\n",
        "    stock_list+=x\n",
        "    i=2\n",
        "  else:\n",
        "    stock_list+=\" \"+x  \n",
        "'''"
      ],
      "execution_count": 17,
      "outputs": [
        {
          "output_type": "execute_result",
          "data": {
            "application/vnd.google.colaboratory.intrinsic+json": {
              "type": "string"
            },
            "text/plain": [
              "'\\nsymbols=pd.read_csv(\\'/content/drive/My Drive/Master Project/Dataset/stocks_ticker_list_latest/S&P500.csv\\')\\nstock_list=\"\"\\ni=1\\nfor x in symbols[\\'Symbol\\']:\\n  if i==1:\\n    stock_list+=x\\n    i=2\\n  else:\\n    stock_list+=\" \"+x  \\n'"
            ]
          },
          "metadata": {
            "tags": []
          },
          "execution_count": 17
        }
      ]
    },
    {
      "cell_type": "code",
      "metadata": {
        "id": "uxO_GKacPFag"
      },
      "source": [
        "#data=yf.download(stock_list,interval='60m',period='2y',group_by='ticker')\n",
        "#data=pdr.get_data_yahoo(stock_list,period='2y',group_by='ticker')"
      ],
      "execution_count": 18,
      "outputs": []
    },
    {
      "cell_type": "code",
      "metadata": {
        "id": "ADU-mc3MSXRn"
      },
      "source": [
        "#data.to_csv(f'/content/drive/My Drive/Master Project/Dataset/stock_market_datasets/market_historic/__master_dataset_sp500__.csv')"
      ],
      "execution_count": 19,
      "outputs": []
    },
    {
      "cell_type": "markdown",
      "metadata": {
        "id": "L5vgngD-ZhAh"
      },
      "source": [
        "# Main\n",
        "\n",
        "Use the functions to update intraday and historical data from "
      ]
    },
    {
      "cell_type": "code",
      "metadata": {
        "id": "R9FrpaJWZi36"
      },
      "source": [
        "update_ticker_list()"
      ],
      "execution_count": 20,
      "outputs": []
    },
    {
      "cell_type": "code",
      "metadata": {
        "colab": {
          "base_uri": "https://localhost:8080/"
        },
        "id": "CUixYZX_dnM5",
        "outputId": "8d213fe1-b89e-421c-9632-834bed7ad376"
      },
      "source": [
        "update_intraday_master(\"W\")"
      ],
      "execution_count": 21,
      "outputs": [
        {
          "output_type": "stream",
          "text": [
            "Saving to File |   202/202 |    WYY | Elapsed: 0:00:24 |*******| Time:  0:00:24\n"
          ],
          "name": "stderr"
        }
      ]
    },
    {
      "cell_type": "code",
      "metadata": {
        "colab": {
          "base_uri": "https://localhost:8080/"
        },
        "id": "PjkjZ5wndnYq",
        "outputId": "d14a238e-5e65-4d34-ebfc-9e3e93196bf6"
      },
      "source": [
        "update_historical_data(\"MSFT\")"
      ],
      "execution_count": 22,
      "outputs": [
        {
          "output_type": "stream",
          "text": [
            "    1/1 |   MSFT | Elapsed: 0:00:44 |**************************| Time:  0:00:44\n"
          ],
          "name": "stderr"
        }
      ]
    },
    {
      "cell_type": "code",
      "metadata": {
        "id": "rwQpWqTH84LD",
        "colab": {
          "base_uri": "https://localhost:8080/",
          "height": 436
        },
        "outputId": "1b574b00-6551-41a3-c47b-2aeed9eb9bbe"
      },
      "source": [
        "print(\"Sample News Data\")\n",
        "fetching_news(\"MSFT\")"
      ],
      "execution_count": 21,
      "outputs": [
        {
          "output_type": "stream",
          "text": [
            "Sample News Data\n"
          ],
          "name": "stdout"
        },
        {
          "output_type": "execute_result",
          "data": {
            "text/html": [
              "<div>\n",
              "<style scoped>\n",
              "    .dataframe tbody tr th:only-of-type {\n",
              "        vertical-align: middle;\n",
              "    }\n",
              "\n",
              "    .dataframe tbody tr th {\n",
              "        vertical-align: top;\n",
              "    }\n",
              "\n",
              "    .dataframe thead th {\n",
              "        text-align: right;\n",
              "    }\n",
              "</style>\n",
              "<table border=\"1\" class=\"dataframe\">\n",
              "  <thead>\n",
              "    <tr style=\"text-align: right;\">\n",
              "      <th></th>\n",
              "      <th>Title</th>\n",
              "      <th>Date</th>\n",
              "      <th>Url</th>\n",
              "      <th>Description</th>\n",
              "    </tr>\n",
              "  </thead>\n",
              "  <tbody>\n",
              "    <tr>\n",
              "      <th>0</th>\n",
              "      <td>Einhorn takes aim at Chamath Palihapitiya, Elo...</td>\n",
              "      <td>4/15/2021 8:44:45 PM</td>\n",
              "      <td>https://www.cnbc.com/video/2021/04/15/einhorn-...</td>\n",
              "      <td>CNBC's Leslie Picker reports on how Greenlight...</td>\n",
              "    </tr>\n",
              "    <tr>\n",
              "      <th>1</th>\n",
              "      <td>GameStop is 'doing so many things right' — Cra...</td>\n",
              "      <td>3/24/2021 4:09:51 PM</td>\n",
              "      <td>https://www.cnbc.com/video/2021/03/24/gamestop...</td>\n",
              "      <td>GameStop missed on the top and bottom lines of...</td>\n",
              "    </tr>\n",
              "    <tr>\n",
              "      <th>2</th>\n",
              "      <td>Given GME volatility, size investments accordi...</td>\n",
              "      <td>2/25/2021 10:33:01 PM</td>\n",
              "      <td>https://www.cnbc.com/video/2021/02/25/given-gm...</td>\n",
              "      <td>CNBC's \"Closing Bell\" team breaks down GameSto...</td>\n",
              "    </tr>\n",
              "    <tr>\n",
              "      <th>3</th>\n",
              "      <td>Reddit trader 'Roaring Kitty' explains his GME...</td>\n",
              "      <td>2/18/2021 9:33:21 PM</td>\n",
              "      <td>https://www.cnbc.com/video/2021/02/18/reddit-t...</td>\n",
              "      <td>The House Committee on Financial Services hold...</td>\n",
              "    </tr>\n",
              "    <tr>\n",
              "      <th>4</th>\n",
              "      <td>Here's the difference between Reddit-fueled GM...</td>\n",
              "      <td>2/11/2021 10:34:13 PM</td>\n",
              "      <td>https://www.cnbc.com/video/2021/02/11/heres-th...</td>\n",
              "      <td>CNBC's \"Closing Bell\" team discusses Reddit tr...</td>\n",
              "    </tr>\n",
              "    <tr>\n",
              "      <th>...</th>\n",
              "      <td>...</td>\n",
              "      <td>...</td>\n",
              "      <td>...</td>\n",
              "      <td>...</td>\n",
              "    </tr>\n",
              "    <tr>\n",
              "      <th>935</th>\n",
              "      <td>The Word on Merger Mania, Specialty Retail and...</td>\n",
              "      <td>5/26/2007 2:16:53 AM</td>\n",
              "      <td>https://www.cnbc.com/id/18866000</td>\n",
              "      <td>Day Off, Deals On?: The headline: Will The Lon...</td>\n",
              "    </tr>\n",
              "    <tr>\n",
              "      <th>936</th>\n",
              "      <td>Silly Dylan, \"Picks\" Are For Kids!</td>\n",
              "      <td>4/27/2007 3:01:20 AM</td>\n",
              "      <td>https://www.cnbc.com/id/18337627</td>\n",
              "      <td>It seems like traders are getting younger and ...</td>\n",
              "    </tr>\n",
              "    <tr>\n",
              "      <th>937</th>\n",
              "      <td>No. 3 - Wii Are The World</td>\n",
              "      <td>4/12/2007 2:49:54 AM</td>\n",
              "      <td>https://www.cnbc.com/id/18063563</td>\n",
              "      <td>Underdog Nintendo Wii Runaway Winner of Consol...</td>\n",
              "    </tr>\n",
              "    <tr>\n",
              "      <th>938</th>\n",
              "      <td>The Word on Tiffany's, GameStop &amp; More...</td>\n",
              "      <td>3/27/2007 3:16:42 AM</td>\n",
              "      <td>https://www.cnbc.com/id/17803172</td>\n",
              "      <td>DIAMOND IN THE ROUGH:The news: Upscale jewelry...</td>\n",
              "    </tr>\n",
              "    <tr>\n",
              "      <th>939</th>\n",
              "      <td>Your First Move For Thursday May 24th</td>\n",
              "      <td>5/24/2007 2:57:20 AM</td>\n",
              "      <td>https://www.cnbc.com/id/18827960</td>\n",
              "      <td>Here's our Fast Money Final Trade. Our guys gi...</td>\n",
              "    </tr>\n",
              "  </tbody>\n",
              "</table>\n",
              "<p>940 rows × 4 columns</p>\n",
              "</div>"
            ],
            "text/plain": [
              "                                                 Title  ...                                        Description\n",
              "0    Einhorn takes aim at Chamath Palihapitiya, Elo...  ...  CNBC's Leslie Picker reports on how Greenlight...\n",
              "1    GameStop is 'doing so many things right' — Cra...  ...  GameStop missed on the top and bottom lines of...\n",
              "2    Given GME volatility, size investments accordi...  ...  CNBC's \"Closing Bell\" team breaks down GameSto...\n",
              "3    Reddit trader 'Roaring Kitty' explains his GME...  ...  The House Committee on Financial Services hold...\n",
              "4    Here's the difference between Reddit-fueled GM...  ...  CNBC's \"Closing Bell\" team discusses Reddit tr...\n",
              "..                                                 ...  ...                                                ...\n",
              "935  The Word on Merger Mania, Specialty Retail and...  ...  Day Off, Deals On?: The headline: Will The Lon...\n",
              "936                 Silly Dylan, \"Picks\" Are For Kids!  ...  It seems like traders are getting younger and ...\n",
              "937                          No. 3 - Wii Are The World  ...  Underdog Nintendo Wii Runaway Winner of Consol...\n",
              "938          The Word on Tiffany's, GameStop & More...  ...  DIAMOND IN THE ROUGH:The news: Upscale jewelry...\n",
              "939              Your First Move For Thursday May 24th  ...  Here's our Fast Money Final Trade. Our guys gi...\n",
              "\n",
              "[940 rows x 4 columns]"
            ]
          },
          "metadata": {
            "tags": []
          },
          "execution_count": 21
        }
      ]
    },
    {
      "cell_type": "code",
      "metadata": {
        "id": "-z8PtzsWv-6v",
        "colab": {
          "base_uri": "https://localhost:8080/"
        },
        "outputId": "58e44d51-6691-4e56-8716-318ba2727c86"
      },
      "source": [
        "update_intraday_master(\"my_list\")"
      ],
      "execution_count": 23,
      "outputs": [
        {
          "output_type": "stream",
          "text": [
            "Saving to File |    24/24 |     ZM | Elapsed: 0:00:09 |********| Time:  0:00:09\n"
          ],
          "name": "stderr"
        }
      ]
    },
    {
      "cell_type": "code",
      "metadata": {
        "colab": {
          "base_uri": "https://localhost:8080/"
        },
        "id": "Ey5PrMBtrZQm",
        "outputId": "7edaa028-af22-470a-d288-1e9a48781c6c"
      },
      "source": [
        "update_historical_data(\"my_list\")"
      ],
      "execution_count": 24,
      "outputs": [
        {
          "output_type": "stream",
          "text": [
            "   24/24 |     ZM | Elapsed: 0:04:04 |*************************| Time:  0:04:04\n"
          ],
          "name": "stderr"
        }
      ]
    },
    {
      "cell_type": "code",
      "metadata": {
        "id": "SOytYBnuxKXF",
        "colab": {
          "base_uri": "https://localhost:8080/",
          "height": 419
        },
        "outputId": "e30bcea0-eca3-47f5-a405-c7a33e9592b1"
      },
      "source": [
        "sp500_ticker_list = si.tickers_sp500(include_company_data=True)\n",
        "sp500_ticker_list"
      ],
      "execution_count": 22,
      "outputs": [
        {
          "output_type": "execute_result",
          "data": {
            "text/html": [
              "<div>\n",
              "<style scoped>\n",
              "    .dataframe tbody tr th:only-of-type {\n",
              "        vertical-align: middle;\n",
              "    }\n",
              "\n",
              "    .dataframe tbody tr th {\n",
              "        vertical-align: top;\n",
              "    }\n",
              "\n",
              "    .dataframe thead th {\n",
              "        text-align: right;\n",
              "    }\n",
              "</style>\n",
              "<table border=\"1\" class=\"dataframe\">\n",
              "  <thead>\n",
              "    <tr style=\"text-align: right;\">\n",
              "      <th></th>\n",
              "      <th>Symbol</th>\n",
              "      <th>Security</th>\n",
              "      <th>SEC filings</th>\n",
              "      <th>GICS Sector</th>\n",
              "      <th>GICS Sub-Industry</th>\n",
              "      <th>Headquarters Location</th>\n",
              "      <th>Date first added</th>\n",
              "      <th>CIK</th>\n",
              "      <th>Founded</th>\n",
              "    </tr>\n",
              "  </thead>\n",
              "  <tbody>\n",
              "    <tr>\n",
              "      <th>0</th>\n",
              "      <td>MMM</td>\n",
              "      <td>3M Company</td>\n",
              "      <td>reports</td>\n",
              "      <td>Industrials</td>\n",
              "      <td>Industrial Conglomerates</td>\n",
              "      <td>St. Paul, Minnesota</td>\n",
              "      <td>1976-08-09</td>\n",
              "      <td>66740</td>\n",
              "      <td>1902</td>\n",
              "    </tr>\n",
              "    <tr>\n",
              "      <th>1</th>\n",
              "      <td>ABT</td>\n",
              "      <td>Abbott Laboratories</td>\n",
              "      <td>reports</td>\n",
              "      <td>Health Care</td>\n",
              "      <td>Health Care Equipment</td>\n",
              "      <td>North Chicago, Illinois</td>\n",
              "      <td>1964-03-31</td>\n",
              "      <td>1800</td>\n",
              "      <td>1888</td>\n",
              "    </tr>\n",
              "    <tr>\n",
              "      <th>2</th>\n",
              "      <td>ABBV</td>\n",
              "      <td>AbbVie Inc.</td>\n",
              "      <td>reports</td>\n",
              "      <td>Health Care</td>\n",
              "      <td>Pharmaceuticals</td>\n",
              "      <td>North Chicago, Illinois</td>\n",
              "      <td>2012-12-31</td>\n",
              "      <td>1551152</td>\n",
              "      <td>2013 (1888)</td>\n",
              "    </tr>\n",
              "    <tr>\n",
              "      <th>3</th>\n",
              "      <td>ABMD</td>\n",
              "      <td>Abiomed</td>\n",
              "      <td>reports</td>\n",
              "      <td>Health Care</td>\n",
              "      <td>Health Care Equipment</td>\n",
              "      <td>Danvers, Massachusetts</td>\n",
              "      <td>2018-05-31</td>\n",
              "      <td>815094</td>\n",
              "      <td>1981</td>\n",
              "    </tr>\n",
              "    <tr>\n",
              "      <th>4</th>\n",
              "      <td>ACN</td>\n",
              "      <td>Accenture</td>\n",
              "      <td>reports</td>\n",
              "      <td>Information Technology</td>\n",
              "      <td>IT Consulting &amp; Other Services</td>\n",
              "      <td>Dublin, Ireland</td>\n",
              "      <td>2011-07-06</td>\n",
              "      <td>1467373</td>\n",
              "      <td>1989</td>\n",
              "    </tr>\n",
              "    <tr>\n",
              "      <th>...</th>\n",
              "      <td>...</td>\n",
              "      <td>...</td>\n",
              "      <td>...</td>\n",
              "      <td>...</td>\n",
              "      <td>...</td>\n",
              "      <td>...</td>\n",
              "      <td>...</td>\n",
              "      <td>...</td>\n",
              "      <td>...</td>\n",
              "    </tr>\n",
              "    <tr>\n",
              "      <th>500</th>\n",
              "      <td>YUM</td>\n",
              "      <td>Yum! Brands Inc</td>\n",
              "      <td>reports</td>\n",
              "      <td>Consumer Discretionary</td>\n",
              "      <td>Restaurants</td>\n",
              "      <td>Louisville, Kentucky</td>\n",
              "      <td>1997-10-06</td>\n",
              "      <td>1041061</td>\n",
              "      <td>1997</td>\n",
              "    </tr>\n",
              "    <tr>\n",
              "      <th>501</th>\n",
              "      <td>ZBRA</td>\n",
              "      <td>Zebra Technologies</td>\n",
              "      <td>reports</td>\n",
              "      <td>Information Technology</td>\n",
              "      <td>Electronic Equipment &amp; Instruments</td>\n",
              "      <td>Lincolnshire, Illinois</td>\n",
              "      <td>2019-12-23</td>\n",
              "      <td>877212</td>\n",
              "      <td>1969</td>\n",
              "    </tr>\n",
              "    <tr>\n",
              "      <th>502</th>\n",
              "      <td>ZBH</td>\n",
              "      <td>Zimmer Biomet</td>\n",
              "      <td>reports</td>\n",
              "      <td>Health Care</td>\n",
              "      <td>Health Care Equipment</td>\n",
              "      <td>Warsaw, Indiana</td>\n",
              "      <td>2001-08-07</td>\n",
              "      <td>1136869</td>\n",
              "      <td>1927</td>\n",
              "    </tr>\n",
              "    <tr>\n",
              "      <th>503</th>\n",
              "      <td>ZION</td>\n",
              "      <td>Zions Bancorp</td>\n",
              "      <td>reports</td>\n",
              "      <td>Financials</td>\n",
              "      <td>Regional Banks</td>\n",
              "      <td>Salt Lake City, Utah</td>\n",
              "      <td>2001-06-22</td>\n",
              "      <td>109380</td>\n",
              "      <td>1873</td>\n",
              "    </tr>\n",
              "    <tr>\n",
              "      <th>504</th>\n",
              "      <td>ZTS</td>\n",
              "      <td>Zoetis</td>\n",
              "      <td>reports</td>\n",
              "      <td>Health Care</td>\n",
              "      <td>Pharmaceuticals</td>\n",
              "      <td>Parsippany, New Jersey</td>\n",
              "      <td>2013-06-21</td>\n",
              "      <td>1555280</td>\n",
              "      <td>1952</td>\n",
              "    </tr>\n",
              "  </tbody>\n",
              "</table>\n",
              "<p>505 rows × 9 columns</p>\n",
              "</div>"
            ],
            "text/plain": [
              "    Symbol             Security  ...      CIK      Founded\n",
              "0      MMM           3M Company  ...    66740         1902\n",
              "1      ABT  Abbott Laboratories  ...     1800         1888\n",
              "2     ABBV          AbbVie Inc.  ...  1551152  2013 (1888)\n",
              "3     ABMD              Abiomed  ...   815094         1981\n",
              "4      ACN            Accenture  ...  1467373         1989\n",
              "..     ...                  ...  ...      ...          ...\n",
              "500    YUM      Yum! Brands Inc  ...  1041061         1997\n",
              "501   ZBRA   Zebra Technologies  ...   877212         1969\n",
              "502    ZBH        Zimmer Biomet  ...  1136869         1927\n",
              "503   ZION        Zions Bancorp  ...   109380         1873\n",
              "504    ZTS               Zoetis  ...  1555280         1952\n",
              "\n",
              "[505 rows x 9 columns]"
            ]
          },
          "metadata": {
            "tags": []
          },
          "execution_count": 22
        }
      ]
    },
    {
      "cell_type": "code",
      "metadata": {
        "colab": {
          "base_uri": "https://localhost:8080/"
        },
        "id": "yVOJiOWzEdVm",
        "outputId": "808f7b63-a408-4c39-c98d-e84078084f20"
      },
      "source": [
        "update_intraday_master(\"sp500\")"
      ],
      "execution_count": 25,
      "outputs": [
        {
          "output_type": "stream",
          "text": [
            "Saving to File |   505/505 |    ZTS | Elapsed: 0:03:28 |*******| Time:  0:03:28\n"
          ],
          "name": "stderr"
        }
      ]
    },
    {
      "cell_type": "code",
      "metadata": {
        "colab": {
          "base_uri": "https://localhost:8080/"
        },
        "id": "vpxbLS1EmO3g",
        "outputId": "9a702b60-c224-4bfc-c74a-96d0957c167f"
      },
      "source": [
        "update_historical_data(\"sp500\")"
      ],
      "execution_count": 26,
      "outputs": [
        {
          "output_type": "stream",
          "text": [
            "  379/379 |    ZTS | Elapsed: 0:29:18 |************************| Time:  0:29:18\n"
          ],
          "name": "stderr"
        }
      ]
    },
    {
      "cell_type": "code",
      "metadata": {
        "id": "sw8O5N09MFsl",
        "colab": {
          "base_uri": "https://localhost:8080/",
          "height": 419
        },
        "outputId": "c88cb595-c992-4b70-f115-adc56ddf342a"
      },
      "source": [
        "all_ticker_list=finpie.nasdaq_tickers()\n",
        "all_ticker_list"
      ],
      "execution_count": 23,
      "outputs": [
        {
          "output_type": "execute_result",
          "data": {
            "text/html": [
              "<div>\n",
              "<style scoped>\n",
              "    .dataframe tbody tr th:only-of-type {\n",
              "        vertical-align: middle;\n",
              "    }\n",
              "\n",
              "    .dataframe tbody tr th {\n",
              "        vertical-align: top;\n",
              "    }\n",
              "\n",
              "    .dataframe thead th {\n",
              "        text-align: right;\n",
              "    }\n",
              "</style>\n",
              "<table border=\"1\" class=\"dataframe\">\n",
              "  <thead>\n",
              "    <tr style=\"text-align: right;\">\n",
              "      <th></th>\n",
              "      <th>Symbol</th>\n",
              "      <th>Security Name</th>\n",
              "    </tr>\n",
              "  </thead>\n",
              "  <tbody>\n",
              "    <tr>\n",
              "      <th>0</th>\n",
              "      <td>AACG</td>\n",
              "      <td>ATA Creativity Global - American Depositary Sh...</td>\n",
              "    </tr>\n",
              "    <tr>\n",
              "      <th>1</th>\n",
              "      <td>AACQ</td>\n",
              "      <td>Artius Acquisition Inc. - Class A Common Stock</td>\n",
              "    </tr>\n",
              "    <tr>\n",
              "      <th>2</th>\n",
              "      <td>AACQU</td>\n",
              "      <td>Artius Acquisition Inc. - Unit consisting of o...</td>\n",
              "    </tr>\n",
              "    <tr>\n",
              "      <th>3</th>\n",
              "      <td>AACQW</td>\n",
              "      <td>Artius Acquisition Inc. - Warrant</td>\n",
              "    </tr>\n",
              "    <tr>\n",
              "      <th>4</th>\n",
              "      <td>AAL</td>\n",
              "      <td>American Airlines Group, Inc. - Common Stock</td>\n",
              "    </tr>\n",
              "    <tr>\n",
              "      <th>...</th>\n",
              "      <td>...</td>\n",
              "      <td>...</td>\n",
              "    </tr>\n",
              "    <tr>\n",
              "      <th>10542</th>\n",
              "      <td>ZTO</td>\n",
              "      <td>ZTO Express (Cayman) Inc. American Depositary ...</td>\n",
              "    </tr>\n",
              "    <tr>\n",
              "      <th>10543</th>\n",
              "      <td>ZTR</td>\n",
              "      <td>Virtus Total Return Fund Inc.</td>\n",
              "    </tr>\n",
              "    <tr>\n",
              "      <th>10544</th>\n",
              "      <td>ZTS</td>\n",
              "      <td>Zoetis Inc. Class A Common Stock</td>\n",
              "    </tr>\n",
              "    <tr>\n",
              "      <th>10545</th>\n",
              "      <td>ZUO</td>\n",
              "      <td>Zuora, Inc. Class A Common Stock</td>\n",
              "    </tr>\n",
              "    <tr>\n",
              "      <th>10546</th>\n",
              "      <td>ZYME</td>\n",
              "      <td>Zymeworks Inc. Common Shares</td>\n",
              "    </tr>\n",
              "  </tbody>\n",
              "</table>\n",
              "<p>10547 rows × 2 columns</p>\n",
              "</div>"
            ],
            "text/plain": [
              "      Symbol                                      Security Name\n",
              "0       AACG  ATA Creativity Global - American Depositary Sh...\n",
              "1       AACQ     Artius Acquisition Inc. - Class A Common Stock\n",
              "2      AACQU  Artius Acquisition Inc. - Unit consisting of o...\n",
              "3      AACQW                  Artius Acquisition Inc. - Warrant\n",
              "4        AAL       American Airlines Group, Inc. - Common Stock\n",
              "...      ...                                                ...\n",
              "10542    ZTO  ZTO Express (Cayman) Inc. American Depositary ...\n",
              "10543    ZTR                      Virtus Total Return Fund Inc.\n",
              "10544    ZTS                   Zoetis Inc. Class A Common Stock\n",
              "10545    ZUO                   Zuora, Inc. Class A Common Stock\n",
              "10546   ZYME                       Zymeworks Inc. Common Shares\n",
              "\n",
              "[10547 rows x 2 columns]"
            ]
          },
          "metadata": {
            "tags": []
          },
          "execution_count": 23
        }
      ]
    },
    {
      "cell_type": "code",
      "metadata": {
        "colab": {
          "base_uri": "https://localhost:8080/"
        },
        "id": "uvePl36KdkyU",
        "outputId": "149f520a-e004-4969-f257-344f57531a52"
      },
      "source": [
        "update_historical_data(\"all\")"
      ],
      "execution_count": null,
      "outputs": [
        {
          "output_type": "stream",
          "text": [
            "   79/10547 |   ADMS | Elapsed: 0:03:39 |                      | ETA:   5:50:56"
          ],
          "name": "stderr"
        }
      ]
    },
    {
      "cell_type": "code",
      "metadata": {
        "colab": {
          "base_uri": "https://localhost:8080/"
        },
        "id": "cdB3QpJudhpF",
        "outputId": "15cf4e13-5d3c-46e4-8d61-65cbca1b3379"
      },
      "source": [
        "update_intraday_master(\"all\")"
      ],
      "execution_count": null,
      "outputs": [
        {
          "output_type": "stream",
          "text": [
            "\r                                                                               \r\rSaving to File |     0/10547 |     {} | Elapsed: 0:00:00 |     | ETA:  --:--:--"
          ],
          "name": "stderr"
        }
      ]
    }
  ]
}