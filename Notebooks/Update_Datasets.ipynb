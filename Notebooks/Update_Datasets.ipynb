{
  "nbformat": 4,
  "nbformat_minor": 0,
  "metadata": {
    "colab": {
      "name": "Update_Datasets.ipynb",
      "provenance": [],
      "toc_visible": true
    },
    "kernelspec": {
      "name": "python3",
      "display_name": "Python 3"
    }
  },
  "cells": [
    {
      "cell_type": "markdown",
      "metadata": {
        "id": "JFrlEwd3k51e"
      },
      "source": [
        "# Update Datasets\r\n",
        "\r\n",
        "Outline:\r\n",
        "\r\n",
        "- PreReq\r\n",
        "- Ticker List\r\n",
        "- Static Data:\r\n",
        "-- Quotes\r\n",
        "-- Description\r\n",
        "-- Fundamental\r\n",
        "- Live Data:\r\n",
        "-- Intraday Quotes\r\n",
        "-- News"
      ]
    },
    {
      "cell_type": "markdown",
      "metadata": {
        "id": "bzRBOHJ9lggy"
      },
      "source": [
        "## Pre-Requisites"
      ]
    },
    {
      "cell_type": "markdown",
      "metadata": {
        "id": "zzmOtjjDlrGj"
      },
      "source": [
        "### G-Drive Connect"
      ]
    },
    {
      "cell_type": "code",
      "metadata": {
        "id": "CsKWSxVdk2xA",
        "colab": {
          "base_uri": "https://localhost:8080/"
        },
        "outputId": "4cc1c597-3cb1-4e4c-c56f-d8cc968f9c38"
      },
      "source": [
        "from google.colab import drive\r\n",
        "drive.mount('/content/drive')"
      ],
      "execution_count": 2,
      "outputs": [
        {
          "output_type": "stream",
          "text": [
            "Drive already mounted at /content/drive; to attempt to forcibly remount, call drive.mount(\"/content/drive\", force_remount=True).\n"
          ],
          "name": "stdout"
        }
      ]
    },
    {
      "cell_type": "markdown",
      "metadata": {
        "id": "ZGmTUMV3hzr1"
      },
      "source": [
        "### Requirements"
      ]
    },
    {
      "cell_type": "code",
      "metadata": {
        "colab": {
          "base_uri": "https://localhost:8080/"
        },
        "id": "zawoEri-h2QW",
        "outputId": "be654f8a-30c0-43b1-ba3b-dcb1788749e1"
      },
      "source": [
        "!pip install yfinance\r\n",
        "!pip install finvizfinance\r\n",
        "!pip install finviz\r\n",
        "!pip install finpie"
      ],
      "execution_count": 3,
      "outputs": [
        {
          "output_type": "stream",
          "text": [
            "Requirement already satisfied: yfinance in /usr/local/lib/python3.7/dist-packages (0.1.55)\n",
            "Requirement already satisfied: requests>=2.20 in /usr/local/lib/python3.7/dist-packages (from yfinance) (2.23.0)\n",
            "Requirement already satisfied: numpy>=1.15 in /usr/local/lib/python3.7/dist-packages (from yfinance) (1.19.5)\n",
            "Requirement already satisfied: multitasking>=0.0.7 in /usr/local/lib/python3.7/dist-packages (from yfinance) (0.0.9)\n",
            "Requirement already satisfied: pandas>=0.24 in /usr/local/lib/python3.7/dist-packages (from yfinance) (1.1.5)\n",
            "Requirement already satisfied: lxml>=4.5.1 in /usr/local/lib/python3.7/dist-packages (from yfinance) (4.6.2)\n",
            "Requirement already satisfied: chardet<4,>=3.0.2 in /usr/local/lib/python3.7/dist-packages (from requests>=2.20->yfinance) (3.0.4)\n",
            "Requirement already satisfied: urllib3!=1.25.0,!=1.25.1,<1.26,>=1.21.1 in /usr/local/lib/python3.7/dist-packages (from requests>=2.20->yfinance) (1.24.3)\n",
            "Requirement already satisfied: idna<3,>=2.5 in /usr/local/lib/python3.7/dist-packages (from requests>=2.20->yfinance) (2.10)\n",
            "Requirement already satisfied: certifi>=2017.4.17 in /usr/local/lib/python3.7/dist-packages (from requests>=2.20->yfinance) (2020.12.5)\n",
            "Requirement already satisfied: pytz>=2017.2 in /usr/local/lib/python3.7/dist-packages (from pandas>=0.24->yfinance) (2018.9)\n",
            "Requirement already satisfied: python-dateutil>=2.7.3 in /usr/local/lib/python3.7/dist-packages (from pandas>=0.24->yfinance) (2.8.1)\n",
            "Requirement already satisfied: six>=1.5 in /usr/local/lib/python3.7/dist-packages (from python-dateutil>=2.7.3->pandas>=0.24->yfinance) (1.15.0)\n",
            "Requirement already satisfied: finvizfinance in /usr/local/lib/python3.7/dist-packages (0.9.2)\n",
            "Requirement already satisfied: bs4 in /usr/local/lib/python3.7/dist-packages (from finvizfinance) (0.0.1)\n",
            "Requirement already satisfied: datetime in /usr/local/lib/python3.7/dist-packages (from finvizfinance) (4.3)\n",
            "Requirement already satisfied: requests in /usr/local/lib/python3.7/dist-packages (from finvizfinance) (2.23.0)\n",
            "Requirement already satisfied: pandas in /usr/local/lib/python3.7/dist-packages (from finvizfinance) (1.1.5)\n",
            "Requirement already satisfied: lxml in /usr/local/lib/python3.7/dist-packages (from finvizfinance) (4.6.2)\n",
            "Requirement already satisfied: beautifulsoup4 in /usr/local/lib/python3.7/dist-packages (from bs4->finvizfinance) (4.6.3)\n",
            "Requirement already satisfied: zope.interface in /usr/local/lib/python3.7/dist-packages (from datetime->finvizfinance) (5.2.0)\n",
            "Requirement already satisfied: pytz in /usr/local/lib/python3.7/dist-packages (from datetime->finvizfinance) (2018.9)\n",
            "Requirement already satisfied: certifi>=2017.4.17 in /usr/local/lib/python3.7/dist-packages (from requests->finvizfinance) (2020.12.5)\n",
            "Requirement already satisfied: chardet<4,>=3.0.2 in /usr/local/lib/python3.7/dist-packages (from requests->finvizfinance) (3.0.4)\n",
            "Requirement already satisfied: urllib3!=1.25.0,!=1.25.1,<1.26,>=1.21.1 in /usr/local/lib/python3.7/dist-packages (from requests->finvizfinance) (1.24.3)\n",
            "Requirement already satisfied: idna<3,>=2.5 in /usr/local/lib/python3.7/dist-packages (from requests->finvizfinance) (2.10)\n",
            "Requirement already satisfied: numpy>=1.15.4 in /usr/local/lib/python3.7/dist-packages (from pandas->finvizfinance) (1.19.5)\n",
            "Requirement already satisfied: python-dateutil>=2.7.3 in /usr/local/lib/python3.7/dist-packages (from pandas->finvizfinance) (2.8.1)\n",
            "Requirement already satisfied: setuptools in /usr/local/lib/python3.7/dist-packages (from zope.interface->datetime->finvizfinance) (53.0.0)\n",
            "Requirement already satisfied: six>=1.5 in /usr/local/lib/python3.7/dist-packages (from python-dateutil>=2.7.3->pandas->finvizfinance) (1.15.0)\n",
            "Requirement already satisfied: finviz in /usr/local/lib/python3.7/dist-packages (1.3.4)\n",
            "Requirement already satisfied: requests in /usr/local/lib/python3.7/dist-packages (from finviz) (2.23.0)\n",
            "Requirement already satisfied: lxml in /usr/local/lib/python3.7/dist-packages (from finviz) (4.6.2)\n",
            "Requirement already satisfied: cssselect in /usr/local/lib/python3.7/dist-packages (from finviz) (1.1.0)\n",
            "Requirement already satisfied: urllib3 in /usr/local/lib/python3.7/dist-packages (from finviz) (1.24.3)\n",
            "Requirement already satisfied: aiohttp in /usr/local/lib/python3.7/dist-packages (from finviz) (3.7.4)\n",
            "Requirement already satisfied: user-agent in /usr/local/lib/python3.7/dist-packages (from finviz) (0.1.9)\n",
            "Requirement already satisfied: idna<3,>=2.5 in /usr/local/lib/python3.7/dist-packages (from requests->finviz) (2.10)\n",
            "Requirement already satisfied: certifi>=2017.4.17 in /usr/local/lib/python3.7/dist-packages (from requests->finviz) (2020.12.5)\n",
            "Requirement already satisfied: chardet<4,>=3.0.2 in /usr/local/lib/python3.7/dist-packages (from requests->finviz) (3.0.4)\n",
            "Requirement already satisfied: yarl<2.0,>=1.0 in /usr/local/lib/python3.7/dist-packages (from aiohttp->finviz) (1.6.3)\n",
            "Requirement already satisfied: multidict<7.0,>=4.5 in /usr/local/lib/python3.7/dist-packages (from aiohttp->finviz) (5.1.0)\n",
            "Requirement already satisfied: attrs>=17.3.0 in /usr/local/lib/python3.7/dist-packages (from aiohttp->finviz) (20.3.0)\n",
            "Requirement already satisfied: async-timeout<4.0,>=3.0 in /usr/local/lib/python3.7/dist-packages (from aiohttp->finviz) (3.0.1)\n",
            "Requirement already satisfied: typing-extensions>=3.6.5 in /usr/local/lib/python3.7/dist-packages (from aiohttp->finviz) (3.7.4.3)\n",
            "Requirement already satisfied: six in /usr/local/lib/python3.7/dist-packages (from user-agent->finviz) (1.15.0)\n",
            "Requirement already satisfied: finpie in /usr/local/lib/python3.7/dist-packages (0.1351)\n",
            "Requirement already satisfied: lxml in /usr/local/lib/python3.7/dist-packages (from finpie) (4.6.2)\n",
            "Requirement already satisfied: requests in /usr/local/lib/python3.7/dist-packages (from finpie) (2.23.0)\n",
            "Requirement already satisfied: tqdm in /usr/local/lib/python3.7/dist-packages (from finpie) (4.41.1)\n",
            "Requirement already satisfied: selenium>=3.14.0 in /usr/local/lib/python3.7/dist-packages (from finpie) (3.141.0)\n",
            "Requirement already satisfied: beautifulsoup4 in /usr/local/lib/python3.7/dist-packages (from finpie) (4.6.3)\n",
            "Requirement already satisfied: html5lib in /usr/local/lib/python3.7/dist-packages (from finpie) (1.0.1)\n",
            "Requirement already satisfied: requests-html in /usr/local/lib/python3.7/dist-packages (from finpie) (0.10.0)\n",
            "Requirement already satisfied: iexfinance in /usr/local/lib/python3.7/dist-packages (from finpie) (0.5.0)\n",
            "Requirement already satisfied: numpy>=1.18.2 in /usr/local/lib/python3.7/dist-packages (from finpie) (1.19.5)\n",
            "Requirement already satisfied: alpha-vantage in /usr/local/lib/python3.7/dist-packages (from finpie) (2.3.1)\n",
            "Requirement already satisfied: xlrd in /usr/local/lib/python3.7/dist-packages (from finpie) (1.1.0)\n",
            "Requirement already satisfied: dask[complete] in /usr/local/lib/python3.7/dist-packages (from finpie) (2.12.0)\n",
            "Requirement already satisfied: pandas>=1.0.1 in /usr/local/lib/python3.7/dist-packages (from finpie) (1.1.5)\n",
            "Requirement already satisfied: certifi>=2017.4.17 in /usr/local/lib/python3.7/dist-packages (from requests->finpie) (2020.12.5)\n",
            "Requirement already satisfied: chardet<4,>=3.0.2 in /usr/local/lib/python3.7/dist-packages (from requests->finpie) (3.0.4)\n",
            "Requirement already satisfied: idna<3,>=2.5 in /usr/local/lib/python3.7/dist-packages (from requests->finpie) (2.10)\n",
            "Requirement already satisfied: urllib3!=1.25.0,!=1.25.1,<1.26,>=1.21.1 in /usr/local/lib/python3.7/dist-packages (from requests->finpie) (1.24.3)\n",
            "Requirement already satisfied: webencodings in /usr/local/lib/python3.7/dist-packages (from html5lib->finpie) (0.5.1)\n",
            "Requirement already satisfied: six>=1.9 in /usr/local/lib/python3.7/dist-packages (from html5lib->finpie) (1.15.0)\n",
            "Requirement already satisfied: pyquery in /usr/local/lib/python3.7/dist-packages (from requests-html->finpie) (1.4.3)\n",
            "Requirement already satisfied: pyppeteer>=0.0.14 in /usr/local/lib/python3.7/dist-packages (from requests-html->finpie) (0.2.5)\n",
            "Requirement already satisfied: w3lib in /usr/local/lib/python3.7/dist-packages (from requests-html->finpie) (1.22.0)\n",
            "Requirement already satisfied: parse in /usr/local/lib/python3.7/dist-packages (from requests-html->finpie) (1.19.0)\n",
            "Requirement already satisfied: bs4 in /usr/local/lib/python3.7/dist-packages (from requests-html->finpie) (0.0.1)\n",
            "Requirement already satisfied: fake-useragent in /usr/local/lib/python3.7/dist-packages (from requests-html->finpie) (0.1.11)\n",
            "Requirement already satisfied: aiohttp in /usr/local/lib/python3.7/dist-packages (from alpha-vantage->finpie) (3.7.4)\n",
            "Requirement already satisfied: cloudpickle>=0.2.1; extra == \"complete\" in /usr/local/lib/python3.7/dist-packages (from dask[complete]->finpie) (1.3.0)\n",
            "Requirement already satisfied: distributed>=2.0; extra == \"complete\" in /usr/local/lib/python3.7/dist-packages (from dask[complete]->finpie) (2021.2.0)\n",
            "Requirement already satisfied: toolz>=0.7.3; extra == \"complete\" in /usr/local/lib/python3.7/dist-packages (from dask[complete]->finpie) (0.11.1)\n",
            "Requirement already satisfied: bokeh>=1.0.0; extra == \"complete\" in /usr/local/lib/python3.7/dist-packages (from dask[complete]->finpie) (2.1.1)\n",
            "Requirement already satisfied: fsspec>=0.6.0; extra == \"complete\" in /usr/local/lib/python3.7/dist-packages (from dask[complete]->finpie) (0.8.7)\n",
            "Requirement already satisfied: partd>=0.3.10; extra == \"complete\" in /usr/local/lib/python3.7/dist-packages (from dask[complete]->finpie) (1.1.0)\n",
            "Requirement already satisfied: PyYaml; extra == \"complete\" in /usr/local/lib/python3.7/dist-packages (from dask[complete]->finpie) (3.13)\n",
            "Requirement already satisfied: pytz>=2017.2 in /usr/local/lib/python3.7/dist-packages (from pandas>=1.0.1->finpie) (2018.9)\n",
            "Requirement already satisfied: python-dateutil>=2.7.3 in /usr/local/lib/python3.7/dist-packages (from pandas>=1.0.1->finpie) (2.8.1)\n",
            "Requirement already satisfied: cssselect>0.7.9 in /usr/local/lib/python3.7/dist-packages (from pyquery->requests-html->finpie) (1.1.0)\n",
            "Requirement already satisfied: appdirs<2.0.0,>=1.4.3 in /usr/local/lib/python3.7/dist-packages (from pyppeteer>=0.0.14->requests-html->finpie) (1.4.4)\n",
            "Collecting importlib-metadata<3.0.0,>=2.1.1; python_version < \"3.8\"\n",
            "  Downloading https://files.pythonhosted.org/packages/98/b8/8ec57a8ef46fbe7f185318c7ff7df9a06c9df451d9a59a067bfa851bb828/importlib_metadata-2.1.1-py2.py3-none-any.whl\n",
            "Requirement already satisfied: websockets<9.0,>=8.1 in /usr/local/lib/python3.7/dist-packages (from pyppeteer>=0.0.14->requests-html->finpie) (8.1)\n",
            "Requirement already satisfied: pyee<9.0.0,>=8.1.0 in /usr/local/lib/python3.7/dist-packages (from pyppeteer>=0.0.14->requests-html->finpie) (8.1.0)\n",
            "Requirement already satisfied: typing-extensions>=3.6.5 in /usr/local/lib/python3.7/dist-packages (from aiohttp->alpha-vantage->finpie) (3.7.4.3)\n",
            "Requirement already satisfied: async-timeout<4.0,>=3.0 in /usr/local/lib/python3.7/dist-packages (from aiohttp->alpha-vantage->finpie) (3.0.1)\n",
            "Requirement already satisfied: yarl<2.0,>=1.0 in /usr/local/lib/python3.7/dist-packages (from aiohttp->alpha-vantage->finpie) (1.6.3)\n",
            "Requirement already satisfied: attrs>=17.3.0 in /usr/local/lib/python3.7/dist-packages (from aiohttp->alpha-vantage->finpie) (20.3.0)\n",
            "Requirement already satisfied: multidict<7.0,>=4.5 in /usr/local/lib/python3.7/dist-packages (from aiohttp->alpha-vantage->finpie) (5.1.0)\n",
            "Requirement already satisfied: click>=6.6 in /usr/local/lib/python3.7/dist-packages (from distributed>=2.0; extra == \"complete\"->dask[complete]->finpie) (7.1.2)\n",
            "Requirement already satisfied: tblib>=1.6.0 in /usr/local/lib/python3.7/dist-packages (from distributed>=2.0; extra == \"complete\"->dask[complete]->finpie) (1.7.0)\n",
            "Requirement already satisfied: setuptools in /usr/local/lib/python3.7/dist-packages (from distributed>=2.0; extra == \"complete\"->dask[complete]->finpie) (53.0.0)\n",
            "Requirement already satisfied: sortedcontainers!=2.0.0,!=2.0.1 in /usr/local/lib/python3.7/dist-packages (from distributed>=2.0; extra == \"complete\"->dask[complete]->finpie) (2.3.0)\n",
            "Requirement already satisfied: tornado>=5; python_version < \"3.8\" in /usr/local/lib/python3.7/dist-packages (from distributed>=2.0; extra == \"complete\"->dask[complete]->finpie) (5.1.1)\n",
            "Requirement already satisfied: zict>=0.1.3 in /usr/local/lib/python3.7/dist-packages (from distributed>=2.0; extra == \"complete\"->dask[complete]->finpie) (2.0.0)\n",
            "Requirement already satisfied: psutil>=5.0 in /usr/local/lib/python3.7/dist-packages (from distributed>=2.0; extra == \"complete\"->dask[complete]->finpie) (5.4.8)\n",
            "Requirement already satisfied: msgpack>=0.6.0 in /usr/local/lib/python3.7/dist-packages (from distributed>=2.0; extra == \"complete\"->dask[complete]->finpie) (1.0.2)\n",
            "Requirement already satisfied: pillow>=4.0 in /usr/local/lib/python3.7/dist-packages (from bokeh>=1.0.0; extra == \"complete\"->dask[complete]->finpie) (7.0.0)\n",
            "Requirement already satisfied: Jinja2>=2.7 in /usr/local/lib/python3.7/dist-packages (from bokeh>=1.0.0; extra == \"complete\"->dask[complete]->finpie) (2.11.3)\n",
            "Requirement already satisfied: packaging>=16.8 in /usr/local/lib/python3.7/dist-packages (from bokeh>=1.0.0; extra == \"complete\"->dask[complete]->finpie) (20.9)\n",
            "Requirement already satisfied: locket in /usr/local/lib/python3.7/dist-packages (from partd>=0.3.10; extra == \"complete\"->dask[complete]->finpie) (0.2.1)\n",
            "Requirement already satisfied: zipp>=0.5 in /usr/local/lib/python3.7/dist-packages (from importlib-metadata<3.0.0,>=2.1.1; python_version < \"3.8\"->pyppeteer>=0.0.14->requests-html->finpie) (3.4.0)\n",
            "Requirement already satisfied: heapdict in /usr/local/lib/python3.7/dist-packages (from zict>=0.1.3->distributed>=2.0; extra == \"complete\"->dask[complete]->finpie) (1.0.1)\n",
            "Requirement already satisfied: MarkupSafe>=0.23 in /usr/local/lib/python3.7/dist-packages (from Jinja2>=2.7->bokeh>=1.0.0; extra == \"complete\"->dask[complete]->finpie) (1.1.1)\n",
            "Requirement already satisfied: pyparsing>=2.0.2 in /usr/local/lib/python3.7/dist-packages (from packaging>=16.8->bokeh>=1.0.0; extra == \"complete\"->dask[complete]->finpie) (2.4.7)\n",
            "\u001b[31mERROR: pyppeteer 0.2.5 has requirement tqdm<5.0.0,>=4.42.1, but you'll have tqdm 4.41.1 which is incompatible.\u001b[0m\n",
            "\u001b[31mERROR: pyppeteer 0.2.5 has requirement urllib3<2.0.0,>=1.25.8, but you'll have urllib3 1.24.3 which is incompatible.\u001b[0m\n",
            "Installing collected packages: importlib-metadata\n",
            "  Found existing installation: importlib-metadata 3.7.0\n",
            "    Uninstalling importlib-metadata-3.7.0:\n",
            "      Successfully uninstalled importlib-metadata-3.7.0\n",
            "Successfully installed importlib-metadata-2.1.1\n"
          ],
          "name": "stdout"
        }
      ]
    },
    {
      "cell_type": "markdown",
      "metadata": {
        "id": "DgVidgmhhhg9"
      },
      "source": [
        "### Import dependencies"
      ]
    },
    {
      "cell_type": "code",
      "metadata": {
        "id": "dzNzArDOhorw"
      },
      "source": [
        "import finpie\r\n",
        "import pandas as pd\r\n",
        "import time \r\n",
        "import progressbar "
      ],
      "execution_count": 4,
      "outputs": []
    },
    {
      "cell_type": "markdown",
      "metadata": {
        "id": "1NfXwBuGR2wc"
      },
      "source": [
        "## Static Data\r\n",
        "\r\n",
        "This is the static data which records the historic price values for the equities. This should be updated once per trading day, after 8 pm EST, when the markets close."
      ]
    },
    {
      "cell_type": "markdown",
      "metadata": {
        "id": "QGIWcR5bPSF-"
      },
      "source": [
        "### Ticker List"
      ]
    },
    {
      "cell_type": "code",
      "metadata": {
        "id": "6KiYwfCyPXhO"
      },
      "source": [
        "# Download latest ticker list from Nasdaq\r\n",
        "ticker_list=finpie.nasdaq_tickers()\r\n",
        "# Select Symbol Column\r\n",
        "ticker_list=ticker_list['Symbol']\r\n",
        "# Save ticker list to csv\r\n",
        "ticker_list.to_csv('/content/drive/My Drive/Master Project/Dataset/stocks_ticker_list_latest/symbols.csv',index=None)\r\n",
        "# Download latest ticker list in S&P500\r\n",
        "ticker_sp500="
      ],
      "execution_count": null,
      "outputs": []
    },
    {
      "cell_type": "markdown",
      "metadata": {
        "id": "s_oxegp0RzlK"
      },
      "source": [
        "### Stock Data"
      ]
    },
    {
      "cell_type": "code",
      "metadata": {
        "id": "ZZc2z-Cl7fam"
      },
      "source": [
        "symbols=pd.read_csv('/content/drive/My Drive/Master Project/Dataset/stocks_ticker_list_latest/symbols.csv')\r\n",
        "symbols=pd.read_csv('/content/drive/My Drive/Master Project/Dataset/stocks_ticker_list_latest/S&P500.csv')\r\n",
        "\r\n",
        "widgets = [' [', \r\n",
        "\t\tprogressbar.Timer(format= 'elapsed time: %(elapsed)s'), \r\n",
        "\t\t'] ', \r\n",
        "\t\tprogressbar.Bar('*'),' (', \r\n",
        "\t\tprogressbar.ETA(), ') ', \r\n",
        "\t\t] \r\n",
        "\r\n",
        "bar = progressbar.ProgressBar(max_value=len(symbols), \r\n",
        "\t\t\t\t\t\t\twidgets=widgets).start() \r\n",
        "\r\n",
        "i=0\r\n",
        "for symbol in symbols['Symbol']:\r\n",
        "  i=i+1\r\n",
        "  bar.update(i)\r\n",
        "  try:\r\n",
        "    data=finpie.historical_prices(symbol)\r\n",
        "    data.to_csv('/content/drive/My Drive/Master Project/Dataset/stock_market_datasets/all/{}.csv'.format(symbol))\r\n",
        "  except:\r\n",
        "    pass"
      ],
      "execution_count": null,
      "outputs": []
    },
    {
      "cell_type": "markdown",
      "metadata": {
        "id": "Vzo5UFBd6RRf"
      },
      "source": [
        "### Stock Data (In Parts)\r\n",
        "\r\n",
        "Since the download functionality takes 3 hours to completely download historic data for 9000+ symbols, modify your ticker set to download symbols following a specified criteria to save time."
      ]
    },
    {
      "cell_type": "markdown",
      "metadata": {
        "id": "aZFZ6mDM3ipS"
      },
      "source": [
        "#### Letter-wise"
      ]
    },
    {
      "cell_type": "code",
      "metadata": {
        "id": "Jlo3dC4yb1Vr"
      },
      "source": [
        "symbols=pd.read_csv('/content/drive/My Drive/Master Project/Dataset/stocks_ticker_list_latest/symbols.csv')\r\n",
        "symbols=symbols[[x.startswith('AAPL') for x in symbols['Symbol']]]"
      ],
      "execution_count": 18,
      "outputs": []
    },
    {
      "cell_type": "code",
      "metadata": {
        "colab": {
          "base_uri": "https://localhost:8080/",
          "height": 80
        },
        "id": "dqMbCAuUb5Yd",
        "outputId": "c1e2ced9-86ec-488b-cc9c-8a4a5256085b"
      },
      "source": [
        "symbols"
      ],
      "execution_count": 19,
      "outputs": [
        {
          "output_type": "execute_result",
          "data": {
            "text/html": [
              "<div>\n",
              "<style scoped>\n",
              "    .dataframe tbody tr th:only-of-type {\n",
              "        vertical-align: middle;\n",
              "    }\n",
              "\n",
              "    .dataframe tbody tr th {\n",
              "        vertical-align: top;\n",
              "    }\n",
              "\n",
              "    .dataframe thead th {\n",
              "        text-align: right;\n",
              "    }\n",
              "</style>\n",
              "<table border=\"1\" class=\"dataframe\">\n",
              "  <thead>\n",
              "    <tr style=\"text-align: right;\">\n",
              "      <th></th>\n",
              "      <th>Symbol</th>\n",
              "    </tr>\n",
              "  </thead>\n",
              "  <tbody>\n",
              "    <tr>\n",
              "      <th>8</th>\n",
              "      <td>AAPL</td>\n",
              "    </tr>\n",
              "  </tbody>\n",
              "</table>\n",
              "</div>"
            ],
            "text/plain": [
              "  Symbol\n",
              "8   AAPL"
            ]
          },
          "metadata": {
            "tags": []
          },
          "execution_count": 19
        }
      ]
    },
    {
      "cell_type": "code",
      "metadata": {
        "colab": {
          "base_uri": "https://localhost:8080/"
        },
        "id": "RbcbiLRoSxUi",
        "outputId": "d4008bc4-a186-45c4-cbd9-cae15e90ac01"
      },
      "source": [
        "symbols=pd.read_csv('/content/drive/My Drive/Master Project/Dataset/stocks_ticker_list_latest/symbols.csv')\r\n",
        "symbols=symbols[[x.startswith(letter) for x in symbols['Symbol']]]\r\n",
        "\r\n",
        "widgets = [' [', \r\n",
        "\t\tprogressbar.Timer(format= 'elapsed time: %(elapsed)s'), \r\n",
        "\t\t'] ', \r\n",
        "\t\tprogressbar.Bar('*'),' (', \r\n",
        "\t\tprogressbar.ETA(), ') ', \r\n",
        "\t\t] \r\n",
        "\r\n",
        "bar = progressbar.ProgressBar(max_value=len(symbols), \r\n",
        "\t\t\t\t\t\t\twidgets=widgets).start() \r\n",
        "\r\n",
        "i=0\r\n",
        "for symbol in symbols['Symbol']:\r\n",
        "  i=i+1\r\n",
        "  bar.update(i)\r\n",
        "  try:\r\n",
        "    data=finpie.historical_prices(symbol)\r\n",
        "    data.to_csv('/content/drive/My Drive/Master Project/Dataset/stock_market_datasets/all/{}.csv'.format(symbol))\r\n",
        "  except:\r\n",
        "    pass"
      ],
      "execution_count": 9,
      "outputs": [
        {
          "output_type": "stream",
          "text": [
            " [elapsed time: 0:01:00] |**********************************| (ETA:  00:00:00) "
          ],
          "name": "stderr"
        }
      ]
    },
    {
      "cell_type": "markdown",
      "metadata": {
        "id": "0MHPFbg06HoX"
      },
      "source": [
        "#### S&P500"
      ]
    },
    {
      "cell_type": "code",
      "metadata": {
        "id": "6H4ln-1h6LHN"
      },
      "source": [
        "symbols=pd.read_csv('/content/drive/My Drive/Master Project/Dataset/stocks_ticker_list_latest/S&P500.csv')\r\n",
        "\r\n",
        "widgets = [' [', \r\n",
        "\t\tprogressbar.Timer(format= 'elapsed time: %(elapsed)s'), \r\n",
        "\t\t'] ', \r\n",
        "\t\tprogressbar.Bar('*'),' (', \r\n",
        "\t\tprogressbar.ETA(), ') ', \r\n",
        "\t\t] \r\n",
        "\r\n",
        "bar = progressbar.ProgressBar(max_value=len(symbols), \r\n",
        "\t\t\t\t\t\t\twidgets=widgets).start() \r\n",
        "\r\n",
        "i=0\r\n",
        "for symbol in symbols['Symbol']:\r\n",
        "  i=i+1\r\n",
        "  bar.update(i)\r\n",
        "  try:\r\n",
        "    data=finpie.historical_prices(symbol)\r\n",
        "    data.to_csv('/content/drive/My Drive/Master Project/Dataset/stock_market_datasets/all/{}.csv'.format(symbol))\r\n",
        "  except:\r\n",
        "    pass"
      ],
      "execution_count": null,
      "outputs": []
    },
    {
      "cell_type": "markdown",
      "metadata": {
        "id": "tqyIPqfV-_oe"
      },
      "source": [
        "#### Test"
      ]
    },
    {
      "cell_type": "code",
      "metadata": {
        "colab": {
          "base_uri": "https://localhost:8080/",
          "height": 450
        },
        "id": "UHkar-W_hO3X",
        "outputId": "0af5a0ca-a7ba-48f2-a47a-e405e557b7c9"
      },
      "source": [
        "finpie.historical_prices('SNDL')"
      ],
      "execution_count": null,
      "outputs": [
        {
          "output_type": "execute_result",
          "data": {
            "text/html": [
              "<div>\n",
              "<style scoped>\n",
              "    .dataframe tbody tr th:only-of-type {\n",
              "        vertical-align: middle;\n",
              "    }\n",
              "\n",
              "    .dataframe tbody tr th {\n",
              "        vertical-align: top;\n",
              "    }\n",
              "\n",
              "    .dataframe thead th {\n",
              "        text-align: right;\n",
              "    }\n",
              "</style>\n",
              "<table border=\"1\" class=\"dataframe\">\n",
              "  <thead>\n",
              "    <tr style=\"text-align: right;\">\n",
              "      <th></th>\n",
              "      <th>open</th>\n",
              "      <th>high</th>\n",
              "      <th>low</th>\n",
              "      <th>close</th>\n",
              "      <th>adj_close</th>\n",
              "      <th>volume</th>\n",
              "    </tr>\n",
              "    <tr>\n",
              "      <th>date</th>\n",
              "      <th></th>\n",
              "      <th></th>\n",
              "      <th></th>\n",
              "      <th></th>\n",
              "      <th></th>\n",
              "      <th></th>\n",
              "    </tr>\n",
              "  </thead>\n",
              "  <tbody>\n",
              "    <tr>\n",
              "      <th>2019-08-01</th>\n",
              "      <td>13.020</td>\n",
              "      <td>13.22</td>\n",
              "      <td>7.66</td>\n",
              "      <td>8.48</td>\n",
              "      <td>8.48</td>\n",
              "      <td>9314400</td>\n",
              "    </tr>\n",
              "    <tr>\n",
              "      <th>2019-08-02</th>\n",
              "      <td>8.420</td>\n",
              "      <td>10.48</td>\n",
              "      <td>8.42</td>\n",
              "      <td>10.45</td>\n",
              "      <td>10.45</td>\n",
              "      <td>2693900</td>\n",
              "    </tr>\n",
              "    <tr>\n",
              "      <th>2019-08-05</th>\n",
              "      <td>10.690</td>\n",
              "      <td>11.82</td>\n",
              "      <td>10.47</td>\n",
              "      <td>11.70</td>\n",
              "      <td>11.70</td>\n",
              "      <td>2206700</td>\n",
              "    </tr>\n",
              "    <tr>\n",
              "      <th>2019-08-06</th>\n",
              "      <td>12.000</td>\n",
              "      <td>13.21</td>\n",
              "      <td>11.99</td>\n",
              "      <td>13.00</td>\n",
              "      <td>13.00</td>\n",
              "      <td>2180800</td>\n",
              "    </tr>\n",
              "    <tr>\n",
              "      <th>2019-08-07</th>\n",
              "      <td>13.050</td>\n",
              "      <td>13.22</td>\n",
              "      <td>12.20</td>\n",
              "      <td>12.85</td>\n",
              "      <td>12.85</td>\n",
              "      <td>1611200</td>\n",
              "    </tr>\n",
              "    <tr>\n",
              "      <th>...</th>\n",
              "      <td>...</td>\n",
              "      <td>...</td>\n",
              "      <td>...</td>\n",
              "      <td>...</td>\n",
              "      <td>...</td>\n",
              "      <td>...</td>\n",
              "    </tr>\n",
              "    <tr>\n",
              "      <th>2021-02-19</th>\n",
              "      <td>1.370</td>\n",
              "      <td>1.71</td>\n",
              "      <td>1.22</td>\n",
              "      <td>1.53</td>\n",
              "      <td>1.53</td>\n",
              "      <td>870434900</td>\n",
              "    </tr>\n",
              "    <tr>\n",
              "      <th>2021-02-22</th>\n",
              "      <td>1.425</td>\n",
              "      <td>1.60</td>\n",
              "      <td>1.40</td>\n",
              "      <td>1.43</td>\n",
              "      <td>1.43</td>\n",
              "      <td>252055600</td>\n",
              "    </tr>\n",
              "    <tr>\n",
              "      <th>2021-02-23</th>\n",
              "      <td>1.290</td>\n",
              "      <td>1.33</td>\n",
              "      <td>1.10</td>\n",
              "      <td>1.26</td>\n",
              "      <td>1.26</td>\n",
              "      <td>395247100</td>\n",
              "    </tr>\n",
              "    <tr>\n",
              "      <th>2021-02-24</th>\n",
              "      <td>1.320</td>\n",
              "      <td>1.47</td>\n",
              "      <td>1.28</td>\n",
              "      <td>1.45</td>\n",
              "      <td>1.45</td>\n",
              "      <td>413059900</td>\n",
              "    </tr>\n",
              "    <tr>\n",
              "      <th>2021-02-25</th>\n",
              "      <td>1.540</td>\n",
              "      <td>1.64</td>\n",
              "      <td>1.36</td>\n",
              "      <td>1.37</td>\n",
              "      <td>1.37</td>\n",
              "      <td>385796400</td>\n",
              "    </tr>\n",
              "  </tbody>\n",
              "</table>\n",
              "<p>396 rows × 6 columns</p>\n",
              "</div>"
            ],
            "text/plain": [
              "              open   high    low  close  adj_close     volume\n",
              "date                                                         \n",
              "2019-08-01  13.020  13.22   7.66   8.48       8.48    9314400\n",
              "2019-08-02   8.420  10.48   8.42  10.45      10.45    2693900\n",
              "2019-08-05  10.690  11.82  10.47  11.70      11.70    2206700\n",
              "2019-08-06  12.000  13.21  11.99  13.00      13.00    2180800\n",
              "2019-08-07  13.050  13.22  12.20  12.85      12.85    1611200\n",
              "...            ...    ...    ...    ...        ...        ...\n",
              "2021-02-19   1.370   1.71   1.22   1.53       1.53  870434900\n",
              "2021-02-22   1.425   1.60   1.40   1.43       1.43  252055600\n",
              "2021-02-23   1.290   1.33   1.10   1.26       1.26  395247100\n",
              "2021-02-24   1.320   1.47   1.28   1.45       1.45  413059900\n",
              "2021-02-25   1.540   1.64   1.36   1.37       1.37  385796400\n",
              "\n",
              "[396 rows x 6 columns]"
            ]
          },
          "metadata": {
            "tags": []
          },
          "execution_count": 8
        }
      ]
    },
    {
      "cell_type": "markdown",
      "metadata": {
        "id": "L5vgngD-ZhAh"
      },
      "source": [
        "# Main"
      ]
    },
    {
      "cell_type": "code",
      "metadata": {
        "id": "R9FrpaJWZi36"
      },
      "source": [
        ""
      ],
      "execution_count": null,
      "outputs": []
    },
    {
      "cell_type": "markdown",
      "metadata": {
        "id": "2R8ePYhok8rs"
      },
      "source": [
        "# References\r\n",
        "\r\n",
        "https://github.com/ranaroussi/yfinance/tree/master/yfinance\r\n",
        "\r\n",
        "https://github.com/peterlacour/finpie\r\n",
        "\r\n",
        "https://github.com/mariostoev/finviz\r\n",
        "\r\n",
        "https://github.com/lit26/finvizfinance"
      ]
    },
    {
      "cell_type": "code",
      "metadata": {
        "id": "o1LaE9v1dvRR"
      },
      "source": [
        ""
      ],
      "execution_count": null,
      "outputs": []
    }
  ]
}