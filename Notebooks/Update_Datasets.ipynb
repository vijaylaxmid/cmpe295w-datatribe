{
  "nbformat": 4,
  "nbformat_minor": 0,
  "metadata": {
    "colab": {
      "name": "Update_Datasets.ipynb",
      "provenance": [],
      "collapsed_sections": []
    },
    "kernelspec": {
      "display_name": "Python 3",
      "name": "python3"
    }
  },
  "cells": [
    {
      "cell_type": "markdown",
      "metadata": {
        "id": "2R8ePYhok8rs"
      },
      "source": [
        "# References\n",
        "\n",
        "https://github.com/ranaroussi/yfinance/tree/master/yfinance\n",
        "\n",
        "https://github.com/peterlacour/finpie\n",
        "\n",
        "https://github.com/mariostoev/finviz\n",
        "\n",
        "https://github.com/lit26/finvizfinance\n",
        "\n",
        "https://stackoverflow.com/questions/61154530/calling-back-end-api-of-cnbc-in-python\n",
        "\n",
        "https://github.com/wilsonfreitas/awesome-quant#python"
      ]
    },
    {
      "cell_type": "markdown",
      "metadata": {
        "id": "JFrlEwd3k51e"
      },
      "source": [
        "# Update Datasets\n",
        "\n",
        "Outline:\n",
        "\n",
        "- PreReq\n",
        "- Ticker List\n",
        "- Static Data:\n",
        "-- Quotes\n",
        "-- Description\n",
        "-- Fundamental\n",
        "- Live Data:\n",
        "-- Intraday Quotes\n",
        "-- News"
      ]
    },
    {
      "cell_type": "markdown",
      "metadata": {
        "id": "bzRBOHJ9lggy"
      },
      "source": [
        "## Pre-Requisites"
      ]
    },
    {
      "cell_type": "markdown",
      "metadata": {
        "id": "zzmOtjjDlrGj"
      },
      "source": [
        "### G-Drive Connect\n",
        "Authorise google colaboratory to access drive."
      ]
    },
    {
      "cell_type": "code",
      "metadata": {
        "id": "CsKWSxVdk2xA"
      },
      "source": [
        "from google.colab import drive\n",
        "drive.mount('/content/drive')\n",
        "from IPython.display import clear_output \n",
        "clear_output()"
      ],
      "execution_count": 1,
      "outputs": []
    },
    {
      "cell_type": "markdown",
      "metadata": {
        "id": "ZGmTUMV3hzr1"
      },
      "source": [
        "### Requirements"
      ]
    },
    {
      "cell_type": "code",
      "metadata": {
        "id": "zawoEri-h2QW"
      },
      "source": [
        "!pip install yfinance finvizfinance finviz finpie yahoo_fin\n",
        "clear_output()"
      ],
      "execution_count": 2,
      "outputs": []
    },
    {
      "cell_type": "markdown",
      "metadata": {
        "id": "DgVidgmhhhg9"
      },
      "source": [
        "### Import dependencies"
      ]
    },
    {
      "cell_type": "code",
      "metadata": {
        "id": "dzNzArDOhorw"
      },
      "source": [
        "import pandas as pd\n",
        "import finpie\n",
        "import yfinance as yf\n",
        "import finviz\n",
        "import finvizfinance\n",
        "import time\n",
        "import progressbar\n",
        "from finvizfinance.screener.overview import Overview\n",
        "from yahoo_fin import stock_info as si\n",
        "import requests\n",
        "from pandas_datareader import data as pdr\n",
        "import warnings\n",
        "warnings.filterwarnings(\"ignore\")\n",
        "clear_output()"
      ],
      "execution_count": 3,
      "outputs": []
    },
    {
      "cell_type": "markdown",
      "metadata": {
        "id": "1NfXwBuGR2wc"
      },
      "source": [
        "## Static Data\n",
        "\n",
        "The static data records the historic price values for the equities. This should be updated after the markets close at 8 pm EST."
      ]
    },
    {
      "cell_type": "markdown",
      "metadata": {
        "id": "QGIWcR5bPSF-"
      },
      "source": [
        "### Ticker List\n",
        "The ticker symbol list needs to be updated as new symbols are being listed/delisted everyday."
      ]
    },
    {
      "cell_type": "code",
      "metadata": {
        "id": "6KiYwfCyPXhO"
      },
      "source": [
        "def update_ticker_list():\n",
        "  # Download latest ticker list from Nasdaq\n",
        "  ticker_list=finpie.nasdaq_tickers()\n",
        "  # Select Symbol Column\n",
        "  ticker_list=ticker_list['Symbol']\n",
        "  # Save ticker list to csv\n",
        "  ticker_list.to_csv('/content/drive/My Drive/Master Project/Dataset/stocks_ticker_list_latest/symbols.csv',index=None)\n",
        "  # Download latest ticker list in S&P500\n",
        "  sp500_ticker_list = si.tickers_sp500(include_company_data=True)\n",
        "  # Select Symbol Column\n",
        "  sp500_ticker_list=sp500_ticker_list['Symbol']\n",
        "  # Save ticker list to csv\n",
        "  sp500_ticker_list.to_csv('/content/drive/My Drive/Master Project/Dataset/stocks_ticker_list_latest/S&P500.csv',index=None)"
      ],
      "execution_count": 4,
      "outputs": []
    },
    {
      "cell_type": "markdown",
      "metadata": {
        "id": "s_oxegp0RzlK"
      },
      "source": [
        "### Stock Data\n",
        "\n",
        "The download functionality takes about 3 hours to completely download historic data for all 9000+ symbols. Modify your search criteria for downloading datasets to save time."
      ]
    },
    {
      "cell_type": "code",
      "metadata": {
        "id": "GwNoU584T_wq"
      },
      "source": [
        "def set_status(ticker_number,fname):\n",
        "  ticker_number=str(ticker_number)\n",
        "  with open(f'/content/drive/My Drive/Master Project/Dataset/logs/{fname}_data_update_stat.txt', 'w') as writefile:\n",
        "      writefile.write(ticker_number)"
      ],
      "execution_count": 5,
      "outputs": []
    },
    {
      "cell_type": "code",
      "metadata": {
        "id": "MskzDlZJbqm_"
      },
      "source": [
        "def get_status(fname):\n",
        "  ticker_number=0\n",
        "  try:\n",
        "    with open(f'/content/drive/My Drive/Master Project/Dataset/logs/{fname}_data_update_stat.txt', 'r') as logfile:\n",
        "      ticker_number=int(logfile.read())\n",
        "  except:\n",
        "    pass\n",
        "  return ticker_number"
      ],
      "execution_count": 6,
      "outputs": []
    },
    {
      "cell_type": "code",
      "metadata": {
        "id": "x5DzXe_lNsiw"
      },
      "source": [
        "def fetching_news(ticker,url=\"https://api.queryly.com/cnbc/json.aspx\"):\n",
        "  #stock_fundamentals=finpie.Fundamentals(ticker)\n",
        "  #stock_profile=stock_fundamentals.profile()\n",
        "  #company=stock_profile['company_name'][0]\n",
        "  #ticker=\"AAPL\"\n",
        "  #company=\"Apple Inc\"\n",
        "  #search_query=company+\" \"+ticker\n",
        "  #search_query=company\n",
        "  search_query=ticker\n",
        "  params = {\n",
        "      \"queryly_key\": \"31a35d40a9a64ab3\",\n",
        "      \"query\": search_query,\n",
        "      \"endindex\": \"0\",\n",
        "      \"batchsize\": \"100\",\n",
        "      \"callback\": \"\",\n",
        "      \"showfaceted\": \"true\",\n",
        "      \"timezoneoffset\": \"-120\",\n",
        "      \"facetedfields\": \"formats\",\n",
        "      \"facetedkey\": \"formats|\",\n",
        "      \"facetedvalue\":\n",
        "      \"!Press Release|\",\n",
        "      \"needtoptickers\": \"1\",\n",
        "      \"additionalindexes\": \"4cd6f71fbf22424d,937d600b0d0d4e23,3bfbe40caee7443e,626fdfcd96444f28\"\n",
        "  }\n",
        "  header = [\"cn:title\", \"_pubDate\", \"cn:liveURL\", \"description\"]\n",
        "  with requests.Session() as req:\n",
        "      allin = []\n",
        "      for page, item in enumerate(range(0, 100000, 100)):\n",
        "          #print(f\"Extracting Page# {page +1}\")\n",
        "          params[\"endindex\"] = item\n",
        "          r = req.get(url, params=params).json()\n",
        "          empty=True\n",
        "          for loop in r['results']:\n",
        "            allin.append([loop[x] for x in header])\n",
        "            empty=False\n",
        "          if empty:\n",
        "            break\n",
        "  result = pd.DataFrame(allin, columns=[\"Title\", \"Date\", \"Url\", \"Description\"])\n",
        "  result.to_csv('/content/drive/My Drive/Master Project/Dataset/stock_market_datasets/news_data/{}.csv'.format(ticker),index=False)\n",
        "  return result"
      ],
      "execution_count": 7,
      "outputs": []
    },
    {
      "cell_type": "code",
      "metadata": {
        "id": "XnHn65O2nPXG"
      },
      "source": [
        "def fetch_option_chain(ticker):\n",
        "  calls,puts=finpie.yahoo_option_chain(ticker)\n",
        "  calls.to_csv('/content/drive/My Drive/Master Project/Dataset/stock_market_datasets/option_chain/{}_calls.csv'.format(ticker))\n",
        "  puts.to_csv('/content/drive/My Drive/Master Project/Dataset/stock_market_datasets/option_chain/{}_puts.csv'.format(ticker))"
      ],
      "execution_count": 8,
      "outputs": []
    },
    {
      "cell_type": "code",
      "metadata": {
        "id": "JpTPehKxF6ID"
      },
      "source": [
        "def fetch_historic_price(ticker):\n",
        "  data=finpie.historical_prices(ticker)\n",
        "  data.to_csv('/content/drive/My Drive/Master Project/Dataset/stock_market_datasets/market_historic/{}.csv'.format(ticker))"
      ],
      "execution_count": 9,
      "outputs": []
    },
    {
      "cell_type": "code",
      "metadata": {
        "id": "kDh0Hk3pFr7f"
      },
      "source": [
        "def fetch_ticker_profile(ticker):\n",
        "  stock=finpie.Fundamentals(ticker)\n",
        "  data=stock.profile().join(stock.key_metrics())\n",
        "  data.to_csv('/content/drive/My Drive/Master Project/Dataset/stock_market_datasets/stock_profile/{}.csv'.format(ticker))"
      ],
      "execution_count": 10,
      "outputs": []
    },
    {
      "cell_type": "code",
      "metadata": {
        "id": "vFSSbH1OYP_p"
      },
      "source": [
        "def combine_dfs(ticker):\n",
        "  main=pd.read_csv(f'/content/drive/My Drive/Master Project/Dataset/stock_market_datasets/market_historic/{ticker}.csv')\n",
        "  news=pd.read_csv(f'/content/drive/My Drive/Master Project/Dataset/stock_market_datasets/news_data/{ticker}.csv')\n",
        "  main=main.set_index('date')\n",
        "  news['Date']=news['Date'].astype('datetime64[D]')\n",
        "  news=news.drop(columns=[\"Url\",\"Description\"])\n",
        "  news=news.rename(columns={\"Date\":\"date\",\"Title\":\"headline\"})\n",
        "  news=news.groupby('date').agg({'headline': ' '.join})\n",
        "  news['headline_vec']=news['headline']\n",
        "  i=0\n",
        "  for x in news['headline']:\n",
        "    news['headline_vec'][i]=int.from_bytes(bytes=x.encode(),byteorder='big')\n",
        "    i+=1\n",
        "  combine=main.join(news,sort=True)\n",
        "  combine=combine.dropna()\n",
        "  combine.to_csv(f'/content/drive/My Drive/Master Project/Dataset/stock_market_datasets/combined/{ticker}.csv')"
      ],
      "execution_count": 11,
      "outputs": []
    },
    {
      "cell_type": "code",
      "metadata": {
        "id": "ZZc2z-Cl7fam"
      },
      "source": [
        "def update_historical_data(letter=\"sp500\"):\n",
        "  symbols=pd.read_csv('/content/drive/My Drive/Master Project/Dataset/stocks_ticker_list_latest/symbols.csv')\n",
        "  if letter == \"all\":\n",
        "    symbols=pd.read_csv('/content/drive/My Drive/Master Project/Dataset/stocks_ticker_list_latest/symbols.csv')\n",
        "  elif letter == \"sp500\":\n",
        "    symbols=pd.read_csv('/content/drive/My Drive/Master Project/Dataset/stocks_ticker_list_latest/S&P500.csv')\n",
        "  else:\n",
        "    symbols=symbols[[x.startswith(letter) for x in symbols['Symbol']]]\n",
        "\n",
        "  bar = progressbar.ProgressBar(\n",
        "      widgets=[\n",
        "          progressbar.Counter(format='%(value)5d/%(max_value)d | %(dynamic_messages)6s | '),\n",
        "          progressbar.Timer(format= 'Elapsed: %(elapsed)s '),\n",
        "          progressbar.Bar('*'),\n",
        "          ' ',\n",
        "          progressbar.AdaptiveETA(),\n",
        "      ],\n",
        "  )\n",
        "  log_start=get_status(letter)\n",
        "  shift=0\n",
        "  for symbol in bar(symbols['Symbol'][log_start:]):\n",
        "    try:\n",
        "      bar.dynamic_messages=symbol\n",
        "      fetch_ticker_profile(symbol)\n",
        "      fetch_historic_price(symbol)\n",
        "      fetch_option_chain(symbol)\n",
        "      fetching_news(symbol)\n",
        "      #combine_dfs(symbol)\n",
        "      shift+=1\n",
        "      val=(log_start+shift)%symbols.last_valid_index()\n",
        "      set_status(val,letter)\n",
        "    except:\n",
        "      pass\n",
        "  set_status(0,letter)"
      ],
      "execution_count": 12,
      "outputs": []
    },
    {
      "cell_type": "markdown",
      "metadata": {
        "id": "V0F52iuU7u6A"
      },
      "source": [
        "## Latest Intraday (2 years)"
      ]
    },
    {
      "cell_type": "code",
      "metadata": {
        "id": "y96iSY7lzHN9"
      },
      "source": [
        "def fetch_intraday_price(data,symbols):\n",
        "  list_type=\"intraday\"\n",
        "  bar = progressbar.ProgressBar(\n",
        "      widgets=[\n",
        "          progressbar.Counter(format='Saving to File | %(value)5d/%(max_value)d | %(dynamic_messages)6s | '),\n",
        "          progressbar.Timer(format= 'Elapsed: %(elapsed)s '),\n",
        "          progressbar.Bar('*'),\n",
        "          ' ',\n",
        "          progressbar.AdaptiveETA(),\n",
        "      ],\n",
        "  )\n",
        "  log_start=get_status(list_type)\n",
        "  shift=0\n",
        "  for symbol in bar(symbols['Symbol'][log_start:]):\n",
        "    try:\n",
        "      bar.dynamic_messages=symbol\n",
        "      stock=data[symbol]\n",
        "      stock.dropna(inplace=True)\n",
        "      stock.to_csv(f'/content/drive/My Drive/Master Project/Dataset/stock_market_datasets/market_intraday/{symbol}.csv')\n",
        "      shift+=1\n",
        "      val=(log_start+shift)%symbols.last_valid_index()\n",
        "      set_status(val,letter)\n",
        "    except:\n",
        "      pass\n",
        "  set_status(0,list_type)\n",
        "  clear_output()"
      ],
      "execution_count": 13,
      "outputs": []
    },
    {
      "cell_type": "code",
      "metadata": {
        "id": "ev9CstHal4KK"
      },
      "source": [
        "def update_intraday_master(letter=\"sp500\"):\n",
        "  symbols=pd.read_csv('/content/drive/My Drive/Master Project/Dataset/stocks_ticker_list_latest/symbols.csv')\n",
        "  if letter == \"all\":\n",
        "    symbols=pd.read_csv('/content/drive/My Drive/Master Project/Dataset/stocks_ticker_list_latest/symbols.csv')\n",
        "  elif letter == \"sp500\":\n",
        "    symbols=pd.read_csv('/content/drive/My Drive/Master Project/Dataset/stocks_ticker_list_latest/S&P500.csv')\n",
        "  else:\n",
        "    symbols=symbols[[x.startswith(letter) for x in symbols['Symbol']]]\n",
        "  stock_list=\"\"\n",
        "  i=1\n",
        "  for x in symbols['Symbol']:\n",
        "    if i==1:\n",
        "      stock_list+=x\n",
        "      i=2\n",
        "    else:\n",
        "      stock_list+=\" \"+x  \n",
        "  yf.pdr_override()\n",
        "  data=pdr.get_data_yahoo(stock_list,interval='60m',period='2y',group_by='ticker')\n",
        "  data.to_csv(f'/content/drive/My Drive/Master Project/Dataset/stock_market_datasets/market_intraday/__master_dataset_{letter}__.csv')\n",
        "  clear_output()\n",
        "  fetch_intraday_price(data,symbols)"
      ],
      "execution_count": 14,
      "outputs": []
    },
    {
      "cell_type": "code",
      "metadata": {
        "id": "IYD3Rutw2KcE"
      },
      "source": [
        "#update_intraday_master()"
      ],
      "execution_count": 15,
      "outputs": []
    },
    {
      "cell_type": "code",
      "metadata": {
        "id": "id8D5PQshp5N"
      },
      "source": [
        "#data['AAPL'][data['AAPL']['Volume']<10000]"
      ],
      "execution_count": 16,
      "outputs": []
    },
    {
      "cell_type": "code",
      "metadata": {
        "id": "SI0RK2BFNY7z"
      },
      "source": [
        "symbols=pd.read_csv('/content/drive/My Drive/Master Project/Dataset/stocks_ticker_list_latest/S&P500.csv')\n",
        "stock_list=\"\"\n",
        "i=1\n",
        "for x in symbols['Symbol']:\n",
        "  if i==1:\n",
        "    stock_list+=x\n",
        "    i=2\n",
        "  else:\n",
        "    stock_list+=\" \"+x  "
      ],
      "execution_count": 17,
      "outputs": []
    },
    {
      "cell_type": "code",
      "metadata": {
        "id": "uxO_GKacPFag"
      },
      "source": [
        "#data=yf.download(stock_list,interval='60m',period='2y',group_by='ticker')\n",
        "#data=pdr.get_data_yahoo(stock_list,period='2y',group_by='ticker')"
      ],
      "execution_count": 18,
      "outputs": []
    },
    {
      "cell_type": "code",
      "metadata": {
        "id": "ADU-mc3MSXRn"
      },
      "source": [
        "#data.to_csv(f'/content/drive/My Drive/Master Project/Dataset/stock_market_datasets/market_historic/__master_dataset_sp500__.csv')"
      ],
      "execution_count": 19,
      "outputs": []
    },
    {
      "cell_type": "markdown",
      "metadata": {
        "id": "L5vgngD-ZhAh"
      },
      "source": [
        "# Main"
      ]
    },
    {
      "cell_type": "code",
      "metadata": {
        "id": "R9FrpaJWZi36"
      },
      "source": [
        "update_ticker_list()"
      ],
      "execution_count": 20,
      "outputs": []
    },
    {
      "cell_type": "code",
      "metadata": {
        "id": "-z8PtzsWv-6v"
      },
      "source": [
        "update_intraday_master(\"MSFT\")"
      ],
      "execution_count": 21,
      "outputs": []
    },
    {
      "cell_type": "code",
      "metadata": {
        "colab": {
          "base_uri": "https://localhost:8080/"
        },
        "id": "vpxbLS1EmO3g",
        "outputId": "970abbf4-c558-4e6c-8f13-86a1da5955dc"
      },
      "source": [
        "update_historical_data(\"sp500\")"
      ],
      "execution_count": null,
      "outputs": [
        {
          "output_type": "stream",
          "text": [
            "    5/486 |   GOOG | Elapsed: 0:00:44 |                        | ETA:   1:10:31"
          ],
          "name": "stderr"
        }
      ]
    },
    {
      "cell_type": "code",
      "metadata": {
        "id": "rwQpWqTH84LD"
      },
      "source": [
        "#print(\"Sample News Data\")\n",
        "#fetching_news(\"GME\")"
      ],
      "execution_count": null,
      "outputs": []
    },
    {
      "cell_type": "code",
      "metadata": {
        "id": "WzBtmpltZUIv"
      },
      "source": [
        "#combine_dfs(\"AAPL\")"
      ],
      "execution_count": null,
      "outputs": []
    },
    {
      "cell_type": "code",
      "metadata": {
        "id": "t4DtMFJ6UrHv"
      },
      "source": [
        "#df=fetching_news(\"S&P 500\",\"https://api.queryly.com/cnbc/json.aspx\")\n",
        "#df"
      ],
      "execution_count": null,
      "outputs": []
    },
    {
      "cell_type": "code",
      "metadata": {
        "id": "SOytYBnuxKXF"
      },
      "source": [
        "#sp500_ticker_list = si.tickers_sp500(include_company_data=True)\n",
        "#sp500_ticker_list"
      ],
      "execution_count": null,
      "outputs": []
    },
    {
      "cell_type": "code",
      "metadata": {
        "id": "sw8O5N09MFsl"
      },
      "source": [
        "#all=si.tickers_nasdaq(include_company_data=True)\n",
        "#all"
      ],
      "execution_count": null,
      "outputs": []
    },
    {
      "cell_type": "code",
      "metadata": {
        "id": "dsk3Y5ydrXkP"
      },
      "source": [
        "#pandas.concat([df1,df2]).drop_duplicates().reset_index(drop=True)"
      ],
      "execution_count": null,
      "outputs": []
    }
  ]
}